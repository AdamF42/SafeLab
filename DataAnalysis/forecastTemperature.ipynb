{
 "cells": [
  {
   "cell_type": "code",
   "execution_count": 1,
   "metadata": {},
   "outputs": [],
   "source": [
    "from influxdb_client import InfluxDBClient\n",
    "\n",
    "import pandas as pd\n",
    "\n",
    "from statsmodels.tsa.statespace.sarimax import SARIMAX\n",
    "\n",
    "import matplotlib.pyplot as plt\n",
    "from sklearn.metrics import mean_squared_error, mean_absolute_error"
   ]
  },
  {
   "cell_type": "code",
   "execution_count": 2,
   "metadata": {},
   "outputs": [],
   "source": [
    "#Auth parameters\n",
    "my_token = \"yaKfFeAsha8tNAZxvYeZBMmq-khO8tz-6Ut_PARgohiWzeW2j8BB86ND33Qbq7hR8bylmOROPQAUr-7M103_Yw==\"\n",
    "my_org = \"iot-org\"\n",
    "bucket = \"iot-demo\"\n",
    "client = InfluxDBClient(url=\"http://192.168.1.100:9999\", token=my_token, org=my_org, debug=False)"
   ]
  },
  {
   "cell_type": "code",
   "execution_count": 10,
   "metadata": {},
   "outputs": [],
   "source": [
    "days = '9d'\n",
    "n_days = 9\n",
    "\n",
    "queryTemperature = '''\n",
    "from(bucket: \"iot-demo\")\n",
    "  |> range(start: -%s, stop: now())\n",
    "  |> filter(fn: (r) => r[\"_measurement\"] == \"temperature\")\n",
    "  |> filter(fn: (r) => r[\"device\"] == \"RoomWeather\")\n",
    "  |> aggregateWindow(every: 10m, fn: median)\n",
    "  ''' % days\n",
    "\n",
    "queryHumidity = '''\n",
    "from(bucket: \"iot-demo\")\n",
    "  |> range(start: -%s, stop: now())\n",
    "  |> filter(fn: (r) => r[\"_measurement\"] == \"humidity\")\n",
    "  |> filter(fn: (r) => r[\"device\"] == \"RoomWeather\")\n",
    "  |> aggregateWindow(every: 10m, fn: median)\n",
    "  ''' % days\n",
    "\n",
    "queryPressure = '''\n",
    "from(bucket: \"iot-demo\")\n",
    "  |> range(start: -%s, stop: now())\n",
    "  |> filter(fn: (r) => r[\"_measurement\"] == \"pressure\")\n",
    "  |> filter(fn: (r) => r[\"device\"] == \"RoomWeather\")\n",
    "  |> aggregateWindow(every: 10m, fn: median)\n",
    "  ''' % days\n",
    "\n",
    "queryPeople = '''\n",
    "from(bucket: \"iot-demo\")\n",
    "  |> range(start: -%s, stop: now())\n",
    "  |> filter(fn: (r) => r[\"_measurement\"] == \"people\")\n",
    "  |> filter(fn: (r) => r[\"device\"] == \"peopleCounter\")\n",
    "  |> toFloat()\n",
    "  |> aggregateWindow(every: 5m, fn: median)\n",
    "  |> yield(name: \"median\")\n",
    "  ''' % days"
   ]
  },
  {
   "cell_type": "markdown",
   "metadata": {},
   "source": [
    "# Query InfluxDB and return a Dataframe"
   ]
  },
  {
   "cell_type": "code",
   "execution_count": 6,
   "metadata": {},
   "outputs": [],
   "source": [
    "dfTemp = client.query_api().query_data_frame(org=my_org, query=queryTemperature)"
   ]
  },
  {
   "cell_type": "code",
   "execution_count": 7,
   "metadata": {},
   "outputs": [],
   "source": [
    "dfHum = client.query_api().query_data_frame(org=my_org, query=queryHumidity)"
   ]
  },
  {
   "cell_type": "code",
   "execution_count": 8,
   "metadata": {},
   "outputs": [],
   "source": [
    "dfPress = client.query_api().query_data_frame(org=my_org, query=queryPressure)"
   ]
  },
  {
   "cell_type": "code",
   "execution_count": 11,
   "metadata": {},
   "outputs": [],
   "source": [
    "dfPeople = client.query_api().query_data_frame(org=my_org, query=queryPeople)"
   ]
  },
  {
   "cell_type": "code",
   "execution_count": 12,
   "metadata": {},
   "outputs": [
    {
     "data": {
      "text/html": [
       "<div>\n",
       "<style scoped>\n",
       "    .dataframe tbody tr th:only-of-type {\n",
       "        vertical-align: middle;\n",
       "    }\n",
       "\n",
       "    .dataframe tbody tr th {\n",
       "        vertical-align: top;\n",
       "    }\n",
       "\n",
       "    .dataframe thead th {\n",
       "        text-align: right;\n",
       "    }\n",
       "</style>\n",
       "<table border=\"1\" class=\"dataframe\">\n",
       "  <thead>\n",
       "    <tr style=\"text-align: right;\">\n",
       "      <th></th>\n",
       "      <th>temperature</th>\n",
       "      <th>humidity</th>\n",
       "      <th>pressure</th>\n",
       "      <th>people</th>\n",
       "    </tr>\n",
       "    <tr>\n",
       "      <th>time</th>\n",
       "      <th></th>\n",
       "      <th></th>\n",
       "      <th></th>\n",
       "      <th></th>\n",
       "    </tr>\n",
       "  </thead>\n",
       "  <tbody>\n",
       "    <tr>\n",
       "      <th>2020-07-07 12:10:00+00:00</th>\n",
       "      <td>29.25</td>\n",
       "      <td>46.9</td>\n",
       "      <td>NaN</td>\n",
       "      <td>NaN</td>\n",
       "    </tr>\n",
       "    <tr>\n",
       "      <th>2020-07-07 12:15:00+00:00</th>\n",
       "      <td>NaN</td>\n",
       "      <td>NaN</td>\n",
       "      <td>NaN</td>\n",
       "      <td>NaN</td>\n",
       "    </tr>\n",
       "    <tr>\n",
       "      <th>2020-07-07 12:20:00+00:00</th>\n",
       "      <td>NaN</td>\n",
       "      <td>46.8</td>\n",
       "      <td>NaN</td>\n",
       "      <td>NaN</td>\n",
       "    </tr>\n",
       "    <tr>\n",
       "      <th>2020-07-07 12:25:00+00:00</th>\n",
       "      <td>NaN</td>\n",
       "      <td>NaN</td>\n",
       "      <td>NaN</td>\n",
       "      <td>NaN</td>\n",
       "    </tr>\n",
       "    <tr>\n",
       "      <th>2020-07-07 12:30:00+00:00</th>\n",
       "      <td>29.40</td>\n",
       "      <td>46.5</td>\n",
       "      <td>NaN</td>\n",
       "      <td>0.0</td>\n",
       "    </tr>\n",
       "  </tbody>\n",
       "</table>\n",
       "</div>"
      ],
      "text/plain": [
       "                           temperature  humidity  pressure  people\n",
       "time                                                              \n",
       "2020-07-07 12:10:00+00:00        29.25      46.9       NaN     NaN\n",
       "2020-07-07 12:15:00+00:00          NaN       NaN       NaN     NaN\n",
       "2020-07-07 12:20:00+00:00          NaN      46.8       NaN     NaN\n",
       "2020-07-07 12:25:00+00:00          NaN       NaN       NaN     NaN\n",
       "2020-07-07 12:30:00+00:00        29.40      46.5       NaN     0.0"
      ]
     },
     "execution_count": 12,
     "metadata": {},
     "output_type": "execute_result"
    }
   ],
   "source": [
    "df = pd.DataFrame(dfTemp['_time']).rename(columns={'_time':'time'})\n",
    "df['temperature'] = dfTemp['_value']\n",
    "df['humidity'] = dfHum['_value']\n",
    "df['pressure'] = dfPress['_value']\n",
    "df['people'] = dfPeople['_value']\n",
    "df = df.set_index('time')\n",
    "df = df.asfreq(freq='300S')\n",
    "df.head()"
   ]
  },
  {
   "cell_type": "code",
   "execution_count": null,
   "metadata": {},
   "outputs": [],
   "source": [
    "points_per_day = int(len(df)/n_days) \n",
    "\n",
    "df['temperature'] = df['temperature'].fillna(method='backfill').fillna(method='ffill')\n",
    "df['humidity'] = df['humidity'].fillna(method='backfill').fillna(method='ffill')\n",
    "df['pressure'] = df['pressure'].fillna(method='backfill').fillna(method='ffill')\n",
    "df['people'] = df['people'].fillna(method='backfill').fillna(method='ffill')\n",
    "\n",
    "print(df['temperature'].isnull().sum())\n",
    "print(df['humidity'].isnull().sum())\n",
    "print(df['pressure'].isnull().sum())\n",
    "print(df['people'].isnull().sum())"
   ]
  },
  {
   "cell_type": "code",
   "execution_count": 15,
   "metadata": {},
   "outputs": [
    {
     "data": {
      "text/html": [
       "<div>\n",
       "<style scoped>\n",
       "    .dataframe tbody tr th:only-of-type {\n",
       "        vertical-align: middle;\n",
       "    }\n",
       "\n",
       "    .dataframe tbody tr th {\n",
       "        vertical-align: top;\n",
       "    }\n",
       "\n",
       "    .dataframe thead th {\n",
       "        text-align: right;\n",
       "    }\n",
       "</style>\n",
       "<table border=\"1\" class=\"dataframe\">\n",
       "  <thead>\n",
       "    <tr style=\"text-align: right;\">\n",
       "      <th></th>\n",
       "      <th>temperature</th>\n",
       "      <th>humidity</th>\n",
       "      <th>pressure</th>\n",
       "      <th>people</th>\n",
       "    </tr>\n",
       "    <tr>\n",
       "      <th>time</th>\n",
       "      <th></th>\n",
       "      <th></th>\n",
       "      <th></th>\n",
       "      <th></th>\n",
       "    </tr>\n",
       "  </thead>\n",
       "  <tbody>\n",
       "    <tr>\n",
       "      <th>2020-07-07 12:10:00+00:00</th>\n",
       "      <td>29.25</td>\n",
       "      <td>46.9</td>\n",
       "      <td>1019.5</td>\n",
       "      <td>0.0</td>\n",
       "    </tr>\n",
       "    <tr>\n",
       "      <th>2020-07-07 12:15:00+00:00</th>\n",
       "      <td>29.40</td>\n",
       "      <td>46.8</td>\n",
       "      <td>1019.5</td>\n",
       "      <td>0.0</td>\n",
       "    </tr>\n",
       "    <tr>\n",
       "      <th>2020-07-07 12:20:00+00:00</th>\n",
       "      <td>29.40</td>\n",
       "      <td>46.8</td>\n",
       "      <td>1019.5</td>\n",
       "      <td>0.0</td>\n",
       "    </tr>\n",
       "    <tr>\n",
       "      <th>2020-07-07 12:25:00+00:00</th>\n",
       "      <td>29.40</td>\n",
       "      <td>46.5</td>\n",
       "      <td>1019.5</td>\n",
       "      <td>0.0</td>\n",
       "    </tr>\n",
       "    <tr>\n",
       "      <th>2020-07-07 12:30:00+00:00</th>\n",
       "      <td>29.40</td>\n",
       "      <td>46.5</td>\n",
       "      <td>1019.5</td>\n",
       "      <td>0.0</td>\n",
       "    </tr>\n",
       "  </tbody>\n",
       "</table>\n",
       "</div>"
      ],
      "text/plain": [
       "                           temperature  humidity  pressure  people\n",
       "time                                                              \n",
       "2020-07-07 12:10:00+00:00        29.25      46.9    1019.5     0.0\n",
       "2020-07-07 12:15:00+00:00        29.40      46.8    1019.5     0.0\n",
       "2020-07-07 12:20:00+00:00        29.40      46.8    1019.5     0.0\n",
       "2020-07-07 12:25:00+00:00        29.40      46.5    1019.5     0.0\n",
       "2020-07-07 12:30:00+00:00        29.40      46.5    1019.5     0.0"
      ]
     },
     "execution_count": 15,
     "metadata": {},
     "output_type": "execute_result"
    }
   ],
   "source": [
    "df.head()"
   ]
  },
  {
   "cell_type": "markdown",
   "metadata": {},
   "source": [
    "# Save Dataframe"
   ]
  },
  {
   "cell_type": "code",
   "execution_count": 14,
   "metadata": {},
   "outputs": [],
   "source": [
    "df.to_csv(\"dataframe.csv\")\n",
    "df.to_pickle(\"dataframe.pkl\")"
   ]
  },
  {
   "cell_type": "code",
   "execution_count": 10,
   "metadata": {},
   "outputs": [],
   "source": [
    "# divide in train e test\n",
    "size = int(len(df)*0.8)\n",
    "df_train, df_test = df.iloc[:size], df.iloc[size:]"
   ]
  },
  {
   "cell_type": "code",
   "execution_count": 14,
   "metadata": {},
   "outputs": [
    {
     "data": {
      "text/html": [
       "<table class=\"simpletable\">\n",
       "<caption>SARIMAX Results</caption>\n",
       "<tr>\n",
       "  <th>Dep. Variable:</th>              <td>temperature</td>           <th>  No. Observations:  </th>    <td>576</td>  \n",
       "</tr>\n",
       "<tr>\n",
       "  <th>Model:</th>           <td>SARIMAX(1, 1, 2)x(0, 1, [], 144)</td> <th>  Log Likelihood     </th>  <td>128.330</td>\n",
       "</tr>\n",
       "<tr>\n",
       "  <th>Date:</th>                    <td>Mon, 13 Jul 2020</td>         <th>  AIC                </th> <td>-248.660</td>\n",
       "</tr>\n",
       "<tr>\n",
       "  <th>Time:</th>                        <td>16:03:54</td>             <th>  BIC                </th> <td>-232.396</td>\n",
       "</tr>\n",
       "<tr>\n",
       "  <th>Sample:</th>                     <td>07-08-2020</td>            <th>  HQIC               </th> <td>-242.239</td>\n",
       "</tr>\n",
       "<tr>\n",
       "  <th></th>                           <td>- 07-12-2020</td>           <th>                     </th>     <td> </td>   \n",
       "</tr>\n",
       "<tr>\n",
       "  <th>Covariance Type:</th>                <td>opg</td>               <th>                     </th>     <td> </td>   \n",
       "</tr>\n",
       "</table>\n",
       "<table class=\"simpletable\">\n",
       "<tr>\n",
       "     <td></td>       <th>coef</th>     <th>std err</th>      <th>z</th>      <th>P>|z|</th>  <th>[0.025</th>    <th>0.975]</th>  \n",
       "</tr>\n",
       "<tr>\n",
       "  <th>ar.L1</th>  <td>    0.6842</td> <td>    0.114</td> <td>    6.010</td> <td> 0.000</td> <td>    0.461</td> <td>    0.907</td>\n",
       "</tr>\n",
       "<tr>\n",
       "  <th>ma.L1</th>  <td>   -0.5185</td> <td>    0.118</td> <td>   -4.389</td> <td> 0.000</td> <td>   -0.750</td> <td>   -0.287</td>\n",
       "</tr>\n",
       "<tr>\n",
       "  <th>ma.L2</th>  <td>   -0.2618</td> <td>    0.040</td> <td>   -6.491</td> <td> 0.000</td> <td>   -0.341</td> <td>   -0.183</td>\n",
       "</tr>\n",
       "<tr>\n",
       "  <th>sigma2</th> <td>    0.0323</td> <td>    0.001</td> <td>   22.055</td> <td> 0.000</td> <td>    0.029</td> <td>    0.035</td>\n",
       "</tr>\n",
       "</table>\n",
       "<table class=\"simpletable\">\n",
       "<tr>\n",
       "  <th>Ljung-Box (Q):</th>          <td>86.93</td> <th>  Jarque-Bera (JB):  </th> <td>139.28</td>\n",
       "</tr>\n",
       "<tr>\n",
       "  <th>Prob(Q):</th>                <td>0.00</td>  <th>  Prob(JB):          </th>  <td>0.00</td> \n",
       "</tr>\n",
       "<tr>\n",
       "  <th>Heteroskedasticity (H):</th> <td>0.63</td>  <th>  Skew:              </th>  <td>0.01</td> \n",
       "</tr>\n",
       "<tr>\n",
       "  <th>Prob(H) (two-sided):</th>    <td>0.01</td>  <th>  Kurtosis:          </th>  <td>5.78</td> \n",
       "</tr>\n",
       "</table><br/><br/>Warnings:<br/>[1] Covariance matrix calculated using the outer product of gradients (complex-step)."
      ],
      "text/plain": [
       "<class 'statsmodels.iolib.summary.Summary'>\n",
       "\"\"\"\n",
       "                                      SARIMAX Results                                       \n",
       "============================================================================================\n",
       "Dep. Variable:                          temperature   No. Observations:                  576\n",
       "Model:             SARIMAX(1, 1, 2)x(0, 1, [], 144)   Log Likelihood                 128.330\n",
       "Date:                              Mon, 13 Jul 2020   AIC                           -248.660\n",
       "Time:                                      16:03:54   BIC                           -232.396\n",
       "Sample:                                  07-08-2020   HQIC                          -242.239\n",
       "                                       - 07-12-2020                                         \n",
       "Covariance Type:                                opg                                         \n",
       "==============================================================================\n",
       "                 coef    std err          z      P>|z|      [0.025      0.975]\n",
       "------------------------------------------------------------------------------\n",
       "ar.L1          0.6842      0.114      6.010      0.000       0.461       0.907\n",
       "ma.L1         -0.5185      0.118     -4.389      0.000      -0.750      -0.287\n",
       "ma.L2         -0.2618      0.040     -6.491      0.000      -0.341      -0.183\n",
       "sigma2         0.0323      0.001     22.055      0.000       0.029       0.035\n",
       "===================================================================================\n",
       "Ljung-Box (Q):                       86.93   Jarque-Bera (JB):               139.28\n",
       "Prob(Q):                              0.00   Prob(JB):                         0.00\n",
       "Heteroskedasticity (H):               0.63   Skew:                             0.01\n",
       "Prob(H) (two-sided):                  0.01   Kurtosis:                         5.78\n",
       "===================================================================================\n",
       "\n",
       "Warnings:\n",
       "[1] Covariance matrix calculated using the outer product of gradients (complex-step).\n",
       "\"\"\""
      ]
     },
     "execution_count": 14,
     "metadata": {},
     "output_type": "execute_result"
    }
   ],
   "source": [
    "model_t = SARIMAX(df_train.temperature, order = (1,1,2), seasonal_order = (0,1,0,144))\n",
    "results_t = model_t.fit()\n",
    "results_t.summary()"
   ]
  },
  {
   "cell_type": "code",
   "execution_count": 17,
   "metadata": {},
   "outputs": [
    {
     "name": "stdout",
     "output_type": "stream",
     "text": [
      "2020-07-12 14:00:00+00:00\n",
      "2020-07-13 13:50:00+00:00\n"
     ]
    }
   ],
   "source": [
    "print(df_test.index[0])\n",
    "print(df_test.index[len(df_test)-1])\n",
    "start_date = df_test.index[0]\n",
    "end_date = df_test.index[len(df_test)-1]"
   ]
  },
  {
   "cell_type": "code",
   "execution_count": 20,
   "metadata": {},
   "outputs": [
    {
     "data": {
      "image/png": "[encoded data removed]",
      "text/plain": [
       "<Figure size 1440x360 with 1 Axes>"
      ]
     },
     "metadata": {
      "needs_background": "light"
     },
     "output_type": "display_data"
    }
   ],
   "source": [
    "df_pred_t = results_t.predict(start = start_date, end = end_date)\n",
    "\n",
    "df_pred_t[start_date:end_date].plot(figsize = (20,5), color = \"red\")\n",
    "df_test.temperature[start_date:end_date].plot(color = \"blue\")\n",
    "plt.title(\"Predictions vs Actual\", size = 24)\n",
    "plt.show()"
   ]
  },
  {
   "cell_type": "code",
   "execution_count": 23,
   "metadata": {},
   "outputs": [
    {
     "name": "stdout",
     "output_type": "stream",
     "text": [
      "ABSOLUTE ERROR 2.1459639735896854\n",
      "MSE 5.347716315300403\n"
     ]
    }
   ],
   "source": [
    "print(\"ABSOLUTE ERROR \"+str(mean_absolute_error(df_test.temperature[start_date:end_date], df_pred_t[start_date:end_date])))\n",
    "print(\"MSE \"+str(mean_squared_error(df_test.temperature[start_date:end_date], df_pred_t[start_date:end_date])))"
   ]
  },
  {
   "cell_type": "code",
   "execution_count": null,
   "metadata": {},
   "outputs": [],
   "source": [
    "results_t.plot_diagnostics(figsize = (30,20))\n",
    "plt.show()"
   ]
  }
 ],
 "metadata": {
  "kernelspec": {
   "display_name": "Python 3",
   "language": "python",
   "name": "python3"
  },
  "language_info": {
   "codemirror_mode": {
    "name": "ipython",
    "version": 3
   },
   "file_extension": ".py",
   "mimetype": "text/x-python",
   "name": "python",
   "nbconvert_exporter": "python",
   "pygments_lexer": "ipython3",
   "version": "3.8.3"
  }
 },
 "nbformat": 4,
 "nbformat_minor": 4
}
