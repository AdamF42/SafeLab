{
 "cells": [
  {
   "cell_type": "code",
   "execution_count": null,
   "metadata": {},
   "outputs": [],
   "source": [
    "from influxdb_client import InfluxDBClient\n",
    "\n",
    "import pandas as pd\n",
    "\n",
    "from statsmodels.tsa.statespace.sarimax import SARIMAX\n",
    "\n",
    "import matplotlib.pyplot as plt\n",
    "from sklearn.metrics import mean_squared_error, mean_absolute_error"
   ]
  },
  {
   "cell_type": "code",
   "execution_count": null,
   "metadata": {},
   "outputs": [],
   "source": [
    "#Auth parameters\n",
    "my_token = \"yaKfFeAsha8tNAZxvYeZBMmq-khO8tz-6Ut_PARgohiWzeW2j8BB86ND33Qbq7hR8bylmOROPQAUr-7M103_Yw==\"\n",
    "my_org = \"iot-org\"\n",
    "bucket = \"iot-demo\"\n",
    "client = InfluxDBClient(url=\"http://192.168.1.100:9999\", token=my_token, org=my_org, debug=False)"
   ]
  },
  {
   "cell_type": "code",
   "execution_count": null,
   "metadata": {},
   "outputs": [],
   "source": [
    "days = '5d'\n",
    "n_days = 5\n",
    "\n",
    "queryTemperature = '''\n",
    "from(bucket: \"iot-demo\")\n",
    "  |> range(start: -%s, stop: now())\n",
    "  |> filter(fn: (r) => r[\"_measurement\"] == \"temperature\")\n",
    "  |> filter(fn: (r) => r[\"device\"] == \"RoomWeather\")\n",
    "  |> aggregateWindow(every: 10m, fn: median)\n",
    "  ''' % days\n",
    "\n",
    "queryHumidity = '''\n",
    "from(bucket: \"iot-demo\")\n",
    "  |> range(start: -%s, stop: now())\n",
    "  |> filter(fn: (r) => r[\"_measurement\"] == \"humidity\")\n",
    "  |> filter(fn: (r) => r[\"device\"] == \"RoomWeather\")\n",
    "  |> aggregateWindow(every: 10m, fn: median)\n",
    "  ''' % days\n",
    "\n",
    "queryPressure = '''\n",
    "from(bucket: \"iot-demo\")\n",
    "  |> range(start: -%s, stop: now())\n",
    "  |> filter(fn: (r) => r[\"_measurement\"] == \"pressure\")\n",
    "  |> filter(fn: (r) => r[\"device\"] == \"RoomWeather\")\n",
    "  |> aggregateWindow(every: 10m, fn: median)\n",
    "  ''' % days"
   ]
  },
  {
   "cell_type": "code",
   "execution_count": null,
   "metadata": {},
   "outputs": [],
   "source": [
    "#Query InfluxDB and return a Dataframe\n",
    "dfTemp = client.query_api().query_data_frame(org=my_org, query=queryTemperature)\n",
    "dfHum = client.query_api().query_data_frame(org=my_org, query=queryHumidity)\n",
    "dfPress = client.query_api().query_data_frame(org=my_org, query=queryPressure)"
   ]
  },
  {
   "cell_type": "code",
   "execution_count": null,
   "metadata": {},
   "outputs": [],
   "source": [
    "df = pd.DataFrame(dfTemp['_time']).rename(columns={'_time':'time'})\n",
    "df['temperature'] = dfTemp['_value']\n",
    "df['humidity'] = dfHum['_value']\n",
    "df['pressure'] = dfPress['_value']\n",
    "df = df.set_index('time')\n",
    "df = df.asfreq(freq='600S')\n",
    "df.head()"
   ]
  },
  {
   "cell_type": "code",
   "execution_count": null,
   "metadata": {},
   "outputs": [],
   "source": [
    "points_per_day = int(len(df)/n_days) \n",
    "\n",
    "df['temperature'] = df['temperature'].fillna(method='backfill')\n",
    "df['humidity'] = df['humidity'].fillna(method='backfill')\n",
    "df['pressure'] = df['pressure'].fillna(method='backfill').fillna(method='ffill')\n",
    "\n",
    "print(df['temperature'].isnull().sum())\n",
    "print(df['humidity'].isnull().sum())\n",
    "print(df['pressure'].isnull().sum())"
   ]
  },
  {
   "cell_type": "code",
   "execution_count": null,
   "metadata": {},
   "outputs": [],
   "source": [
    "# divide in train e test\n",
    "size = int(len(df)*0.8)\n",
    "df_train, df_test = df.iloc[:size], df.iloc[size:]"
   ]
  },
  {
   "cell_type": "code",
   "execution_count": null,
   "metadata": {},
   "outputs": [],
   "source": [
    "print(df_test.index[0])\n",
    "print(df_test.index[len(df_test)-1])"
   ]
  },
  {
   "cell_type": "code",
   "execution_count": null,
   "metadata": {},
   "outputs": [],
   "source": [
    "model_p = SARIMAX(df_train.pressure, order = (1,1,1))\n",
    "results_p = model_p.fit()\n",
    "print(results_p.summary())"
   ]
  },
  {
   "cell_type": "code",
   "execution_count": null,
   "metadata": {},
   "outputs": [],
   "source": [
    "print(df_test.index[0])\n",
    "print(df_test.index[len(df_test)-1])\n",
    "start_date = df_test.index[0]\n",
    "end_date = df_test.index[len(df_test)-1]"
   ]
  },
  {
   "cell_type": "code",
   "execution_count": null,
   "metadata": {},
   "outputs": [],
   "source": [
    "df_pred_p = results_p.predict(start = start_date, end = end_date)\n",
    "\n",
    "df_pred_p[start_date:end_date].plot(figsize = (20,5), color = \"red\")\n",
    "df_test.pressure[start_date:end_date].plot(color = \"blue\")\n",
    "plt.title(\"Predictions vs Actual\", size = 24)\n",
    "plt.show()"
   ]
  },
  {
   "cell_type": "code",
   "execution_count": null,
   "metadata": {},
   "outputs": [],
   "source": [
    "print(\"ABSOLUTE ERROR \"+str(mean_absolute_error(df_test.pressure[start_date:end_date], df_pred_p[start_date:end_date])))\n",
    "print(\"MSE \"+str(mean_squared_error(df_test.pressure[start_date:end_date], df_pred_p[start_date:end_date])))"
   ]
  },
  {
   "cell_type": "code",
   "execution_count": null,
   "metadata": {},
   "outputs": [],
   "source": [
    "results_t.plot_diagnostics(figsize = (30,20))\n",
    "plt.show()"
   ]
  }
 ],
 "metadata": {
  "kernelspec": {
   "display_name": "Python 3",
   "language": "python",
   "name": "python3"
  },
  "language_info": {
   "codemirror_mode": {
    "name": "ipython",
    "version": 3
   },
   "file_extension": ".py",
   "mimetype": "text/x-python",
   "name": "python",
   "nbconvert_exporter": "python",
   "pygments_lexer": "ipython3",
   "version": "3.8.3"
  }
 },
 "nbformat": 4,
 "nbformat_minor": 4
}
