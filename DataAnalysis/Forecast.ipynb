{
 "cells": [
  {
   "cell_type": "code",
   "execution_count": 1,
   "metadata": {},
   "outputs": [],
   "source": [
    "import pandas as pd\n",
    "import numpy as np\n",
    "import matplotlib.pyplot as plt\n",
    "import statsmodels.graphics.tsaplots as sgt\n",
    "import statsmodels.tsa.stattools as sts\n",
    "from statsmodels.tsa.arima_model import ARIMA, ARMA\n",
    "from statsmodels.tsa.statespace.sarimax import SARIMAX\n",
    "from scipy.stats.distributions import chi2 \n",
    "from math import sqrt\n",
    "import seaborn as sns\n",
    "sns.set()\n",
    "from influxdb_client import InfluxDBClient\n",
    "import warnings\n",
    "warnings.filterwarnings(\"ignore\")"
   ]
  },
  {
   "cell_type": "markdown",
   "metadata": {},
   "source": [
    "# Import Dataset"
   ]
  },
  {
   "cell_type": "code",
   "execution_count": 3,
   "metadata": {},
   "outputs": [],
   "source": [
    "#Auth parameters\n",
    "my_token = \"yaKfFeAsha8tNAZxvYeZBMmq-khO8tz-6Ut_PARgohiWzeW2j8BB86ND33Qbq7hR8bylmOROPQAUr-7M103_Yw==\"\n",
    "my_org = \"iot-org\"\n",
    "bucket = \"iot-demo\"\n",
    "client = InfluxDBClient(url=\"http://192.168.1.100:9999\", token=my_token, org=my_org, debug=False)"
   ]
  },
  {
   "cell_type": "code",
   "execution_count": 4,
   "metadata": {},
   "outputs": [],
   "source": [
    "days = '5d'\n",
    "n_days = 5\n",
    "\n",
    "queryTemperature = '''\n",
    "from(bucket: \"iot-demo\")\n",
    "  |> range(start: -%s, stop: now())\n",
    "  |> filter(fn: (r) => r[\"_measurement\"] == \"temperature\")\n",
    "  |> filter(fn: (r) => r[\"device\"] == \"RoomWeather\")\n",
    "  |> aggregateWindow(every: 10m, fn: median)\n",
    "  ''' % days\n",
    "\n",
    "queryHumidity = '''\n",
    "from(bucket: \"iot-demo\")\n",
    "  |> range(start: -%s, stop: now())\n",
    "  |> filter(fn: (r) => r[\"_measurement\"] == \"humidity\")\n",
    "  |> filter(fn: (r) => r[\"device\"] == \"RoomWeather\")\n",
    "  |> aggregateWindow(every: 10m, fn: median)\n",
    "  ''' % days\n",
    "\n",
    "queryPressure = '''\n",
    "from(bucket: \"iot-demo\")\n",
    "  |> range(start: -%s, stop: now())\n",
    "  |> filter(fn: (r) => r[\"_measurement\"] == \"pressure\")\n",
    "  |> filter(fn: (r) => r[\"device\"] == \"RoomWeather\")\n",
    "  |> aggregateWindow(every: 10m, fn: median)\n",
    "  ''' % days"
   ]
  },
  {
   "cell_type": "code",
   "execution_count": 5,
   "metadata": {},
   "outputs": [],
   "source": [
    "#Query InfluxDB and return a Dataframe\n",
    "dfTemp = client.query_api().query_data_frame(org=my_org, query=queryTemperature)\n",
    "dfHum = client.query_api().query_data_frame(org=my_org, query=queryHumidity)\n",
    "dfPress = client.query_api().query_data_frame(org=my_org, query=queryPressure)"
   ]
  },
  {
   "cell_type": "code",
   "execution_count": 6,
   "metadata": {},
   "outputs": [
    {
     "data": {
      "text/html": [
       "<div>\n",
       "<style scoped>\n",
       "    .dataframe tbody tr th:only-of-type {\n",
       "        vertical-align: middle;\n",
       "    }\n",
       "\n",
       "    .dataframe tbody tr th {\n",
       "        vertical-align: top;\n",
       "    }\n",
       "\n",
       "    .dataframe thead th {\n",
       "        text-align: right;\n",
       "    }\n",
       "</style>\n",
       "<table border=\"1\" class=\"dataframe\">\n",
       "  <thead>\n",
       "    <tr style=\"text-align: right;\">\n",
       "      <th></th>\n",
       "      <th>temperature</th>\n",
       "      <th>humidity</th>\n",
       "      <th>pressure</th>\n",
       "    </tr>\n",
       "    <tr>\n",
       "      <th>time</th>\n",
       "      <th></th>\n",
       "      <th></th>\n",
       "      <th></th>\n",
       "    </tr>\n",
       "  </thead>\n",
       "  <tbody>\n",
       "    <tr>\n",
       "      <th>2020-07-07 17:10:00+00:00</th>\n",
       "      <td>30.65</td>\n",
       "      <td>35.95</td>\n",
       "      <td>NaN</td>\n",
       "    </tr>\n",
       "    <tr>\n",
       "      <th>2020-07-07 17:20:00+00:00</th>\n",
       "      <td>30.65</td>\n",
       "      <td>35.90</td>\n",
       "      <td>NaN</td>\n",
       "    </tr>\n",
       "    <tr>\n",
       "      <th>2020-07-07 17:30:00+00:00</th>\n",
       "      <td>30.65</td>\n",
       "      <td>35.80</td>\n",
       "      <td>NaN</td>\n",
       "    </tr>\n",
       "    <tr>\n",
       "      <th>2020-07-07 17:40:00+00:00</th>\n",
       "      <td>30.70</td>\n",
       "      <td>35.60</td>\n",
       "      <td>NaN</td>\n",
       "    </tr>\n",
       "    <tr>\n",
       "      <th>2020-07-07 17:50:00+00:00</th>\n",
       "      <td>30.65</td>\n",
       "      <td>35.30</td>\n",
       "      <td>NaN</td>\n",
       "    </tr>\n",
       "  </tbody>\n",
       "</table>\n",
       "</div>"
      ],
      "text/plain": [
       "                           temperature  humidity  pressure\n",
       "time                                                      \n",
       "2020-07-07 17:10:00+00:00        30.65     35.95       NaN\n",
       "2020-07-07 17:20:00+00:00        30.65     35.90       NaN\n",
       "2020-07-07 17:30:00+00:00        30.65     35.80       NaN\n",
       "2020-07-07 17:40:00+00:00        30.70     35.60       NaN\n",
       "2020-07-07 17:50:00+00:00        30.65     35.30       NaN"
      ]
     },
     "execution_count": 6,
     "metadata": {},
     "output_type": "execute_result"
    }
   ],
   "source": [
    "df = pd.DataFrame(dfTemp['_time']).rename(columns={'_time':'time'})\n",
    "df['temperature'] = dfTemp['_value']\n",
    "df['humidity'] = dfHum['_value']\n",
    "df['pressure'] = dfPress['_value']\n",
    "df = df.set_index('time')\n",
    "df.head()"
   ]
  },
  {
   "cell_type": "code",
   "execution_count": 7,
   "metadata": {},
   "outputs": [],
   "source": [
    "df['temperature'] = df['temperature'].fillna(method='backfill')\n",
    "df['humidity'] = df['humidity'].fillna(method='backfill')\n",
    "df['pressure'] = df['pressure'].fillna(method='backfill').fillna(method='ffill')"
   ]
  },
  {
   "cell_type": "code",
   "execution_count": 8,
   "metadata": {},
   "outputs": [
    {
     "data": {
      "text/plain": [
       "144"
      ]
     },
     "execution_count": 8,
     "metadata": {},
     "output_type": "execute_result"
    }
   ],
   "source": [
    "points_per_day = int(len(df)/n_days) \n",
    "points_per_day"
   ]
  },
  {
   "cell_type": "code",
   "execution_count": 9,
   "metadata": {},
   "outputs": [
    {
     "name": "stdout",
     "output_type": "stream",
     "text": [
      "0\n",
      "0\n",
      "0\n"
     ]
    }
   ],
   "source": [
    "print(df['temperature'].isnull().sum())\n",
    "print(df['humidity'].isnull().sum())\n",
    "print(df['pressure'].isnull().sum())"
   ]
  },
  {
   "cell_type": "code",
   "execution_count": 10,
   "metadata": {},
   "outputs": [],
   "source": [
    "# divide in train e test\n",
    "size = int(len(df)*0.8)\n",
    "df_train, df_test = df.iloc[:size], df.iloc[size:]"
   ]
  },
  {
   "cell_type": "markdown",
   "metadata": {},
   "source": [
    "# Predicting temperature"
   ]
  },
  {
   "cell_type": "markdown",
   "metadata": {},
   "source": [
    "## AR Model"
   ]
  },
  {
   "cell_type": "code",
   "execution_count": 21,
   "metadata": {},
   "outputs": [
    {
     "data": {
      "text/html": [
       "<div>\n",
       "<style scoped>\n",
       "    .dataframe tbody tr th:only-of-type {\n",
       "        vertical-align: middle;\n",
       "    }\n",
       "\n",
       "    .dataframe tbody tr th {\n",
       "        vertical-align: top;\n",
       "    }\n",
       "\n",
       "    .dataframe thead th {\n",
       "        text-align: right;\n",
       "    }\n",
       "</style>\n",
       "<table border=\"1\" class=\"dataframe\">\n",
       "  <thead>\n",
       "    <tr style=\"text-align: right;\">\n",
       "      <th></th>\n",
       "      <th>temperature</th>\n",
       "      <th>humidity</th>\n",
       "      <th>pressure</th>\n",
       "    </tr>\n",
       "    <tr>\n",
       "      <th>time</th>\n",
       "      <th></th>\n",
       "      <th></th>\n",
       "      <th></th>\n",
       "    </tr>\n",
       "  </thead>\n",
       "  <tbody>\n",
       "    <tr>\n",
       "      <th>2020-07-11 17:10:00+00:00</th>\n",
       "      <td>33.30</td>\n",
       "      <td>49.4</td>\n",
       "      <td>1019.0</td>\n",
       "    </tr>\n",
       "    <tr>\n",
       "      <th>2020-07-11 17:20:00+00:00</th>\n",
       "      <td>33.00</td>\n",
       "      <td>50.6</td>\n",
       "      <td>1019.0</td>\n",
       "    </tr>\n",
       "    <tr>\n",
       "      <th>2020-07-11 17:30:00+00:00</th>\n",
       "      <td>32.90</td>\n",
       "      <td>50.8</td>\n",
       "      <td>1019.0</td>\n",
       "    </tr>\n",
       "    <tr>\n",
       "      <th>2020-07-11 17:40:00+00:00</th>\n",
       "      <td>32.70</td>\n",
       "      <td>50.8</td>\n",
       "      <td>1019.0</td>\n",
       "    </tr>\n",
       "    <tr>\n",
       "      <th>2020-07-11 17:50:00+00:00</th>\n",
       "      <td>32.65</td>\n",
       "      <td>50.8</td>\n",
       "      <td>1019.0</td>\n",
       "    </tr>\n",
       "  </tbody>\n",
       "</table>\n",
       "</div>"
      ],
      "text/plain": [
       "                           temperature  humidity  pressure\n",
       "time                                                      \n",
       "2020-07-11 17:10:00+00:00        33.30      49.4    1019.0\n",
       "2020-07-11 17:20:00+00:00        33.00      50.6    1019.0\n",
       "2020-07-11 17:30:00+00:00        32.90      50.8    1019.0\n",
       "2020-07-11 17:40:00+00:00        32.70      50.8    1019.0\n",
       "2020-07-11 17:50:00+00:00        32.65      50.8    1019.0"
      ]
     },
     "execution_count": 21,
     "metadata": {},
     "output_type": "execute_result"
    }
   ],
   "source": [
    "df_test.head()"
   ]
  },
  {
   "cell_type": "code",
   "execution_count": 22,
   "metadata": {},
   "outputs": [
    {
     "data": {
      "text/html": [
       "<div>\n",
       "<style scoped>\n",
       "    .dataframe tbody tr th:only-of-type {\n",
       "        vertical-align: middle;\n",
       "    }\n",
       "\n",
       "    .dataframe tbody tr th {\n",
       "        vertical-align: top;\n",
       "    }\n",
       "\n",
       "    .dataframe thead th {\n",
       "        text-align: right;\n",
       "    }\n",
       "</style>\n",
       "<table border=\"1\" class=\"dataframe\">\n",
       "  <thead>\n",
       "    <tr style=\"text-align: right;\">\n",
       "      <th></th>\n",
       "      <th>temperature</th>\n",
       "      <th>humidity</th>\n",
       "      <th>pressure</th>\n",
       "    </tr>\n",
       "    <tr>\n",
       "      <th>time</th>\n",
       "      <th></th>\n",
       "      <th></th>\n",
       "      <th></th>\n",
       "    </tr>\n",
       "  </thead>\n",
       "  <tbody>\n",
       "    <tr>\n",
       "      <th>2020-07-12 16:30:00+00:00</th>\n",
       "      <td>30.75</td>\n",
       "      <td>43.7</td>\n",
       "      <td>1023.5</td>\n",
       "    </tr>\n",
       "    <tr>\n",
       "      <th>2020-07-12 16:40:00+00:00</th>\n",
       "      <td>30.85</td>\n",
       "      <td>43.6</td>\n",
       "      <td>1023.5</td>\n",
       "    </tr>\n",
       "    <tr>\n",
       "      <th>2020-07-12 16:50:00+00:00</th>\n",
       "      <td>30.85</td>\n",
       "      <td>43.5</td>\n",
       "      <td>1023.5</td>\n",
       "    </tr>\n",
       "    <tr>\n",
       "      <th>2020-07-12 17:00:00+00:00</th>\n",
       "      <td>30.85</td>\n",
       "      <td>43.1</td>\n",
       "      <td>1023.5</td>\n",
       "    </tr>\n",
       "    <tr>\n",
       "      <th>2020-07-12 17:08:40.216798+00:00</th>\n",
       "      <td>30.90</td>\n",
       "      <td>43.1</td>\n",
       "      <td>1023.5</td>\n",
       "    </tr>\n",
       "  </tbody>\n",
       "</table>\n",
       "</div>"
      ],
      "text/plain": [
       "                                  temperature  humidity  pressure\n",
       "time                                                             \n",
       "2020-07-12 16:30:00+00:00               30.75      43.7    1023.5\n",
       "2020-07-12 16:40:00+00:00               30.85      43.6    1023.5\n",
       "2020-07-12 16:50:00+00:00               30.85      43.5    1023.5\n",
       "2020-07-12 17:00:00+00:00               30.85      43.1    1023.5\n",
       "2020-07-12 17:08:40.216798+00:00        30.90      43.1    1023.5"
      ]
     },
     "execution_count": 22,
     "metadata": {},
     "output_type": "execute_result"
    }
   ],
   "source": [
    "df_test.tail()"
   ]
  },
  {
   "cell_type": "code",
   "execution_count": null,
   "metadata": {},
   "outputs": [],
   "source": [
    "from datetime import datetime\n",
    "\n",
    "model_ar = SARIMAX(df_train.temperature, exog = df_train[[\"humidity\"]], order = (2,0,2), seasonal_order = (2,0,2,points_per_day))\n",
    "results_ar = model_ar.fit()\n",
    "\n",
    "start_date = datetime.fromisoformat('2020-07-11 17:10:00+00:00')\n",
    "end_date = datetime.fromisoformat('2020-07-12 17:08:40.216798+00:00')\n",
    "\n",
    "df_pred = results_ar.predict(start = start_date, end = end_date, exog = df_test[[\"humidity\"]])\n",
    "\n",
    "df_pred[start_date:end_date].plot(figsize = (20,5), color = \"red\")\n",
    "df_test.temperature[start_date:end_date].plot(color = \"blue\")\n",
    "plt.title(\"Predictions vs Actual\", size = 24)\n",
    "plt.show()"
   ]
  },
  {
   "cell_type": "code",
   "execution_count": null,
   "metadata": {},
   "outputs": [],
   "source": []
  }
 ],
 "metadata": {
  "kernelspec": {
   "display_name": "Python 3",
   "language": "python",
   "name": "python3"
  },
  "language_info": {
   "codemirror_mode": {
    "name": "ipython",
    "version": 3
   },
   "file_extension": ".py",
   "mimetype": "text/x-python",
   "name": "python",
   "nbconvert_exporter": "python",
   "pygments_lexer": "ipython3",
   "version": "3.8.3"
  }
 },
 "nbformat": 4,
 "nbformat_minor": 4
}
