{
 "cells": [
  {
   "cell_type": "markdown",
   "metadata": {},
   "source": [
    "## Importing the relevant packages"
   ]
  },
  {
   "cell_type": "code",
   "execution_count": 78,
   "metadata": {},
   "outputs": [],
   "source": [
    "import pandas as pd\n",
    "import numpy as np\n",
    "import matplotlib.pyplot as plt\n",
    "import statsmodels.graphics.tsaplots as sgt\n",
    "import statsmodels.tsa.stattools as sts\n",
    "from statsmodels.tsa.arima_model import ARIMA, ARMA\n",
    "from scipy.stats.distributions import chi2 \n",
    "from math import sqrt\n",
    "import seaborn as sns\n",
    "sns.set()"
   ]
  },
  {
   "cell_type": "code",
   "execution_count": 2,
   "metadata": {},
   "outputs": [],
   "source": [
    "from influxdb_client import InfluxDBClient"
   ]
  },
  {
   "cell_type": "code",
   "execution_count": 3,
   "metadata": {},
   "outputs": [],
   "source": [
    "import warnings\n",
    "warnings.filterwarnings(\"ignore\")"
   ]
  },
  {
   "cell_type": "markdown",
   "metadata": {},
   "source": [
    "## Importing the Data and Pre-processing "
   ]
  },
  {
   "cell_type": "code",
   "execution_count": 4,
   "metadata": {},
   "outputs": [],
   "source": [
    "#Auth parameters\n",
    "my_token = \"yaKfFeAsha8tNAZxvYeZBMmq-khO8tz-6Ut_PARgohiWzeW2j8BB86ND33Qbq7hR8bylmOROPQAUr-7M103_Yw==\"\n",
    "my_org = \"iot-org\"\n",
    "bucket = \"iot-demo\"\n",
    "client = InfluxDBClient(url=\"http://192.168.1.100:9999\", token=my_token, org=my_org, debug=False)"
   ]
  },
  {
   "cell_type": "code",
   "execution_count": 5,
   "metadata": {},
   "outputs": [],
   "source": [
    "queryTemperature = '''\n",
    "from(bucket: \"iot-demo\")\n",
    "  |> range(start: -48h, stop: now())\n",
    "  |> filter(fn: (r) => r[\"_measurement\"] == \"temperature\")\n",
    "  |> filter(fn: (r) => r[\"device\"] == \"RoomWeather\")\n",
    "  |> aggregateWindow(every: 10m, fn: median)\n",
    "  '''\n",
    "\n",
    "queryHumidity = '''\n",
    "from(bucket: \"iot-demo\")\n",
    "  |> range(start: -48h, stop: now())\n",
    "  |> filter(fn: (r) => r[\"_measurement\"] == \"humidity\")\n",
    "  |> filter(fn: (r) => r[\"device\"] == \"RoomWeather\")\n",
    "  |> aggregateWindow(every: 10m, fn: median)\n",
    "  '''\n",
    "\n",
    "queryPressure = '''\n",
    "from(bucket: \"iot-demo\")\n",
    "  |> range(start: -48h, stop: now())\n",
    "  |> filter(fn: (r) => r[\"_measurement\"] == \"pressure\")\n",
    "  |> filter(fn: (r) => r[\"device\"] == \"RoomWeather\")\n",
    "  |> aggregateWindow(every: 10m, fn: median)\n",
    "  '''"
   ]
  },
  {
   "cell_type": "code",
   "execution_count": 6,
   "metadata": {},
   "outputs": [],
   "source": [
    "#Query InfluxDB and return a Dataframe\n",
    "dfTemp = client.query_api().query_data_frame(org=my_org, query=queryTemperature)\n",
    "dfHum = client.query_api().query_data_frame(org=my_org, query=queryHumidity)\n",
    "dfPress = client.query_api().query_data_frame(org=my_org, query=queryPressure)"
   ]
  },
  {
   "cell_type": "code",
   "execution_count": 7,
   "metadata": {},
   "outputs": [
    {
     "data": {
      "text/html": [
       "<div>\n",
       "<style scoped>\n",
       "    .dataframe tbody tr th:only-of-type {\n",
       "        vertical-align: middle;\n",
       "    }\n",
       "\n",
       "    .dataframe tbody tr th {\n",
       "        vertical-align: top;\n",
       "    }\n",
       "\n",
       "    .dataframe thead th {\n",
       "        text-align: right;\n",
       "    }\n",
       "</style>\n",
       "<table border=\"1\" class=\"dataframe\">\n",
       "  <thead>\n",
       "    <tr style=\"text-align: right;\">\n",
       "      <th></th>\n",
       "      <th>result</th>\n",
       "      <th>table</th>\n",
       "      <th>_start</th>\n",
       "      <th>_stop</th>\n",
       "      <th>_field</th>\n",
       "      <th>_measurement</th>\n",
       "      <th>device</th>\n",
       "      <th>location</th>\n",
       "      <th>_value</th>\n",
       "      <th>_time</th>\n",
       "    </tr>\n",
       "  </thead>\n",
       "  <tbody>\n",
       "    <tr>\n",
       "      <th>0</th>\n",
       "      <td>_result</td>\n",
       "      <td>0</td>\n",
       "      <td>2020-07-07 15:28:23.495338+00:00</td>\n",
       "      <td>2020-07-09 15:28:23.495338+00:00</td>\n",
       "      <td>value</td>\n",
       "      <td>temperature</td>\n",
       "      <td>RoomWeather</td>\n",
       "      <td>ubuntu</td>\n",
       "      <td>NaN</td>\n",
       "      <td>2020-07-07 15:30:00+00:00</td>\n",
       "    </tr>\n",
       "    <tr>\n",
       "      <th>1</th>\n",
       "      <td>_result</td>\n",
       "      <td>0</td>\n",
       "      <td>2020-07-07 15:28:23.495338+00:00</td>\n",
       "      <td>2020-07-09 15:28:23.495338+00:00</td>\n",
       "      <td>value</td>\n",
       "      <td>temperature</td>\n",
       "      <td>RoomWeather</td>\n",
       "      <td>ubuntu</td>\n",
       "      <td>30.50</td>\n",
       "      <td>2020-07-07 15:40:00+00:00</td>\n",
       "    </tr>\n",
       "    <tr>\n",
       "      <th>2</th>\n",
       "      <td>_result</td>\n",
       "      <td>0</td>\n",
       "      <td>2020-07-07 15:28:23.495338+00:00</td>\n",
       "      <td>2020-07-09 15:28:23.495338+00:00</td>\n",
       "      <td>value</td>\n",
       "      <td>temperature</td>\n",
       "      <td>RoomWeather</td>\n",
       "      <td>ubuntu</td>\n",
       "      <td>30.45</td>\n",
       "      <td>2020-07-07 15:50:00+00:00</td>\n",
       "    </tr>\n",
       "    <tr>\n",
       "      <th>3</th>\n",
       "      <td>_result</td>\n",
       "      <td>0</td>\n",
       "      <td>2020-07-07 15:28:23.495338+00:00</td>\n",
       "      <td>2020-07-09 15:28:23.495338+00:00</td>\n",
       "      <td>value</td>\n",
       "      <td>temperature</td>\n",
       "      <td>RoomWeather</td>\n",
       "      <td>ubuntu</td>\n",
       "      <td>NaN</td>\n",
       "      <td>2020-07-07 16:00:00+00:00</td>\n",
       "    </tr>\n",
       "    <tr>\n",
       "      <th>4</th>\n",
       "      <td>_result</td>\n",
       "      <td>0</td>\n",
       "      <td>2020-07-07 15:28:23.495338+00:00</td>\n",
       "      <td>2020-07-09 15:28:23.495338+00:00</td>\n",
       "      <td>value</td>\n",
       "      <td>temperature</td>\n",
       "      <td>RoomWeather</td>\n",
       "      <td>ubuntu</td>\n",
       "      <td>30.60</td>\n",
       "      <td>2020-07-07 16:10:00+00:00</td>\n",
       "    </tr>\n",
       "  </tbody>\n",
       "</table>\n",
       "</div>"
      ],
      "text/plain": [
       "    result table                            _start  \\\n",
       "0  _result     0  2020-07-07 15:28:23.495338+00:00   \n",
       "1  _result     0  2020-07-07 15:28:23.495338+00:00   \n",
       "2  _result     0  2020-07-07 15:28:23.495338+00:00   \n",
       "3  _result     0  2020-07-07 15:28:23.495338+00:00   \n",
       "4  _result     0  2020-07-07 15:28:23.495338+00:00   \n",
       "\n",
       "                              _stop _field _measurement       device location  \\\n",
       "0  2020-07-09 15:28:23.495338+00:00  value  temperature  RoomWeather   ubuntu   \n",
       "1  2020-07-09 15:28:23.495338+00:00  value  temperature  RoomWeather   ubuntu   \n",
       "2  2020-07-09 15:28:23.495338+00:00  value  temperature  RoomWeather   ubuntu   \n",
       "3  2020-07-09 15:28:23.495338+00:00  value  temperature  RoomWeather   ubuntu   \n",
       "4  2020-07-09 15:28:23.495338+00:00  value  temperature  RoomWeather   ubuntu   \n",
       "\n",
       "   _value                      _time  \n",
       "0     NaN  2020-07-07 15:30:00+00:00  \n",
       "1   30.50  2020-07-07 15:40:00+00:00  \n",
       "2   30.45  2020-07-07 15:50:00+00:00  \n",
       "3     NaN  2020-07-07 16:00:00+00:00  \n",
       "4   30.60  2020-07-07 16:10:00+00:00  "
      ]
     },
     "execution_count": 7,
     "metadata": {},
     "output_type": "execute_result"
    }
   ],
   "source": [
    "dfTemp.head()"
   ]
  },
  {
   "cell_type": "code",
   "execution_count": 8,
   "metadata": {},
   "outputs": [
    {
     "data": {
      "text/html": [
       "<div>\n",
       "<style scoped>\n",
       "    .dataframe tbody tr th:only-of-type {\n",
       "        vertical-align: middle;\n",
       "    }\n",
       "\n",
       "    .dataframe tbody tr th {\n",
       "        vertical-align: top;\n",
       "    }\n",
       "\n",
       "    .dataframe thead th {\n",
       "        text-align: right;\n",
       "    }\n",
       "</style>\n",
       "<table border=\"1\" class=\"dataframe\">\n",
       "  <thead>\n",
       "    <tr style=\"text-align: right;\">\n",
       "      <th></th>\n",
       "      <th>result</th>\n",
       "      <th>table</th>\n",
       "      <th>_start</th>\n",
       "      <th>_stop</th>\n",
       "      <th>_field</th>\n",
       "      <th>_measurement</th>\n",
       "      <th>device</th>\n",
       "      <th>location</th>\n",
       "      <th>_value</th>\n",
       "      <th>_time</th>\n",
       "    </tr>\n",
       "  </thead>\n",
       "  <tbody>\n",
       "    <tr>\n",
       "      <th>0</th>\n",
       "      <td>_result</td>\n",
       "      <td>0</td>\n",
       "      <td>2020-07-07 15:28:24.735010+00:00</td>\n",
       "      <td>2020-07-09 15:28:24.735010+00:00</td>\n",
       "      <td>value</td>\n",
       "      <td>humidity</td>\n",
       "      <td>RoomWeather</td>\n",
       "      <td>ubuntu</td>\n",
       "      <td>41.20</td>\n",
       "      <td>2020-07-07 15:30:00+00:00</td>\n",
       "    </tr>\n",
       "    <tr>\n",
       "      <th>1</th>\n",
       "      <td>_result</td>\n",
       "      <td>0</td>\n",
       "      <td>2020-07-07 15:28:24.735010+00:00</td>\n",
       "      <td>2020-07-09 15:28:24.735010+00:00</td>\n",
       "      <td>value</td>\n",
       "      <td>humidity</td>\n",
       "      <td>RoomWeather</td>\n",
       "      <td>ubuntu</td>\n",
       "      <td>40.85</td>\n",
       "      <td>2020-07-07 15:40:00+00:00</td>\n",
       "    </tr>\n",
       "    <tr>\n",
       "      <th>2</th>\n",
       "      <td>_result</td>\n",
       "      <td>0</td>\n",
       "      <td>2020-07-07 15:28:24.735010+00:00</td>\n",
       "      <td>2020-07-09 15:28:24.735010+00:00</td>\n",
       "      <td>value</td>\n",
       "      <td>humidity</td>\n",
       "      <td>RoomWeather</td>\n",
       "      <td>ubuntu</td>\n",
       "      <td>40.10</td>\n",
       "      <td>2020-07-07 15:50:00+00:00</td>\n",
       "    </tr>\n",
       "    <tr>\n",
       "      <th>3</th>\n",
       "      <td>_result</td>\n",
       "      <td>0</td>\n",
       "      <td>2020-07-07 15:28:24.735010+00:00</td>\n",
       "      <td>2020-07-09 15:28:24.735010+00:00</td>\n",
       "      <td>value</td>\n",
       "      <td>humidity</td>\n",
       "      <td>RoomWeather</td>\n",
       "      <td>ubuntu</td>\n",
       "      <td>39.40</td>\n",
       "      <td>2020-07-07 16:00:00+00:00</td>\n",
       "    </tr>\n",
       "    <tr>\n",
       "      <th>4</th>\n",
       "      <td>_result</td>\n",
       "      <td>0</td>\n",
       "      <td>2020-07-07 15:28:24.735010+00:00</td>\n",
       "      <td>2020-07-09 15:28:24.735010+00:00</td>\n",
       "      <td>value</td>\n",
       "      <td>humidity</td>\n",
       "      <td>RoomWeather</td>\n",
       "      <td>ubuntu</td>\n",
       "      <td>38.90</td>\n",
       "      <td>2020-07-07 16:10:00+00:00</td>\n",
       "    </tr>\n",
       "  </tbody>\n",
       "</table>\n",
       "</div>"
      ],
      "text/plain": [
       "    result table                            _start  \\\n",
       "0  _result     0  2020-07-07 15:28:24.735010+00:00   \n",
       "1  _result     0  2020-07-07 15:28:24.735010+00:00   \n",
       "2  _result     0  2020-07-07 15:28:24.735010+00:00   \n",
       "3  _result     0  2020-07-07 15:28:24.735010+00:00   \n",
       "4  _result     0  2020-07-07 15:28:24.735010+00:00   \n",
       "\n",
       "                              _stop _field _measurement       device location  \\\n",
       "0  2020-07-09 15:28:24.735010+00:00  value     humidity  RoomWeather   ubuntu   \n",
       "1  2020-07-09 15:28:24.735010+00:00  value     humidity  RoomWeather   ubuntu   \n",
       "2  2020-07-09 15:28:24.735010+00:00  value     humidity  RoomWeather   ubuntu   \n",
       "3  2020-07-09 15:28:24.735010+00:00  value     humidity  RoomWeather   ubuntu   \n",
       "4  2020-07-09 15:28:24.735010+00:00  value     humidity  RoomWeather   ubuntu   \n",
       "\n",
       "   _value                      _time  \n",
       "0   41.20  2020-07-07 15:30:00+00:00  \n",
       "1   40.85  2020-07-07 15:40:00+00:00  \n",
       "2   40.10  2020-07-07 15:50:00+00:00  \n",
       "3   39.40  2020-07-07 16:00:00+00:00  \n",
       "4   38.90  2020-07-07 16:10:00+00:00  "
      ]
     },
     "execution_count": 8,
     "metadata": {},
     "output_type": "execute_result"
    }
   ],
   "source": [
    "dfHum.head()"
   ]
  },
  {
   "cell_type": "code",
   "execution_count": 9,
   "metadata": {},
   "outputs": [
    {
     "data": {
      "text/html": [
       "<div>\n",
       "<style scoped>\n",
       "    .dataframe tbody tr th:only-of-type {\n",
       "        vertical-align: middle;\n",
       "    }\n",
       "\n",
       "    .dataframe tbody tr th {\n",
       "        vertical-align: top;\n",
       "    }\n",
       "\n",
       "    .dataframe thead th {\n",
       "        text-align: right;\n",
       "    }\n",
       "</style>\n",
       "<table border=\"1\" class=\"dataframe\">\n",
       "  <thead>\n",
       "    <tr style=\"text-align: right;\">\n",
       "      <th></th>\n",
       "      <th>result</th>\n",
       "      <th>table</th>\n",
       "      <th>_start</th>\n",
       "      <th>_stop</th>\n",
       "      <th>_field</th>\n",
       "      <th>_measurement</th>\n",
       "      <th>device</th>\n",
       "      <th>location</th>\n",
       "      <th>_value</th>\n",
       "      <th>_time</th>\n",
       "    </tr>\n",
       "  </thead>\n",
       "  <tbody>\n",
       "    <tr>\n",
       "      <th>0</th>\n",
       "      <td>_result</td>\n",
       "      <td>0</td>\n",
       "      <td>2020-07-07 15:28:25.963809+00:00</td>\n",
       "      <td>2020-07-09 15:28:25.963809+00:00</td>\n",
       "      <td>value</td>\n",
       "      <td>pressure</td>\n",
       "      <td>RoomWeather</td>\n",
       "      <td>ubuntu</td>\n",
       "      <td>NaN</td>\n",
       "      <td>2020-07-07 15:30:00+00:00</td>\n",
       "    </tr>\n",
       "    <tr>\n",
       "      <th>1</th>\n",
       "      <td>_result</td>\n",
       "      <td>0</td>\n",
       "      <td>2020-07-07 15:28:25.963809+00:00</td>\n",
       "      <td>2020-07-09 15:28:25.963809+00:00</td>\n",
       "      <td>value</td>\n",
       "      <td>pressure</td>\n",
       "      <td>RoomWeather</td>\n",
       "      <td>ubuntu</td>\n",
       "      <td>NaN</td>\n",
       "      <td>2020-07-07 15:40:00+00:00</td>\n",
       "    </tr>\n",
       "    <tr>\n",
       "      <th>2</th>\n",
       "      <td>_result</td>\n",
       "      <td>0</td>\n",
       "      <td>2020-07-07 15:28:25.963809+00:00</td>\n",
       "      <td>2020-07-09 15:28:25.963809+00:00</td>\n",
       "      <td>value</td>\n",
       "      <td>pressure</td>\n",
       "      <td>RoomWeather</td>\n",
       "      <td>ubuntu</td>\n",
       "      <td>NaN</td>\n",
       "      <td>2020-07-07 15:50:00+00:00</td>\n",
       "    </tr>\n",
       "    <tr>\n",
       "      <th>3</th>\n",
       "      <td>_result</td>\n",
       "      <td>0</td>\n",
       "      <td>2020-07-07 15:28:25.963809+00:00</td>\n",
       "      <td>2020-07-09 15:28:25.963809+00:00</td>\n",
       "      <td>value</td>\n",
       "      <td>pressure</td>\n",
       "      <td>RoomWeather</td>\n",
       "      <td>ubuntu</td>\n",
       "      <td>NaN</td>\n",
       "      <td>2020-07-07 16:00:00+00:00</td>\n",
       "    </tr>\n",
       "    <tr>\n",
       "      <th>4</th>\n",
       "      <td>_result</td>\n",
       "      <td>0</td>\n",
       "      <td>2020-07-07 15:28:25.963809+00:00</td>\n",
       "      <td>2020-07-09 15:28:25.963809+00:00</td>\n",
       "      <td>value</td>\n",
       "      <td>pressure</td>\n",
       "      <td>RoomWeather</td>\n",
       "      <td>ubuntu</td>\n",
       "      <td>NaN</td>\n",
       "      <td>2020-07-07 16:10:00+00:00</td>\n",
       "    </tr>\n",
       "  </tbody>\n",
       "</table>\n",
       "</div>"
      ],
      "text/plain": [
       "    result table                            _start  \\\n",
       "0  _result     0  2020-07-07 15:28:25.963809+00:00   \n",
       "1  _result     0  2020-07-07 15:28:25.963809+00:00   \n",
       "2  _result     0  2020-07-07 15:28:25.963809+00:00   \n",
       "3  _result     0  2020-07-07 15:28:25.963809+00:00   \n",
       "4  _result     0  2020-07-07 15:28:25.963809+00:00   \n",
       "\n",
       "                              _stop _field _measurement       device location  \\\n",
       "0  2020-07-09 15:28:25.963809+00:00  value     pressure  RoomWeather   ubuntu   \n",
       "1  2020-07-09 15:28:25.963809+00:00  value     pressure  RoomWeather   ubuntu   \n",
       "2  2020-07-09 15:28:25.963809+00:00  value     pressure  RoomWeather   ubuntu   \n",
       "3  2020-07-09 15:28:25.963809+00:00  value     pressure  RoomWeather   ubuntu   \n",
       "4  2020-07-09 15:28:25.963809+00:00  value     pressure  RoomWeather   ubuntu   \n",
       "\n",
       "   _value                      _time  \n",
       "0     NaN  2020-07-07 15:30:00+00:00  \n",
       "1     NaN  2020-07-07 15:40:00+00:00  \n",
       "2     NaN  2020-07-07 15:50:00+00:00  \n",
       "3     NaN  2020-07-07 16:00:00+00:00  \n",
       "4     NaN  2020-07-07 16:10:00+00:00  "
      ]
     },
     "execution_count": 9,
     "metadata": {},
     "output_type": "execute_result"
    }
   ],
   "source": [
    "dfPress.head()"
   ]
  },
  {
   "cell_type": "code",
   "execution_count": null,
   "metadata": {},
   "outputs": [],
   "source": [
    "df = pd.DataFrame(dfTemp['_time']).rename(columns={'_time':'time'})\n",
    "df['temperature'] = dfTemp['_value']\n",
    "df['humidity'] = dfHum['_value']\n",
    "df['pressure'] = dfPress['_value']\n",
    "df = df.set_index('time')\n",
    "df.head()"
   ]
  },
  {
   "cell_type": "markdown",
   "metadata": {},
   "source": [
    "# Fill NaN values"
   ]
  },
  {
   "cell_type": "code",
   "execution_count": null,
   "metadata": {},
   "outputs": [],
   "source": [
    "df['temperature'] = df['temperature'].fillna(method='backfill')\n",
    "df['humidity'] = df['humidity'].fillna(method='backfill')\n",
    "df['pressure'] = df['pressure'].fillna(method='backfill')"
   ]
  },
  {
   "cell_type": "code",
   "execution_count": 34,
   "metadata": {},
   "outputs": [],
   "source": [
    "df_dim = len(df)"
   ]
  },
  {
   "cell_type": "markdown",
   "metadata": {},
   "source": [
    "# Split the dataset"
   ]
  },
  {
   "cell_type": "code",
   "execution_count": null,
   "metadata": {},
   "outputs": [],
   "source": [
    "# divide in train e test\n",
    "size = int(len(df)*0.8)\n",
    "df_train, df_test = df.iloc[:size], df.iloc[size:]"
   ]
  },
  {
   "cell_type": "markdown",
   "metadata": {},
   "source": [
    "# Dickey–Fuller test"
   ]
  },
  {
   "cell_type": "code",
   "execution_count": 22,
   "metadata": {},
   "outputs": [
    {
     "data": {
      "text/plain": [
       "(-3.0111832577687916,\n",
       " 0.033863141198506676,\n",
       " 13,\n",
       " 275,\n",
       " {'1%': -3.454355055831705,\n",
       "  '5%': -2.8721080938842976,\n",
       "  '10%': -2.572401325619835},\n",
       " -373.65490583735027)"
      ]
     },
     "execution_count": 22,
     "metadata": {},
     "output_type": "execute_result"
    }
   ],
   "source": [
    "sts.adfuller(df.temperature) # stazionaria"
   ]
  },
  {
   "cell_type": "code",
   "execution_count": 23,
   "metadata": {},
   "outputs": [
    {
     "data": {
      "text/plain": [
       "(-3.4671655349759107,\n",
       " 0.008871497419914144,\n",
       " 13,\n",
       " 275,\n",
       " {'1%': -3.454355055831705,\n",
       "  '5%': -2.8721080938842976,\n",
       "  '10%': -2.572401325619835},\n",
       " -55.37390730491069)"
      ]
     },
     "execution_count": 23,
     "metadata": {},
     "output_type": "execute_result"
    }
   ],
   "source": [
    "sts.adfuller(df.humidity) # stazionaria"
   ]
  },
  {
   "cell_type": "code",
   "execution_count": 25,
   "metadata": {},
   "outputs": [
    {
     "data": {
      "text/plain": [
       "(-1.1483200884396472,\n",
       " 0.6954230553310111,\n",
       " 2,\n",
       " 286,\n",
       " {'1%': -3.4534232986669546,\n",
       "  '5%': -2.8716994185534745,\n",
       "  '10%': -2.5721833625116144},\n",
       " -142.13167061605742)"
      ]
     },
     "execution_count": 25,
     "metadata": {},
     "output_type": "execute_result"
    }
   ],
   "source": [
    "sts.adfuller(df.pressure)"
   ]
  },
  {
   "cell_type": "markdown",
   "metadata": {},
   "source": [
    "## The LLR Test"
   ]
  },
  {
   "cell_type": "code",
   "execution_count": 55,
   "metadata": {},
   "outputs": [],
   "source": [
    "def LLR_test(mod_1, mod_2, DF = 1):\n",
    "    L1 = mod_1.llf\n",
    "    L2 = mod_2.llf\n",
    "    LR = (2*(L2-L1))    \n",
    "    p = chi2.sf(LR, DF).round(3)\n",
    "    return p"
   ]
  },
  {
   "cell_type": "markdown",
   "metadata": {},
   "source": [
    "## Auto Correlation Function (ACF)"
   ]
  },
  {
   "cell_type": "code",
   "execution_count": 73,
   "metadata": {},
   "outputs": [
    {
     "data": {
      "image/png": "[encoded data removed]",
      "text/plain": [
       "<Figure size 432x288 with 1 Axes>"
      ]
     },
     "metadata": {},
     "output_type": "display_data"
    }
   ],
   "source": [
    "sgt.plot_acf(df.temperature, zero = False, lags = 40)\n",
    "plt.title(\"ACF 4 temperature\", size = 20)\n",
    "plt.show()"
   ]
  },
  {
   "cell_type": "code",
   "execution_count": 72,
   "metadata": {},
   "outputs": [
    {
     "data": {
      "image/png": "[encoded data removed]",
      "text/plain": [
       "<Figure size 432x288 with 1 Axes>"
      ]
     },
     "metadata": {},
     "output_type": "display_data"
    }
   ],
   "source": [
    "sgt.plot_acf(df.humidity, zero = False, lags = 40)\n",
    "plt.title(\"ACF 4 humidity\", size = 20)\n",
    "plt.show()"
   ]
  },
  {
   "cell_type": "code",
   "execution_count": 71,
   "metadata": {},
   "outputs": [
    {
     "data": {
      "image/png": "[encoded data removed]",
      "text/plain": [
       "<Figure size 432x288 with 1 Axes>"
      ]
     },
     "metadata": {},
     "output_type": "display_data"
    }
   ],
   "source": [
    "sgt.plot_acf(df.pressure, zero = False, lags = 40)\n",
    "plt.title(\"ACF 4 pressure\", size = 20)\n",
    "plt.show()"
   ]
  },
  {
   "cell_type": "markdown",
   "metadata": {},
   "source": [
    "## Partial Auto Correlation Function (PACF)"
   ]
  },
  {
   "cell_type": "code",
   "execution_count": 50,
   "metadata": {},
   "outputs": [
    {
     "data": {
      "image/png": "[encoded data removed]",
      "text/plain": [
       "<Figure size 432x288 with 1 Axes>"
      ]
     },
     "metadata": {},
     "output_type": "display_data"
    }
   ],
   "source": [
    "sgt.plot_pacf(df.temperature, lags = 40, alpha = 0.05, zero = False, method = ('ols'))\n",
    "plt.title(\"PACF 4 temperature\", size = 20)\n",
    "plt.show()"
   ]
  },
  {
   "cell_type": "code",
   "execution_count": 65,
   "metadata": {},
   "outputs": [
    {
     "data": {
      "image/png": "[encoded data removed]",
      "text/plain": [
       "<Figure size 432x288 with 1 Axes>"
      ]
     },
     "metadata": {},
     "output_type": "display_data"
    }
   ],
   "source": [
    "sgt.plot_pacf(df.humidity, lags = 40, alpha = 0.05, zero = False, method = ('ols'))\n",
    "plt.title(\"PACF 4 humidity\", size = 20)\n",
    "plt.show()"
   ]
  },
  {
   "cell_type": "code",
   "execution_count": 48,
   "metadata": {},
   "outputs": [
    {
     "data": {
      "image/png": "[encoded data removed]",
      "text/plain": [
       "<Figure size 432x288 with 1 Axes>"
      ]
     },
     "metadata": {},
     "output_type": "display_data"
    }
   ],
   "source": [
    "sgt.plot_pacf(df.pressure, lags = df_dim/2, alpha = 0.05, zero = False, method = ('ols'))\n",
    "plt.title(\"PACF 4 pressure\", size = 20)\n",
    "plt.show()"
   ]
  },
  {
   "cell_type": "markdown",
   "metadata": {},
   "source": [
    "# Temperature"
   ]
  },
  {
   "cell_type": "markdown",
   "metadata": {},
   "source": [
    "## AR(1)"
   ]
  },
  {
   "cell_type": "code",
   "execution_count": 66,
   "metadata": {},
   "outputs": [
    {
     "data": {
      "text/html": [
       "<table class=\"simpletable\">\n",
       "<caption>ARMA Model Results</caption>\n",
       "<tr>\n",
       "  <th>Dep. Variable:</th>    <td>temperature</td>   <th>  No. Observations:  </th>    <td>289</td>  \n",
       "</tr>\n",
       "<tr>\n",
       "  <th>Model:</th>            <td>ARMA(1, 0)</td>    <th>  Log Likelihood     </th>  <td>163.576</td>\n",
       "</tr>\n",
       "<tr>\n",
       "  <th>Method:</th>             <td>css-mle</td>     <th>  S.D. of innovations</th>   <td>0.136</td> \n",
       "</tr>\n",
       "<tr>\n",
       "  <th>Date:</th>          <td>Thu, 09 Jul 2020</td> <th>  AIC                </th> <td>-321.152</td>\n",
       "</tr>\n",
       "<tr>\n",
       "  <th>Time:</th>              <td>18:58:39</td>     <th>  BIC                </th> <td>-310.153</td>\n",
       "</tr>\n",
       "<tr>\n",
       "  <th>Sample:</th>                <td>0</td>        <th>  HQIC               </th> <td>-316.745</td>\n",
       "</tr>\n",
       "<tr>\n",
       "  <th></th>                       <td> </td>        <th>                     </th>     <td> </td>   \n",
       "</tr>\n",
       "</table>\n",
       "<table class=\"simpletable\">\n",
       "<tr>\n",
       "          <td></td>             <th>coef</th>     <th>std err</th>      <th>z</th>      <th>P>|z|</th>  <th>[0.025</th>    <th>0.975]</th>  \n",
       "</tr>\n",
       "<tr>\n",
       "  <th>const</th>             <td>   30.4183</td> <td>    1.279</td> <td>   23.785</td> <td> 0.000</td> <td>   27.912</td> <td>   32.925</td>\n",
       "</tr>\n",
       "<tr>\n",
       "  <th>ar.L1.temperature</th> <td>    0.9960</td> <td>    0.004</td> <td>  277.957</td> <td> 0.000</td> <td>    0.989</td> <td>    1.003</td>\n",
       "</tr>\n",
       "</table>\n",
       "<table class=\"simpletable\">\n",
       "<caption>Roots</caption>\n",
       "<tr>\n",
       "    <td></td>   <th>            Real</th>  <th>         Imaginary</th> <th>         Modulus</th>  <th>        Frequency</th>\n",
       "</tr>\n",
       "<tr>\n",
       "  <th>AR.1</th> <td>           1.0040</td> <td>          +0.0000j</td> <td>           1.0040</td> <td>           0.0000</td>\n",
       "</tr>\n",
       "</table>"
      ],
      "text/plain": [
       "<class 'statsmodels.iolib.summary.Summary'>\n",
       "\"\"\"\n",
       "                              ARMA Model Results                              \n",
       "==============================================================================\n",
       "Dep. Variable:            temperature   No. Observations:                  289\n",
       "Model:                     ARMA(1, 0)   Log Likelihood                 163.576\n",
       "Method:                       css-mle   S.D. of innovations              0.136\n",
       "Date:                Thu, 09 Jul 2020   AIC                           -321.152\n",
       "Time:                        18:58:39   BIC                           -310.153\n",
       "Sample:                             0   HQIC                          -316.745\n",
       "                                                                              \n",
       "=====================================================================================\n",
       "                        coef    std err          z      P>|z|      [0.025      0.975]\n",
       "-------------------------------------------------------------------------------------\n",
       "const                30.4183      1.279     23.785      0.000      27.912      32.925\n",
       "ar.L1.temperature     0.9960      0.004    277.957      0.000       0.989       1.003\n",
       "                                    Roots                                    \n",
       "=============================================================================\n",
       "                  Real          Imaginary           Modulus         Frequency\n",
       "-----------------------------------------------------------------------------\n",
       "AR.1            1.0040           +0.0000j            1.0040            0.0000\n",
       "-----------------------------------------------------------------------------\n",
       "\"\"\""
      ]
     },
     "execution_count": 66,
     "metadata": {},
     "output_type": "execute_result"
    }
   ],
   "source": [
    "model_t_ar_1 = ARIMA(df.temperature, order=(1,0,0))\n",
    "results_t_ar_1 = model_t_ar_1.fit()\n",
    "results_t_ar_1.summary()"
   ]
  },
  {
   "cell_type": "markdown",
   "metadata": {},
   "source": [
    "## AR(2)"
   ]
  },
  {
   "cell_type": "code",
   "execution_count": 67,
   "metadata": {},
   "outputs": [
    {
     "data": {
      "text/html": [
       "<table class=\"simpletable\">\n",
       "<caption>ARMA Model Results</caption>\n",
       "<tr>\n",
       "  <th>Dep. Variable:</th>    <td>temperature</td>   <th>  No. Observations:  </th>    <td>289</td>  \n",
       "</tr>\n",
       "<tr>\n",
       "  <th>Model:</th>            <td>ARMA(2, 0)</td>    <th>  Log Likelihood     </th>  <td>196.905</td>\n",
       "</tr>\n",
       "<tr>\n",
       "  <th>Method:</th>             <td>css-mle</td>     <th>  S.D. of innovations</th>   <td>0.121</td> \n",
       "</tr>\n",
       "<tr>\n",
       "  <th>Date:</th>          <td>Thu, 09 Jul 2020</td> <th>  AIC                </th> <td>-385.810</td>\n",
       "</tr>\n",
       "<tr>\n",
       "  <th>Time:</th>              <td>18:58:57</td>     <th>  BIC                </th> <td>-371.144</td>\n",
       "</tr>\n",
       "<tr>\n",
       "  <th>Sample:</th>                <td>0</td>        <th>  HQIC               </th> <td>-379.933</td>\n",
       "</tr>\n",
       "<tr>\n",
       "  <th></th>                       <td> </td>        <th>                     </th>     <td> </td>   \n",
       "</tr>\n",
       "</table>\n",
       "<table class=\"simpletable\">\n",
       "<tr>\n",
       "          <td></td>             <th>coef</th>     <th>std err</th>      <th>z</th>      <th>P>|z|</th>  <th>[0.025</th>    <th>0.975]</th>  \n",
       "</tr>\n",
       "<tr>\n",
       "  <th>const</th>             <td>   29.9877</td> <td>    1.060</td> <td>   28.289</td> <td> 0.000</td> <td>   27.910</td> <td>   32.065</td>\n",
       "</tr>\n",
       "<tr>\n",
       "  <th>ar.L1.temperature</th> <td>    1.4482</td> <td>    0.052</td> <td>   27.753</td> <td> 0.000</td> <td>    1.346</td> <td>    1.550</td>\n",
       "</tr>\n",
       "<tr>\n",
       "  <th>ar.L2.temperature</th> <td>   -0.4537</td> <td>    0.052</td> <td>   -8.669</td> <td> 0.000</td> <td>   -0.556</td> <td>   -0.351</td>\n",
       "</tr>\n",
       "</table>\n",
       "<table class=\"simpletable\">\n",
       "<caption>Roots</caption>\n",
       "<tr>\n",
       "    <td></td>   <th>            Real</th>  <th>         Imaginary</th> <th>         Modulus</th>  <th>        Frequency</th>\n",
       "</tr>\n",
       "<tr>\n",
       "  <th>AR.1</th> <td>           1.0103</td> <td>          +0.0000j</td> <td>           1.0103</td> <td>           0.0000</td>\n",
       "</tr>\n",
       "<tr>\n",
       "  <th>AR.2</th> <td>           2.1818</td> <td>          +0.0000j</td> <td>           2.1818</td> <td>           0.0000</td>\n",
       "</tr>\n",
       "</table>"
      ],
      "text/plain": [
       "<class 'statsmodels.iolib.summary.Summary'>\n",
       "\"\"\"\n",
       "                              ARMA Model Results                              \n",
       "==============================================================================\n",
       "Dep. Variable:            temperature   No. Observations:                  289\n",
       "Model:                     ARMA(2, 0)   Log Likelihood                 196.905\n",
       "Method:                       css-mle   S.D. of innovations              0.121\n",
       "Date:                Thu, 09 Jul 2020   AIC                           -385.810\n",
       "Time:                        18:58:57   BIC                           -371.144\n",
       "Sample:                             0   HQIC                          -379.933\n",
       "                                                                              \n",
       "=====================================================================================\n",
       "                        coef    std err          z      P>|z|      [0.025      0.975]\n",
       "-------------------------------------------------------------------------------------\n",
       "const                29.9877      1.060     28.289      0.000      27.910      32.065\n",
       "ar.L1.temperature     1.4482      0.052     27.753      0.000       1.346       1.550\n",
       "ar.L2.temperature    -0.4537      0.052     -8.669      0.000      -0.556      -0.351\n",
       "                                    Roots                                    \n",
       "=============================================================================\n",
       "                  Real          Imaginary           Modulus         Frequency\n",
       "-----------------------------------------------------------------------------\n",
       "AR.1            1.0103           +0.0000j            1.0103            0.0000\n",
       "AR.2            2.1818           +0.0000j            2.1818            0.0000\n",
       "-----------------------------------------------------------------------------\n",
       "\"\"\""
      ]
     },
     "execution_count": 67,
     "metadata": {},
     "output_type": "execute_result"
    }
   ],
   "source": [
    "model_t_ar_2 = ARIMA(df.temperature, order=(2,0,0))\n",
    "results_t_ar_2 = model_t_ar_2.fit()\n",
    "results_t_ar_2.summary()"
   ]
  },
  {
   "cell_type": "markdown",
   "metadata": {},
   "source": [
    "## AR(3)"
   ]
  },
  {
   "cell_type": "code",
   "execution_count": 68,
   "metadata": {},
   "outputs": [
    {
     "data": {
      "text/html": [
       "<table class=\"simpletable\">\n",
       "<caption>ARMA Model Results</caption>\n",
       "<tr>\n",
       "  <th>Dep. Variable:</th>    <td>temperature</td>   <th>  No. Observations:  </th>    <td>289</td>  \n",
       "</tr>\n",
       "<tr>\n",
       "  <th>Model:</th>            <td>ARMA(3, 0)</td>    <th>  Log Likelihood     </th>  <td>197.184</td>\n",
       "</tr>\n",
       "<tr>\n",
       "  <th>Method:</th>             <td>css-mle</td>     <th>  S.D. of innovations</th>   <td>0.121</td> \n",
       "</tr>\n",
       "<tr>\n",
       "  <th>Date:</th>          <td>Thu, 09 Jul 2020</td> <th>  AIC                </th> <td>-384.369</td>\n",
       "</tr>\n",
       "<tr>\n",
       "  <th>Time:</th>              <td>18:59:14</td>     <th>  BIC                </th> <td>-366.037</td>\n",
       "</tr>\n",
       "<tr>\n",
       "  <th>Sample:</th>                <td>0</td>        <th>  HQIC               </th> <td>-377.023</td>\n",
       "</tr>\n",
       "<tr>\n",
       "  <th></th>                       <td> </td>        <th>                     </th>     <td> </td>   \n",
       "</tr>\n",
       "</table>\n",
       "<table class=\"simpletable\">\n",
       "<tr>\n",
       "          <td></td>             <th>coef</th>     <th>std err</th>      <th>z</th>      <th>P>|z|</th>  <th>[0.025</th>    <th>0.975]</th>  \n",
       "</tr>\n",
       "<tr>\n",
       "  <th>const</th>             <td>   30.0279</td> <td>    1.091</td> <td>   27.525</td> <td> 0.000</td> <td>   27.890</td> <td>   32.166</td>\n",
       "</tr>\n",
       "<tr>\n",
       "  <th>ar.L1.temperature</th> <td>    1.4682</td> <td>    0.059</td> <td>   25.051</td> <td> 0.000</td> <td>    1.353</td> <td>    1.583</td>\n",
       "</tr>\n",
       "<tr>\n",
       "  <th>ar.L2.temperature</th> <td>   -0.5174</td> <td>    0.100</td> <td>   -5.179</td> <td> 0.000</td> <td>   -0.713</td> <td>   -0.322</td>\n",
       "</tr>\n",
       "<tr>\n",
       "  <th>ar.L3.temperature</th> <td>    0.0439</td> <td>    0.059</td> <td>    0.748</td> <td> 0.454</td> <td>   -0.071</td> <td>    0.159</td>\n",
       "</tr>\n",
       "</table>\n",
       "<table class=\"simpletable\">\n",
       "<caption>Roots</caption>\n",
       "<tr>\n",
       "    <td></td>   <th>            Real</th>  <th>         Imaginary</th> <th>         Modulus</th>  <th>        Frequency</th>\n",
       "</tr>\n",
       "<tr>\n",
       "  <th>AR.1</th> <td>           1.0094</td> <td>          +0.0000j</td> <td>           1.0094</td> <td>           0.0000</td>\n",
       "</tr>\n",
       "<tr>\n",
       "  <th>AR.2</th> <td>           2.8467</td> <td>          +0.0000j</td> <td>           2.8467</td> <td>           0.0000</td>\n",
       "</tr>\n",
       "<tr>\n",
       "  <th>AR.3</th> <td>           7.9245</td> <td>          +0.0000j</td> <td>           7.9245</td> <td>           0.0000</td>\n",
       "</tr>\n",
       "</table>"
      ],
      "text/plain": [
       "<class 'statsmodels.iolib.summary.Summary'>\n",
       "\"\"\"\n",
       "                              ARMA Model Results                              \n",
       "==============================================================================\n",
       "Dep. Variable:            temperature   No. Observations:                  289\n",
       "Model:                     ARMA(3, 0)   Log Likelihood                 197.184\n",
       "Method:                       css-mle   S.D. of innovations              0.121\n",
       "Date:                Thu, 09 Jul 2020   AIC                           -384.369\n",
       "Time:                        18:59:14   BIC                           -366.037\n",
       "Sample:                             0   HQIC                          -377.023\n",
       "                                                                              \n",
       "=====================================================================================\n",
       "                        coef    std err          z      P>|z|      [0.025      0.975]\n",
       "-------------------------------------------------------------------------------------\n",
       "const                30.0279      1.091     27.525      0.000      27.890      32.166\n",
       "ar.L1.temperature     1.4682      0.059     25.051      0.000       1.353       1.583\n",
       "ar.L2.temperature    -0.5174      0.100     -5.179      0.000      -0.713      -0.322\n",
       "ar.L3.temperature     0.0439      0.059      0.748      0.454      -0.071       0.159\n",
       "                                    Roots                                    \n",
       "=============================================================================\n",
       "                  Real          Imaginary           Modulus         Frequency\n",
       "-----------------------------------------------------------------------------\n",
       "AR.1            1.0094           +0.0000j            1.0094            0.0000\n",
       "AR.2            2.8467           +0.0000j            2.8467            0.0000\n",
       "AR.3            7.9245           +0.0000j            7.9245            0.0000\n",
       "-----------------------------------------------------------------------------\n",
       "\"\"\""
      ]
     },
     "execution_count": 68,
     "metadata": {},
     "output_type": "execute_result"
    }
   ],
   "source": [
    "model_t_ar_3 = ARIMA(df.temperature, order=(3,0,0))\n",
    "results_t_ar_3 = model_t_ar_3.fit()\n",
    "results_t_ar_3.summary()"
   ]
  },
  {
   "cell_type": "code",
   "execution_count": 69,
   "metadata": {},
   "outputs": [
    {
     "name": "stdout",
     "output_type": "stream",
     "text": [
      "\n",
      "LLR test AR(1)-AR(2) = 0.0\n",
      "\n",
      "LLR test AR(2)-AR(3) = 0.455\n"
     ]
    }
   ],
   "source": [
    "print(\"\\nLLR test AR(1)-AR(2) = \" + str(LLR_test(results_t_ar_1, results_t_ar_2)))\n",
    "print(\"\\nLLR test AR(2)-AR(3) = \" + str(LLR_test(results_t_ar_2, results_t_ar_3)))"
   ]
  },
  {
   "cell_type": "code",
   "execution_count": 82,
   "metadata": {},
   "outputs": [],
   "source": [
    "from pmdarima.arima import auto_arima\n",
    "model_t_auto = auto_arima(df.temperature[1:], exogenous = df[['humidity', 'pressure']][1:], \n",
    "                        m=145, max_order = None, max_p = 7, max_q = 7, max_d = 2, max_P = 4, \n",
    "                        max_Q = 4, max_D = 2, maxiter = 50, alpha = 0.05, n_jobs = -1, trend = 'ct')\n",
    "\n",
    "\n",
    "\n"
   ]
  },
  {
   "cell_type": "code",
   "execution_count": 83,
   "metadata": {},
   "outputs": [
    {
     "data": {
      "text/html": [
       "<table class=\"simpletable\">\n",
       "<caption>SARIMAX Results</caption>\n",
       "<tr>\n",
       "  <th>Dep. Variable:</th>                  <td>y</td>                <th>  No. Observations:  </th>    <td>288</td>  \n",
       "</tr>\n",
       "<tr>\n",
       "  <th>Model:</th>           <td>SARIMAX(1, 1, 0)x(1, 0, 0, 145)</td> <th>  Log Likelihood     </th>  <td>222.624</td>\n",
       "</tr>\n",
       "<tr>\n",
       "  <th>Date:</th>                   <td>Thu, 09 Jul 2020</td>         <th>  AIC                </th> <td>-431.249</td>\n",
       "</tr>\n",
       "<tr>\n",
       "  <th>Time:</th>                       <td>20:26:39</td>             <th>  BIC                </th> <td>-405.632</td>\n",
       "</tr>\n",
       "<tr>\n",
       "  <th>Sample:</th>                         <td>0</td>                <th>  HQIC               </th> <td>-420.982</td>\n",
       "</tr>\n",
       "<tr>\n",
       "  <th></th>                             <td> - 288</td>              <th>                     </th>     <td> </td>   \n",
       "</tr>\n",
       "<tr>\n",
       "  <th>Covariance Type:</th>               <td>opg</td>               <th>                     </th>     <td> </td>   \n",
       "</tr>\n",
       "</table>\n",
       "<table class=\"simpletable\">\n",
       "<tr>\n",
       "      <td></td>         <th>coef</th>     <th>std err</th>      <th>z</th>      <th>P>|z|</th>  <th>[0.025</th>    <th>0.975]</th>  \n",
       "</tr>\n",
       "<tr>\n",
       "  <th>intercept</th> <td>   -0.0196</td> <td>    0.011</td> <td>   -1.707</td> <td> 0.088</td> <td>   -0.042</td> <td>    0.003</td>\n",
       "</tr>\n",
       "<tr>\n",
       "  <th>drift</th>     <td>    0.0002</td> <td> 6.97e-05</td> <td>    2.280</td> <td> 0.023</td> <td> 2.23e-05</td> <td>    0.000</td>\n",
       "</tr>\n",
       "<tr>\n",
       "  <th>humidity</th>  <td>   -0.2369</td> <td>    0.026</td> <td>   -9.167</td> <td> 0.000</td> <td>   -0.288</td> <td>   -0.186</td>\n",
       "</tr>\n",
       "<tr>\n",
       "  <th>pressure</th>  <td>    0.0036</td> <td>    0.022</td> <td>    0.161</td> <td> 0.872</td> <td>   -0.040</td> <td>    0.047</td>\n",
       "</tr>\n",
       "<tr>\n",
       "  <th>ar.L1</th>     <td>    0.3342</td> <td>    0.052</td> <td>    6.392</td> <td> 0.000</td> <td>    0.232</td> <td>    0.437</td>\n",
       "</tr>\n",
       "<tr>\n",
       "  <th>ar.S.L145</th> <td>    0.1771</td> <td>    0.098</td> <td>    1.804</td> <td> 0.071</td> <td>   -0.015</td> <td>    0.370</td>\n",
       "</tr>\n",
       "<tr>\n",
       "  <th>sigma2</th>    <td>    0.0125</td> <td>    0.001</td> <td>   14.348</td> <td> 0.000</td> <td>    0.011</td> <td>    0.014</td>\n",
       "</tr>\n",
       "</table>\n",
       "<table class=\"simpletable\">\n",
       "<tr>\n",
       "  <th>Ljung-Box (Q):</th>          <td>34.98</td> <th>  Jarque-Bera (JB):  </th> <td>44.70</td>\n",
       "</tr>\n",
       "<tr>\n",
       "  <th>Prob(Q):</th>                <td>0.70</td>  <th>  Prob(JB):          </th> <td>0.00</td> \n",
       "</tr>\n",
       "<tr>\n",
       "  <th>Heteroskedasticity (H):</th> <td>1.29</td>  <th>  Skew:              </th> <td>0.51</td> \n",
       "</tr>\n",
       "<tr>\n",
       "  <th>Prob(H) (two-sided):</th>    <td>0.21</td>  <th>  Kurtosis:          </th> <td>4.64</td> \n",
       "</tr>\n",
       "</table><br/><br/>Warnings:<br/>[1] Covariance matrix calculated using the outer product of gradients (complex-step)."
      ],
      "text/plain": [
       "<class 'statsmodels.iolib.summary.Summary'>\n",
       "\"\"\"\n",
       "                                      SARIMAX Results                                      \n",
       "===========================================================================================\n",
       "Dep. Variable:                                   y   No. Observations:                  288\n",
       "Model:             SARIMAX(1, 1, 0)x(1, 0, 0, 145)   Log Likelihood                 222.624\n",
       "Date:                             Thu, 09 Jul 2020   AIC                           -431.249\n",
       "Time:                                     20:26:39   BIC                           -405.632\n",
       "Sample:                                          0   HQIC                          -420.982\n",
       "                                             - 288                                         \n",
       "Covariance Type:                               opg                                         \n",
       "==============================================================================\n",
       "                 coef    std err          z      P>|z|      [0.025      0.975]\n",
       "------------------------------------------------------------------------------\n",
       "intercept     -0.0196      0.011     -1.707      0.088      -0.042       0.003\n",
       "drift          0.0002   6.97e-05      2.280      0.023    2.23e-05       0.000\n",
       "humidity      -0.2369      0.026     -9.167      0.000      -0.288      -0.186\n",
       "pressure       0.0036      0.022      0.161      0.872      -0.040       0.047\n",
       "ar.L1          0.3342      0.052      6.392      0.000       0.232       0.437\n",
       "ar.S.L145      0.1771      0.098      1.804      0.071      -0.015       0.370\n",
       "sigma2         0.0125      0.001     14.348      0.000       0.011       0.014\n",
       "===================================================================================\n",
       "Ljung-Box (Q):                       34.98   Jarque-Bera (JB):                44.70\n",
       "Prob(Q):                              0.70   Prob(JB):                         0.00\n",
       "Heteroskedasticity (H):               1.29   Skew:                             0.51\n",
       "Prob(H) (two-sided):                  0.21   Kurtosis:                         4.64\n",
       "===================================================================================\n",
       "\n",
       "Warnings:\n",
       "[1] Covariance matrix calculated using the outer product of gradients (complex-step).\n",
       "\"\"\""
      ]
     },
     "execution_count": 83,
     "metadata": {},
     "output_type": "execute_result"
    }
   ],
   "source": [
    "model_t_auto.summary()"
   ]
  },
  {
   "cell_type": "markdown",
   "metadata": {},
   "source": [
    "## AR(1)"
   ]
  },
  {
   "cell_type": "markdown",
   "metadata": {},
   "source": [
    "## MA(1)"
   ]
  },
  {
   "cell_type": "code",
   "execution_count": 79,
   "metadata": {},
   "outputs": [
    {
     "ename": "ValueError",
     "evalue": "The computed initial MA coefficients are not invertible\nYou should induce invertibility, choose a different model order, or you can\npass your own start_params.",
     "output_type": "error",
     "traceback": [
      "\u001b[0;31m---------------------------------------------------------------------------\u001b[0m",
      "\u001b[0;31mValueError\u001b[0m                                Traceback (most recent call last)",
      "\u001b[0;32m<ipython-input-79-f4e6b4ba229d>\u001b[0m in \u001b[0;36m<module>\u001b[0;34m\u001b[0m\n\u001b[1;32m      2\u001b[0m \u001b[0mresults_t_ma_1\u001b[0m \u001b[0;34m=\u001b[0m \u001b[0mmodel_t_ma_1\u001b[0m\u001b[0;34m.\u001b[0m\u001b[0mfit\u001b[0m\u001b[0;34m(\u001b[0m\u001b[0;34m)\u001b[0m\u001b[0;34m\u001b[0m\u001b[0;34m\u001b[0m\u001b[0m\n\u001b[1;32m      3\u001b[0m \u001b[0mmodel_t_ma_2\u001b[0m \u001b[0;34m=\u001b[0m \u001b[0mARMA\u001b[0m\u001b[0;34m(\u001b[0m\u001b[0mdf\u001b[0m\u001b[0;34m.\u001b[0m\u001b[0mtemperature\u001b[0m\u001b[0;34m,\u001b[0m \u001b[0morder\u001b[0m\u001b[0;34m=\u001b[0m\u001b[0;34m(\u001b[0m\u001b[0;36m0\u001b[0m\u001b[0;34m,\u001b[0m\u001b[0;36m2\u001b[0m\u001b[0;34m)\u001b[0m\u001b[0;34m)\u001b[0m\u001b[0;34m\u001b[0m\u001b[0;34m\u001b[0m\u001b[0m\n\u001b[0;32m----> 4\u001b[0;31m \u001b[0mresults_t_ma_2\u001b[0m \u001b[0;34m=\u001b[0m \u001b[0mmodel_t_ma_2\u001b[0m\u001b[0;34m.\u001b[0m\u001b[0mfit\u001b[0m\u001b[0;34m(\u001b[0m\u001b[0;34m)\u001b[0m\u001b[0;34m\u001b[0m\u001b[0;34m\u001b[0m\u001b[0m\n\u001b[0m\u001b[1;32m      5\u001b[0m \u001b[0mmodel_t_ma_3\u001b[0m \u001b[0;34m=\u001b[0m \u001b[0mARMA\u001b[0m\u001b[0;34m(\u001b[0m\u001b[0mdf\u001b[0m\u001b[0;34m.\u001b[0m\u001b[0mtemperature\u001b[0m\u001b[0;34m,\u001b[0m \u001b[0morder\u001b[0m\u001b[0;34m=\u001b[0m\u001b[0;34m(\u001b[0m\u001b[0;36m0\u001b[0m\u001b[0;34m,\u001b[0m\u001b[0;36m3\u001b[0m\u001b[0;34m)\u001b[0m\u001b[0;34m)\u001b[0m\u001b[0;34m\u001b[0m\u001b[0;34m\u001b[0m\u001b[0m\n\u001b[1;32m      6\u001b[0m \u001b[0mresults_t_ma_3\u001b[0m \u001b[0;34m=\u001b[0m \u001b[0mmodel_t_ma_3\u001b[0m\u001b[0;34m.\u001b[0m\u001b[0mfit\u001b[0m\u001b[0;34m(\u001b[0m\u001b[0;34m)\u001b[0m\u001b[0;34m\u001b[0m\u001b[0;34m\u001b[0m\u001b[0m\n",
      "\u001b[0;32m~/anaconda3/envs/forecasting/lib/python3.8/site-packages/statsmodels/tsa/arima_model.py\u001b[0m in \u001b[0;36mfit\u001b[0;34m(self, start_params, trend, method, transparams, solver, maxiter, full_output, disp, callback, start_ar_lags, **kwargs)\u001b[0m\n\u001b[1;32m    983\u001b[0m             \u001b[0mstart_params\u001b[0m \u001b[0;34m=\u001b[0m \u001b[0marray_like\u001b[0m\u001b[0;34m(\u001b[0m\u001b[0mstart_params\u001b[0m\u001b[0;34m,\u001b[0m \u001b[0;34m'start_params'\u001b[0m\u001b[0;34m)\u001b[0m\u001b[0;34m\u001b[0m\u001b[0;34m\u001b[0m\u001b[0m\n\u001b[1;32m    984\u001b[0m         \u001b[0;32melse\u001b[0m\u001b[0;34m:\u001b[0m  \u001b[0;31m# estimate starting parameters\u001b[0m\u001b[0;34m\u001b[0m\u001b[0;34m\u001b[0m\u001b[0m\n\u001b[0;32m--> 985\u001b[0;31m             start_params = self._fit_start_params((k_ar, k_ma, k), method,\n\u001b[0m\u001b[1;32m    986\u001b[0m                                                   start_ar_lags)\n\u001b[1;32m    987\u001b[0m \u001b[0;34m\u001b[0m\u001b[0m\n",
      "\u001b[0;32m~/anaconda3/envs/forecasting/lib/python3.8/site-packages/statsmodels/tsa/arima_model.py\u001b[0m in \u001b[0;36m_fit_start_params\u001b[0;34m(self, order, method, start_ar_lags)\u001b[0m\n\u001b[1;32m    575\u001b[0m                 \u001b[0;32mreturn\u001b[0m \u001b[0;34m-\u001b[0m\u001b[0mself\u001b[0m\u001b[0;34m.\u001b[0m\u001b[0mloglike_css\u001b[0m\u001b[0;34m(\u001b[0m\u001b[0mparams\u001b[0m\u001b[0;34m)\u001b[0m\u001b[0;34m\u001b[0m\u001b[0;34m\u001b[0m\u001b[0m\n\u001b[1;32m    576\u001b[0m \u001b[0;34m\u001b[0m\u001b[0m\n\u001b[0;32m--> 577\u001b[0;31m             \u001b[0mstart_params\u001b[0m \u001b[0;34m=\u001b[0m \u001b[0mself\u001b[0m\u001b[0;34m.\u001b[0m\u001b[0m_fit_start_params_hr\u001b[0m\u001b[0;34m(\u001b[0m\u001b[0morder\u001b[0m\u001b[0;34m,\u001b[0m \u001b[0mstart_ar_lags\u001b[0m\u001b[0;34m)\u001b[0m\u001b[0;34m\u001b[0m\u001b[0;34m\u001b[0m\u001b[0m\n\u001b[0m\u001b[1;32m    578\u001b[0m             \u001b[0;32mif\u001b[0m \u001b[0mself\u001b[0m\u001b[0;34m.\u001b[0m\u001b[0mtransparams\u001b[0m\u001b[0;34m:\u001b[0m\u001b[0;34m\u001b[0m\u001b[0;34m\u001b[0m\u001b[0m\n\u001b[1;32m    579\u001b[0m                 \u001b[0mstart_params\u001b[0m \u001b[0;34m=\u001b[0m \u001b[0mself\u001b[0m\u001b[0;34m.\u001b[0m\u001b[0m_invtransparams\u001b[0m\u001b[0;34m(\u001b[0m\u001b[0mstart_params\u001b[0m\u001b[0;34m)\u001b[0m\u001b[0;34m\u001b[0m\u001b[0;34m\u001b[0m\u001b[0m\n",
      "\u001b[0;32m~/anaconda3/envs/forecasting/lib/python3.8/site-packages/statsmodels/tsa/arima_model.py\u001b[0m in \u001b[0;36m_fit_start_params_hr\u001b[0;34m(self, order, start_ar_lags)\u001b[0m\n\u001b[1;32m    560\u001b[0m         elif q and not np.all(np.abs(np.roots(np.r_[1, start_params[k + p:]]\n\u001b[1;32m    561\u001b[0m                                               )) < 1):\n\u001b[0;32m--> 562\u001b[0;31m             raise ValueError(\"The computed initial MA coefficients are not \"\n\u001b[0m\u001b[1;32m    563\u001b[0m                              \u001b[0;34m\"invertible\\nYou should induce invertibility, \"\u001b[0m\u001b[0;34m\u001b[0m\u001b[0;34m\u001b[0m\u001b[0m\n\u001b[1;32m    564\u001b[0m                              \u001b[0;34m\"choose a different model order, or you can\\n\"\u001b[0m\u001b[0;34m\u001b[0m\u001b[0;34m\u001b[0m\u001b[0m\n",
      "\u001b[0;31mValueError\u001b[0m: The computed initial MA coefficients are not invertible\nYou should induce invertibility, choose a different model order, or you can\npass your own start_params."
     ]
    }
   ],
   "source": [
    "model_t_ma_1 = ARIMA(df.temperature, order=(0,0,1))\n",
    "results_t_ma_1 = model_t_ma_1.fit()\n",
    "model_t_ma_2 = ARMA(df.temperature, order=(0,2))\n",
    "results_t_ma_2 = model_t_ma_2.fit()\n",
    "model_t_ma_3 = ARMA(df.temperature, order=(0,3))\n",
    "results_t_ma_3 = model_t_ma_3.fit()"
   ]
  },
  {
   "cell_type": "markdown",
   "metadata": {},
   "source": [
    "# Humidity"
   ]
  },
  {
   "cell_type": "markdown",
   "metadata": {},
   "source": [
    "## MA(1)"
   ]
  },
  {
   "cell_type": "code",
   "execution_count": 70,
   "metadata": {},
   "outputs": [
    {
     "data": {
      "text/html": [
       "<table class=\"simpletable\">\n",
       "<caption>ARMA Model Results</caption>\n",
       "<tr>\n",
       "  <th>Dep. Variable:</th>     <td>humidity</td>     <th>  No. Observations:  </th>    <td>289</td>  \n",
       "</tr>\n",
       "<tr>\n",
       "  <th>Model:</th>            <td>ARMA(0, 1)</td>    <th>  Log Likelihood     </th> <td>-492.392</td>\n",
       "</tr>\n",
       "<tr>\n",
       "  <th>Method:</th>             <td>css-mle</td>     <th>  S.D. of innovations</th>   <td>1.322</td> \n",
       "</tr>\n",
       "<tr>\n",
       "  <th>Date:</th>          <td>Thu, 09 Jul 2020</td> <th>  AIC                </th>  <td>990.784</td>\n",
       "</tr>\n",
       "<tr>\n",
       "  <th>Time:</th>              <td>19:21:17</td>     <th>  BIC                </th> <td>1001.783</td>\n",
       "</tr>\n",
       "<tr>\n",
       "  <th>Sample:</th>                <td>0</td>        <th>  HQIC               </th>  <td>995.191</td>\n",
       "</tr>\n",
       "<tr>\n",
       "  <th></th>                       <td> </td>        <th>                     </th>     <td> </td>   \n",
       "</tr>\n",
       "</table>\n",
       "<table class=\"simpletable\">\n",
       "<tr>\n",
       "         <td></td>           <th>coef</th>     <th>std err</th>      <th>z</th>      <th>P>|z|</th>  <th>[0.025</th>    <th>0.975]</th>  \n",
       "</tr>\n",
       "<tr>\n",
       "  <th>const</th>          <td>   41.1118</td> <td>    0.154</td> <td>  267.787</td> <td> 0.000</td> <td>   40.811</td> <td>   41.413</td>\n",
       "</tr>\n",
       "<tr>\n",
       "  <th>ma.L1.humidity</th> <td>    0.9769</td> <td>    0.009</td> <td>  105.156</td> <td> 0.000</td> <td>    0.959</td> <td>    0.995</td>\n",
       "</tr>\n",
       "</table>\n",
       "<table class=\"simpletable\">\n",
       "<caption>Roots</caption>\n",
       "<tr>\n",
       "    <td></td>   <th>            Real</th>  <th>         Imaginary</th> <th>         Modulus</th>  <th>        Frequency</th>\n",
       "</tr>\n",
       "<tr>\n",
       "  <th>MA.1</th> <td>          -1.0237</td> <td>          +0.0000j</td> <td>           1.0237</td> <td>           0.5000</td>\n",
       "</tr>\n",
       "</table>"
      ],
      "text/plain": [
       "<class 'statsmodels.iolib.summary.Summary'>\n",
       "\"\"\"\n",
       "                              ARMA Model Results                              \n",
       "==============================================================================\n",
       "Dep. Variable:               humidity   No. Observations:                  289\n",
       "Model:                     ARMA(0, 1)   Log Likelihood                -492.392\n",
       "Method:                       css-mle   S.D. of innovations              1.322\n",
       "Date:                Thu, 09 Jul 2020   AIC                            990.784\n",
       "Time:                        19:21:17   BIC                           1001.783\n",
       "Sample:                             0   HQIC                           995.191\n",
       "                                                                              \n",
       "==================================================================================\n",
       "                     coef    std err          z      P>|z|      [0.025      0.975]\n",
       "----------------------------------------------------------------------------------\n",
       "const             41.1118      0.154    267.787      0.000      40.811      41.413\n",
       "ma.L1.humidity     0.9769      0.009    105.156      0.000       0.959       0.995\n",
       "                                    Roots                                    \n",
       "=============================================================================\n",
       "                  Real          Imaginary           Modulus         Frequency\n",
       "-----------------------------------------------------------------------------\n",
       "MA.1           -1.0237           +0.0000j            1.0237            0.5000\n",
       "-----------------------------------------------------------------------------\n",
       "\"\"\""
      ]
     },
     "execution_count": 70,
     "metadata": {},
     "output_type": "execute_result"
    }
   ],
   "source": [
    "model_h_ma_1 = ARIMA(df.humidity, order=(0,0,1))\n",
    "results_h_ma_1 = model_h_ma_1.fit()\n",
    "results_h_ma_1.summary()"
   ]
  },
  {
   "cell_type": "markdown",
   "metadata": {},
   "source": [
    "## ARIMA(1,1,1)"
   ]
  },
  {
   "cell_type": "code",
   "execution_count": null,
   "metadata": {},
   "outputs": [],
   "source": [
    "model_ar_1_i_1_ma_1 = ARIMA(df.temperature, order=(1,1,1))\n",
    "results_ar_1_i_1_ma_1 = model_ar_1_i_1_ma_1.fit()\n",
    "results_ar_1_i_1_ma_1.summary()"
   ]
  },
  {
   "cell_type": "markdown",
   "metadata": {},
   "source": [
    "## Residuals of the ARIMA(1,1,1)"
   ]
  },
  {
   "cell_type": "code",
   "execution_count": null,
   "metadata": {},
   "outputs": [],
   "source": [
    "df['res_ar_1_i_1_ma_1'] = results_ar_1_i_1_ma_1.resid.iloc[:]\n",
    "sgt.plot_acf(df.res_ar_1_i_1_ma_1[1:], zero = False, lags = 40) # prendo gli elementi che partono da quello con indice 1\n",
    "plt.title(\"ACF Of Residuals for ARIMA(1,1,1)\",size=20)\n",
    "plt.show()"
   ]
  },
  {
   "cell_type": "markdown",
   "metadata": {},
   "source": [
    "## Higher-Lag ARIMA Models"
   ]
  },
  {
   "cell_type": "code",
   "execution_count": null,
   "metadata": {},
   "outputs": [],
   "source": [
    "model_ar_1_i_1_ma_2 = ARIMA(df.market_value, order=(1,1,2))\n",
    "results_ar_1_i_1_ma_2 = model_ar_1_i_1_ma_2.fit()\n",
    "model_ar_1_i_1_ma_3 = ARIMA(df.market_value, order=(1,1,3))\n",
    "results_ar_1_i_1_ma_3 = model_ar_1_i_1_ma_3.fit()\n",
    "model_ar_2_i_1_ma_1 = ARIMA(df.market_value, order=(2,1,1))\n",
    "results_ar_2_i_1_ma_1 = model_ar_2_i_1_ma_1.fit()\n",
    "model_ar_3_i_1_ma_1 = ARIMA(df.market_value, order=(3,1,1))\n",
    "results_ar_3_i_1_ma_1 = model_ar_3_i_1_ma_1.fit()\n",
    "model_ar_3_i_1_ma_2 = ARIMA(df.market_value, order=(3,1,2))\n",
    "results_ar_3_i_1_ma_2 = model_ar_3_i_1_ma_2.fit(start_ar_lags=5)"
   ]
  },
  {
   "cell_type": "code",
   "execution_count": null,
   "metadata": {},
   "outputs": [],
   "source": [
    "print(\"ARIMA(1,1,1):  \\t LL = \", results_ar_1_i_1_ma_1.llf, \"\\t AIC = \", results_ar_1_i_1_ma_1.aic)\n",
    "print(\"ARIMA(1,1,2):  \\t LL = \", results_ar_1_i_1_ma_2.llf, \"\\t AIC = \", results_ar_1_i_1_ma_2.aic)\n",
    "print(\"ARIMA(1,1,3):  \\t LL = \", results_ar_1_i_1_ma_3.llf, \"\\t AIC = \", results_ar_1_i_1_ma_3.aic)\n",
    "print(\"ARIMA(2,1,1):  \\t LL = \", results_ar_2_i_1_ma_1.llf, \"\\t AIC = \", results_ar_2_i_1_ma_1.aic)\n",
    "print(\"ARIMA(3,1,1):  \\t LL = \", results_ar_3_i_1_ma_1.llf, \"\\t AIC = \", results_ar_3_i_1_ma_1.aic)\n",
    "print(\"ARIMA(3,1,2):  \\t LL = \", results_ar_3_i_1_ma_2.llf, \"\\t AIC = \", results_ar_3_i_1_ma_2.aic)"
   ]
  },
  {
   "cell_type": "code",
   "execution_count": null,
   "metadata": {},
   "outputs": [],
   "source": [
    "print(\"\\nLLR test p-value = \" + str(LLR_test(results_ar_1_i_1_ma_2, results_ar_1_i_1_ma_3)))"
   ]
  },
  {
   "cell_type": "code",
   "execution_count": null,
   "metadata": {},
   "outputs": [],
   "source": [
    "print(\"\\nLLR test p-value = \" + str(LLR_test(results_ar_1_i_1_ma_1, results_ar_1_i_1_ma_3, DF = 2)))"
   ]
  },
  {
   "cell_type": "code",
   "execution_count": null,
   "metadata": {},
   "outputs": [],
   "source": [
    "df['res_ar_1_i_1_ma_3'] = results_ar_1_i_1_ma_3.resid\n",
    "sgt.plot_acf(df.res_ar_1_i_1_ma_3[1:], zero = False, lags = 40)\n",
    "plt.title(\"ACF Of Residuals for ARIMA(1,1,3)\", size=20)\n",
    "plt.show()"
   ]
  },
  {
   "cell_type": "code",
   "execution_count": null,
   "metadata": {},
   "outputs": [],
   "source": [
    "model_ar_5_i_1_ma_1 = ARIMA(df.market_value, order=(5,1,1))\n",
    "results_ar_5_i_1_ma_1 = model_ar_5_i_1_ma_1.fit(start_ar_lags=11)\n",
    "model_ar_6_i_1_ma_3 = ARIMA(df.market_value, order=(6,1,3))\n",
    "results_ar_6_i_1_ma_3 = model_ar_6_i_1_ma_3.fit(start_ar_lags=11)"
   ]
  },
  {
   "cell_type": "code",
   "execution_count": null,
   "metadata": {},
   "outputs": [],
   "source": [
    "results_ar_5_i_1_ma_1.summary()"
   ]
  },
  {
   "cell_type": "code",
   "execution_count": null,
   "metadata": {},
   "outputs": [],
   "source": [
    "print(\"ARIMA(1,1,3):  \\t LL = \", results_ar_1_i_1_ma_3.llf, \"\\t AIC = \", results_ar_1_i_1_ma_3.aic)\n",
    "print(\"ARIMA(5,1,1):  \\t LL = \", results_ar_5_i_1_ma_1.llf, \"\\t AIC = \", results_ar_5_i_1_ma_1.aic)\n",
    "print(\"ARIMA(6,1,3):  \\t LL = \", results_ar_6_i_1_ma_3.llf, \"\\t AIC = \", results_ar_6_i_1_ma_3.aic)"
   ]
  },
  {
   "cell_type": "code",
   "execution_count": null,
   "metadata": {},
   "outputs": [],
   "source": [
    "print(\"\\nLLR test p-value = \" + str(LLR_test(results_ar_1_i_1_ma_3, results_ar_6_i_1_ma_3, DF = 5)))"
   ]
  },
  {
   "cell_type": "code",
   "execution_count": null,
   "metadata": {},
   "outputs": [],
   "source": [
    "print(\"\\nLLR test p-value = \" + str(LLR_test(results_ar_5_i_1_ma_1, results_ar_6_i_1_ma_3, DF = 3)))"
   ]
  },
  {
   "cell_type": "code",
   "execution_count": null,
   "metadata": {},
   "outputs": [],
   "source": [
    "df['res_ar_5_i_1_ma_1'] = results_ar_5_i_1_ma_1.resid\n",
    "sgt.plot_acf(df.res_ar_5_i_1_ma_1[1:], zero = False, lags = 40)\n",
    "plt.title(\"ACF Of Residuals for ARIMA(5,1,1)\", size=20)\n",
    "plt.show()"
   ]
  },
  {
   "cell_type": "markdown",
   "metadata": {},
   "source": [
    "## Models with Higher Levels of Integration"
   ]
  },
  {
   "cell_type": "code",
   "execution_count": null,
   "metadata": {},
   "outputs": [],
   "source": [
    "df['delta_prices']=df.market_value.diff(1)"
   ]
  },
  {
   "cell_type": "code",
   "execution_count": null,
   "metadata": {
    "scrolled": true
   },
   "outputs": [],
   "source": [
    "model_delta_ar_1_i_1_ma_1 = ARIMA(df.delta_prices[1:], order=(1,0,1))\n",
    "results_delta_ar_1_i_1_ma_1 = model_delta_ar_1_i_1_ma_1.fit()\n",
    "results_delta_ar_1_i_1_ma_1.summary()"
   ]
  },
  {
   "cell_type": "code",
   "execution_count": null,
   "metadata": {},
   "outputs": [],
   "source": [
    "sts.adfuller(df.delta_prices[1:])"
   ]
  },
  {
   "cell_type": "code",
   "execution_count": null,
   "metadata": {},
   "outputs": [],
   "source": [
    "model_ar_1_i_2_ma_1 = ARIMA(df.market_value, order=(1,2,1))\n",
    "results_ar_1_i_2_ma_1 = model_ar_1_i_2_ma_1.fit(start_ar_lags=10)\n",
    "results_ar_1_i_2_ma_1.summary()"
   ]
  },
  {
   "cell_type": "code",
   "execution_count": null,
   "metadata": {},
   "outputs": [],
   "source": [
    "df['res_ar_1_i_2_ma_1'] = results_ar_1_i_2_ma_1.resid.iloc[:]\n",
    "sgt.plot_acf(df.res_ar_1_i_2_ma_1[2:], zero = False, lags = 40)\n",
    "plt.title(\"ACF Of Residuals for ARIMA(1,2,1)\",size=20)\n",
    "plt.show()"
   ]
  },
  {
   "cell_type": "markdown",
   "metadata": {},
   "source": [
    "## ARIMAX "
   ]
  },
  {
   "cell_type": "code",
   "execution_count": null,
   "metadata": {
    "scrolled": true
   },
   "outputs": [],
   "source": [
    "model_ar_1_i_1_ma_1_Xspx = ARIMA(df.market_value, exog = df.spx, order=(1,1,1))\n",
    "results_ar_1_i_1_ma_1_Xspx = model_ar_1_i_1_ma_1_Xspx.fit()\n",
    "results_ar_1_i_1_ma_1_Xspx.summary()"
   ]
  },
  {
   "cell_type": "markdown",
   "metadata": {},
   "source": [
    "## SARIMAX"
   ]
  },
  {
   "cell_type": "code",
   "execution_count": null,
   "metadata": {},
   "outputs": [],
   "source": [
    "from statsmodels.tsa.statespace.sarimax import SARIMAX"
   ]
  },
  {
   "cell_type": "code",
   "execution_count": null,
   "metadata": {},
   "outputs": [],
   "source": [
    "model_sarimax = SARIMAX(df.market_value, exog = df.spx, order=(1,0,1), seasonal_order = (2,0,1,5))\n",
    "results_sarimax = model_sarimax.fit()\n",
    "results_sarimax.summary()"
   ]
  }
 ],
 "metadata": {
  "kernelspec": {
   "display_name": "Python 3",
   "language": "python",
   "name": "python3"
  },
  "language_info": {
   "codemirror_mode": {
    "name": "ipython",
    "version": 3
   },
   "file_extension": ".py",
   "mimetype": "text/x-python",
   "name": "python",
   "nbconvert_exporter": "python",
   "pygments_lexer": "ipython3",
   "version": "3.8.3"
  }
 },
 "nbformat": 4,
 "nbformat_minor": 4
}
