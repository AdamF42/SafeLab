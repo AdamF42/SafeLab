{
 "cells": [
  {
   "cell_type": "code",
   "execution_count": 4,
   "metadata": {},
   "outputs": [],
   "source": [
    "import numpy as np\n",
    "import pandas as pd\n",
    "import os\n",
    "import random\n",
    "from pandas.plotting import register_matplotlib_converters\n",
    "import matplotlib.pyplot as plt\n",
    "from scipy.stats import pearsonr\n",
    "from sklearn.metrics import mean_absolute_error\n",
    "from sklearn.preprocessing import StandardScaler\n",
    "register_matplotlib_converters()\n",
    "\n",
    "from tensorflow import keras\n",
    "import seaborn as sns\n",
    "from pylab import rcParams\n",
    "import matplotlib.pyplot as plt\n",
    "from matplotlib import rc\n",
    "\n",
    "\n",
    "from statsmodels.tsa.vector_ar.var_model import VAR\n",
    "\n",
    "import tensorflow as tf\n",
    "from tensorflow.keras import backend as K\n",
    "from tensorflow.keras.layers import *\n",
    "from tensorflow.keras.models import *\n",
    "from tensorflow.keras.callbacks import *\n",
    "from tensorflow.keras.optimizers import *\n",
    "from tensorflow.keras.preprocessing.sequence import TimeseriesGenerator"
   ]
  },
  {
   "cell_type": "markdown",
   "metadata": {},
   "source": [
    "# Get Data"
   ]
  },
  {
   "cell_type": "code",
   "execution_count": 5,
   "metadata": {},
   "outputs": [
    {
     "data": {
      "text/html": [
       "<div>\n",
       "<style scoped>\n",
       "    .dataframe tbody tr th:only-of-type {\n",
       "        vertical-align: middle;\n",
       "    }\n",
       "\n",
       "    .dataframe tbody tr th {\n",
       "        vertical-align: top;\n",
       "    }\n",
       "\n",
       "    .dataframe thead th {\n",
       "        text-align: right;\n",
       "    }\n",
       "</style>\n",
       "<table border=\"1\" class=\"dataframe\">\n",
       "  <thead>\n",
       "    <tr style=\"text-align: right;\">\n",
       "      <th></th>\n",
       "      <th>temperature</th>\n",
       "      <th>humidity</th>\n",
       "      <th>pressure</th>\n",
       "      <th>people</th>\n",
       "    </tr>\n",
       "    <tr>\n",
       "      <th>time</th>\n",
       "      <th></th>\n",
       "      <th></th>\n",
       "      <th></th>\n",
       "      <th></th>\n",
       "    </tr>\n",
       "  </thead>\n",
       "  <tbody>\n",
       "    <tr>\n",
       "      <th>2020-07-16 11:40:00+00:00</th>\n",
       "      <td>28.60</td>\n",
       "      <td>46.5</td>\n",
       "      <td>1017.375</td>\n",
       "      <td>1.0</td>\n",
       "    </tr>\n",
       "    <tr>\n",
       "      <th>2020-07-16 11:45:00+00:00</th>\n",
       "      <td>28.65</td>\n",
       "      <td>46.1</td>\n",
       "      <td>1017.375</td>\n",
       "      <td>1.0</td>\n",
       "    </tr>\n",
       "    <tr>\n",
       "      <th>2020-07-16 11:50:00+00:00</th>\n",
       "      <td>28.65</td>\n",
       "      <td>46.1</td>\n",
       "      <td>1017.375</td>\n",
       "      <td>1.0</td>\n",
       "    </tr>\n",
       "    <tr>\n",
       "      <th>2020-07-16 11:55:00+00:00</th>\n",
       "      <td>28.70</td>\n",
       "      <td>45.8</td>\n",
       "      <td>1017.375</td>\n",
       "      <td>1.0</td>\n",
       "    </tr>\n",
       "    <tr>\n",
       "      <th>2020-07-16 12:00:00+00:00</th>\n",
       "      <td>28.70</td>\n",
       "      <td>45.8</td>\n",
       "      <td>1017.375</td>\n",
       "      <td>1.0</td>\n",
       "    </tr>\n",
       "  </tbody>\n",
       "</table>\n",
       "</div>"
      ],
      "text/plain": [
       "                           temperature  humidity  pressure  people\n",
       "time                                                              \n",
       "2020-07-16 11:40:00+00:00        28.60      46.5  1017.375     1.0\n",
       "2020-07-16 11:45:00+00:00        28.65      46.1  1017.375     1.0\n",
       "2020-07-16 11:50:00+00:00        28.65      46.1  1017.375     1.0\n",
       "2020-07-16 11:55:00+00:00        28.70      45.8  1017.375     1.0\n",
       "2020-07-16 12:00:00+00:00        28.70      45.8  1017.375     1.0"
      ]
     },
     "execution_count": 5,
     "metadata": {},
     "output_type": "execute_result"
    }
   ],
   "source": [
    "df = pd.read_csv(\"dataframe.csv\")\n",
    "df.time = pd.to_datetime(df.time, dayfirst = True)\n",
    "time = df['time'].values\n",
    "\n",
    "df['time'] = pd.to_datetime(df.time , format = '%d/%m/%Y %H.%M.%S')\n",
    "df.set_index('time',inplace=True)\n",
    "points_per_day = 288 \n",
    "\n",
    "df.tail()"
   ]
  },
  {
   "cell_type": "code",
   "execution_count": 6,
   "metadata": {},
   "outputs": [
    {
     "data": {
      "text/plain": [
       "576"
      ]
     },
     "execution_count": 6,
     "metadata": {},
     "output_type": "execute_result"
    }
   ],
   "source": [
    "# divide in train e test\n",
    "size = len(df)- (points_per_day*2)\n",
    "# size = int(len(df)*0.9)\n",
    "df_train, df_test = df.iloc[:size], df.iloc[size:]\n",
    "len(df_test)"
   ]
  },
  {
   "cell_type": "code",
   "execution_count": 7,
   "metadata": {},
   "outputs": [],
   "source": [
    "def create_dataset(X, y, time_steps=1):\n",
    "    Xs, ys = [], []\n",
    "    print(len(X) - time_steps)\n",
    "    for i in range(len(X) - time_steps):\n",
    "        v = X.iloc[i:(i + time_steps)].values\n",
    "        Xs.append(v)\n",
    "        ys.append(y.iloc[i + time_steps])\n",
    "    return np.array(Xs), np.array(ys)"
   ]
  },
  {
   "cell_type": "code",
   "execution_count": 8,
   "metadata": {},
   "outputs": [
    {
     "name": "stdout",
     "output_type": "stream",
     "text": [
      "1727\n",
      "(1727, 288, 4) (1727,)\n",
      "288\n",
      "(288, 288, 4) (288,)\n"
     ]
    }
   ],
   "source": [
    "time_steps = 288\n",
    "\n",
    "# reshape to [samples, time_steps, n_features]\n",
    "\n",
    "X_train, y_train = create_dataset(df_train, df_train.temperature, time_steps)\n",
    "print(X_train.shape, y_train.shape)\n",
    "\n",
    "X_test, y_test = create_dataset(df_test, df_test.temperature, time_steps)\n",
    "print(X_test.shape, y_test.shape)"
   ]
  },
  {
   "cell_type": "code",
   "execution_count": 9,
   "metadata": {},
   "outputs": [],
   "source": [
    "model = keras.Sequential()\n",
    "model.add(keras.layers.LSTM(\n",
    "  units=288,\n",
    "  input_shape=(X_train.shape[1], X_train.shape[2])\n",
    "))\n",
    "model.add(keras.layers.Dense(units=1))\n",
    "model.compile(\n",
    "  loss='mean_squared_error',\n",
    "  optimizer=keras.optimizers.Adam(0.001)\n",
    ")"
   ]
  },
  {
   "cell_type": "code",
   "execution_count": 10,
   "metadata": {},
   "outputs": [
    {
     "name": "stdout",
     "output_type": "stream",
     "text": [
      "Epoch 1/10\n",
      "98/98 [==============================] - 29s 291ms/step - loss: 655.3621 - val_loss: 340.1933\n",
      "Epoch 2/10\n",
      "98/98 [==============================] - 28s 285ms/step - loss: 329.9468 - val_loss: 139.1314\n",
      "Epoch 3/10\n",
      "98/98 [==============================] - 29s 296ms/step - loss: 148.9087 - val_loss: 42.0800\n",
      "Epoch 4/10\n",
      "98/98 [==============================] - 30s 307ms/step - loss: 58.1594 - val_loss: 7.0026\n",
      "Epoch 5/10\n",
      "98/98 [==============================] - 29s 293ms/step - loss: 20.1090 - val_loss: 1.0350\n",
      "Epoch 6/10\n",
      "98/98 [==============================] - 31s 315ms/step - loss: 7.2924 - val_loss: 3.3978\n",
      "Epoch 7/10\n",
      "98/98 [==============================] - 29s 297ms/step - loss: 3.5962 - val_loss: 6.5799\n",
      "Epoch 8/10\n",
      "98/98 [==============================] - 30s 311ms/step - loss: 2.7147 - val_loss: 8.3699\n",
      "Epoch 9/10\n",
      "98/98 [==============================] - 31s 317ms/step - loss: 2.5416 - val_loss: 9.2308\n",
      "Epoch 10/10\n",
      "98/98 [==============================] - 30s 309ms/step - loss: 2.5121 - val_loss: 9.5777\n"
     ]
    }
   ],
   "source": [
    "history = model.fit(\n",
    "    X_train, y_train,\n",
    "    epochs=10,\n",
    "    batch_size=16,\n",
    "    validation_split=0.1,\n",
    "    verbose=1,\n",
    "    shuffle=False\n",
    ")"
   ]
  },
  {
   "cell_type": "code",
   "execution_count": 11,
   "metadata": {},
   "outputs": [
    {
     "data": {
      "image/png": "[encoded data removed]",
      "text/plain": [
       "<Figure size 432x288 with 1 Axes>"
      ]
     },
     "metadata": {
      "needs_background": "light"
     },
     "output_type": "display_data"
    }
   ],
   "source": [
    "plt.plot(history.history['loss'], label='train')\n",
    "plt.plot(history.history['val_loss'], label='test')\n",
    "plt.legend();"
   ]
  },
  {
   "cell_type": "code",
   "execution_count": 12,
   "metadata": {},
   "outputs": [],
   "source": [
    "y_pred = model.predict(X_test)"
   ]
  },
  {
   "cell_type": "code",
   "execution_count": 13,
   "metadata": {},
   "outputs": [
    {
     "data": {
      "image/png": "[encoded data removed]",
      "text/plain": [
       "<Figure size 432x288 with 1 Axes>"
      ]
     },
     "metadata": {
      "needs_background": "light"
     },
     "output_type": "display_data"
    }
   ],
   "source": [
    "plt.plot(np.arange(0, len(y_train)), y_train, 'g', label=\"history\")\n",
    "plt.plot(np.arange(len(y_train), len(y_train) + len(y_test)), y_test, marker='.', label=\"true\")\n",
    "plt.plot(np.arange(len(y_train), len(y_train) + len(y_test)), y_pred, 'r', label=\"prediction\")\n",
    "plt.ylabel('Value')\n",
    "plt.xlabel('Time Step')\n",
    "plt.legend()\n",
    "plt.show();"
   ]
  },
  {
   "cell_type": "code",
   "execution_count": null,
   "metadata": {},
   "outputs": [],
   "source": []
  }
 ],
 "metadata": {
  "kernelspec": {
   "display_name": "Python 3",
   "language": "python",
   "name": "python3"
  }
 },
 "nbformat": 4,
 "nbformat_minor": 4
}
