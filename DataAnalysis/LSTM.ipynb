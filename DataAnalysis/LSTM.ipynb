{
 "cells": [
  {
   "cell_type": "code",
   "execution_count": 10,
   "metadata": {},
   "outputs": [],
   "source": [
    "import numpy as np\n",
    "import pandas as pd\n",
    "import os\n",
    "import random\n",
    "from pandas.plotting import register_matplotlib_converters\n",
    "import matplotlib.pyplot as plt\n",
    "from scipy.stats import pearsonr\n",
    "from sklearn.metrics import mean_absolute_error\n",
    "from sklearn.preprocessing import StandardScaler\n",
    "register_matplotlib_converters()\n",
    "\n",
    "from tensorflow import keras\n",
    "import seaborn as sns\n",
    "from pylab import rcParams\n",
    "import matplotlib.pyplot as plt\n",
    "from matplotlib import rc\n",
    "\n",
    "\n",
    "from statsmodels.tsa.vector_ar.var_model import VAR\n",
    "\n",
    "import tensorflow as tf\n",
    "from tensorflow.keras import backend as K\n",
    "from tensorflow.keras.layers import *\n",
    "from tensorflow.keras.models import *\n",
    "from tensorflow.keras.callbacks import *\n",
    "from tensorflow.keras.optimizers import *\n",
    "from tensorflow.keras.preprocessing.sequence import TimeseriesGenerator"
   ]
  },
  {
   "cell_type": "markdown",
   "metadata": {},
   "source": [
    "# Get Data"
   ]
  },
  {
   "cell_type": "code",
   "execution_count": 11,
   "metadata": {},
   "outputs": [
    {
     "data": {
      "text/html": [
       "<div>\n",
       "<style scoped>\n",
       "    .dataframe tbody tr th:only-of-type {\n",
       "        vertical-align: middle;\n",
       "    }\n",
       "\n",
       "    .dataframe tbody tr th {\n",
       "        vertical-align: top;\n",
       "    }\n",
       "\n",
       "    .dataframe thead th {\n",
       "        text-align: right;\n",
       "    }\n",
       "</style>\n",
       "<table border=\"1\" class=\"dataframe\">\n",
       "  <thead>\n",
       "    <tr style=\"text-align: right;\">\n",
       "      <th></th>\n",
       "      <th>temperature</th>\n",
       "      <th>humidity</th>\n",
       "      <th>pressure</th>\n",
       "      <th>people</th>\n",
       "    </tr>\n",
       "    <tr>\n",
       "      <th>time</th>\n",
       "      <th></th>\n",
       "      <th></th>\n",
       "      <th></th>\n",
       "      <th></th>\n",
       "    </tr>\n",
       "  </thead>\n",
       "  <tbody>\n",
       "    <tr>\n",
       "      <th>2020-07-15 12:10:00+00:00</th>\n",
       "      <td>28.65</td>\n",
       "      <td>38.00</td>\n",
       "      <td>1016.5</td>\n",
       "      <td>0.0</td>\n",
       "    </tr>\n",
       "    <tr>\n",
       "      <th>2020-07-15 12:15:00+00:00</th>\n",
       "      <td>28.65</td>\n",
       "      <td>38.00</td>\n",
       "      <td>1016.5</td>\n",
       "      <td>0.0</td>\n",
       "    </tr>\n",
       "    <tr>\n",
       "      <th>2020-07-15 12:20:00+00:00</th>\n",
       "      <td>28.70</td>\n",
       "      <td>38.30</td>\n",
       "      <td>1016.5</td>\n",
       "      <td>0.0</td>\n",
       "    </tr>\n",
       "    <tr>\n",
       "      <th>2020-07-15 12:25:00+00:00</th>\n",
       "      <td>28.65</td>\n",
       "      <td>38.45</td>\n",
       "      <td>1016.5</td>\n",
       "      <td>0.0</td>\n",
       "    </tr>\n",
       "    <tr>\n",
       "      <th>2020-07-15 12:30:00+00:00</th>\n",
       "      <td>28.75</td>\n",
       "      <td>38.70</td>\n",
       "      <td>1016.5</td>\n",
       "      <td>0.0</td>\n",
       "    </tr>\n",
       "  </tbody>\n",
       "</table>\n",
       "</div>"
      ],
      "text/plain": [
       "                           temperature  humidity  pressure  people\n",
       "time                                                              \n",
       "2020-07-15 12:10:00+00:00        28.65     38.00    1016.5     0.0\n",
       "2020-07-15 12:15:00+00:00        28.65     38.00    1016.5     0.0\n",
       "2020-07-15 12:20:00+00:00        28.70     38.30    1016.5     0.0\n",
       "2020-07-15 12:25:00+00:00        28.65     38.45    1016.5     0.0\n",
       "2020-07-15 12:30:00+00:00        28.75     38.70    1016.5     0.0"
      ]
     },
     "execution_count": 11,
     "metadata": {},
     "output_type": "execute_result"
    }
   ],
   "source": [
    "df = pd.read_csv(\"dataframe.csv\")\n",
    "df.time = pd.to_datetime(df.time, dayfirst = True)\n",
    "time = df['time'].values\n",
    "\n",
    "df['time'] = pd.to_datetime(df.time , format = '%d/%m/%Y %H.%M.%S')\n",
    "df.set_index('time',inplace=True)\n",
    "points_per_day = 288 \n",
    "\n",
    "df.tail()"
   ]
  },
  {
   "cell_type": "code",
   "execution_count": 28,
   "metadata": {},
   "outputs": [
    {
     "data": {
      "text/plain": [
       "576"
      ]
     },
     "execution_count": 28,
     "metadata": {},
     "output_type": "execute_result"
    }
   ],
   "source": [
    "# divide in train e test\n",
    "size = len(df)- (points_per_day*2)\n",
    "# size = int(len(df)*0.9)\n",
    "df_train, df_test = df.iloc[:size], df.iloc[size:]\n",
    "len(df_test)"
   ]
  },
  {
   "cell_type": "code",
   "execution_count": 29,
   "metadata": {},
   "outputs": [],
   "source": [
    "def create_dataset(X, y, time_steps=1):\n",
    "    Xs, ys = [], []\n",
    "    print(len(X) - time_steps)\n",
    "    for i in range(len(X) - time_steps):\n",
    "        v = X.iloc[i:(i + time_steps)].values\n",
    "        Xs.append(v)\n",
    "        ys.append(y.iloc[i + time_steps])\n",
    "    return np.array(Xs), np.array(ys)"
   ]
  },
  {
   "cell_type": "code",
   "execution_count": 33,
   "metadata": {},
   "outputs": [
    {
     "name": "stdout",
     "output_type": "stream",
     "text": [
      "1440\n",
      "(1440, 288, 4) (1440,)\n",
      "288\n",
      "(288, 288, 4) (288,)\n"
     ]
    }
   ],
   "source": [
    "time_steps = 288\n",
    "\n",
    "# reshape to [samples, time_steps, n_features]\n",
    "\n",
    "X_train, y_train = create_dataset(df_train, df_train.temperature, time_steps)\n",
    "print(X_train.shape, y_train.shape)\n",
    "\n",
    "X_test, y_test = create_dataset(df_test, df_test.temperature, time_steps)\n",
    "print(X_test.shape, y_test.shape)"
   ]
  },
  {
   "cell_type": "code",
   "execution_count": 34,
   "metadata": {},
   "outputs": [],
   "source": [
    "model = keras.Sequential()\n",
    "model.add(keras.layers.LSTM(\n",
    "  units=288,\n",
    "  input_shape=(X_train.shape[1], X_train.shape[2])\n",
    "))\n",
    "model.add(keras.layers.Dense(units=1))\n",
    "model.compile(\n",
    "  loss='mean_squared_error',\n",
    "  optimizer=keras.optimizers.Adam(0.001)\n",
    ")"
   ]
  },
  {
   "cell_type": "code",
   "execution_count": 35,
   "metadata": {},
   "outputs": [
    {
     "name": "stdout",
     "output_type": "stream",
     "text": [
      "Epoch 1/10\n",
      "81/81 [==============================] - 40s 494ms/step - loss: 687.7268 - val_loss: 404.5442\n",
      "Epoch 2/10\n",
      "81/81 [==============================] - 37s 460ms/step - loss: 367.6337 - val_loss: 185.1424\n",
      "Epoch 3/10\n",
      "81/81 [==============================] - 45s 551ms/step - loss: 180.9219 - val_loss: 73.2376\n",
      "Epoch 4/10\n",
      "81/81 [==============================] - 44s 543ms/step - loss: 80.9541 - val_loss: 22.2202\n",
      "Epoch 5/10\n",
      "81/81 [==============================] - 43s 537ms/step - loss: 33.1229 - val_loss: 4.0892\n",
      "Epoch 6/10\n",
      "81/81 [==============================] - 39s 484ms/step - loss: 12.9257 - val_loss: 0.3757\n",
      "Epoch 7/10\n",
      "81/81 [==============================] - 43s 532ms/step - loss: 5.5436 - val_loss: 1.6166\n",
      "Epoch 8/10\n",
      "81/81 [==============================] - 42s 515ms/step - loss: 2.9705 - val_loss: 3.6587\n",
      "Epoch 9/10\n",
      "81/81 [==============================] - 39s 477ms/step - loss: 2.4401 - val_loss: 4.8211\n",
      "Epoch 10/10\n",
      "81/81 [==============================] - 40s 491ms/step - loss: 2.3566 - val_loss: 5.3904\n"
     ]
    }
   ],
   "source": [
    "history = model.fit(\n",
    "    X_train, y_train,\n",
    "    epochs=10,\n",
    "    batch_size=16,\n",
    "    validation_split=0.1,\n",
    "    verbose=1,\n",
    "    shuffle=False\n",
    ")"
   ]
  },
  {
   "cell_type": "code",
   "execution_count": 36,
   "metadata": {},
   "outputs": [
    {
     "data": {
      "image/png": "[encoded data removed]",
      "text/plain": [
       "<Figure size 432x288 with 1 Axes>"
      ]
     },
     "metadata": {
      "needs_background": "light"
     },
     "output_type": "display_data"
    }
   ],
   "source": [
    "plt.plot(history.history['loss'], label='train')\n",
    "plt.plot(history.history['val_loss'], label='test')\n",
    "plt.legend();"
   ]
  },
  {
   "cell_type": "code",
   "execution_count": 37,
   "metadata": {},
   "outputs": [],
   "source": [
    "y_pred = model.predict(X_test)"
   ]
  },
  {
   "cell_type": "code",
   "execution_count": 38,
   "metadata": {},
   "outputs": [
    {
     "data": {
      "image/png": "[encoded data removed]",
      "text/plain": [
       "<Figure size 432x288 with 1 Axes>"
      ]
     },
     "metadata": {
      "needs_background": "light"
     },
     "output_type": "display_data"
    }
   ],
   "source": [
    "plt.plot(np.arange(0, len(y_train)), y_train, 'g', label=\"history\")\n",
    "plt.plot(np.arange(len(y_train), len(y_train) + len(y_test)), y_test, marker='.', label=\"true\")\n",
    "plt.plot(np.arange(len(y_train), len(y_train) + len(y_test)), y_pred, 'r', label=\"prediction\")\n",
    "plt.ylabel('Value')\n",
    "plt.xlabel('Time Step')\n",
    "plt.legend()\n",
    "plt.show();"
   ]
  },
  {
   "cell_type": "code",
   "execution_count": null,
   "metadata": {},
   "outputs": [],
   "source": []
  }
 ],
 "metadata": {
  "kernelspec": {
   "display_name": "Python 3",
   "language": "python",
   "name": "python3"
  },
  "language_info": {
   "codemirror_mode": {
    "name": "ipython",
    "version": 3
   },
   "file_extension": ".py",
   "mimetype": "text/x-python",
   "name": "python",
   "nbconvert_exporter": "python",
   "pygments_lexer": "ipython3",
   "version": "3.8.3"
  }
 },
 "nbformat": 4,
 "nbformat_minor": 4
}
