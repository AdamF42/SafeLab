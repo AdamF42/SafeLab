{
 "cells": [
  {
   "cell_type": "code",
   "execution_count": 1,
   "metadata": {},
   "outputs": [],
   "source": [
    "from influxdb_client import InfluxDBClient\n",
    "import pandas as pd\n",
    "import matplotlib.pyplot as plt\n",
    "from sklearn.metrics import mean_squared_error, mean_absolute_error\n",
    "from statsmodels.tsa.holtwinters import ExponentialSmoothing\n",
    "from random import random"
   ]
  },
  {
   "cell_type": "code",
   "execution_count": 2,
   "metadata": {},
   "outputs": [],
   "source": [
    "#Auth parameters\n",
    "my_token = \"yaKfFeAsha8tNAZxvYeZBMmq-khO8tz-6Ut_PARgohiWzeW2j8BB86ND33Qbq7hR8bylmOROPQAUr-7M103_Yw==\"\n",
    "my_org = \"iot-org\"\n",
    "bucket = \"iot-demo\"\n",
    "client = InfluxDBClient(url=\"http://192.168.1.100:9999\", token=my_token, org=my_org, debug=False)"
   ]
  },
  {
   "cell_type": "code",
   "execution_count": 3,
   "metadata": {},
   "outputs": [],
   "source": [
    "days = '9d'\n",
    "n_days = 9\n",
    "\n",
    "queryTemperature = '''\n",
    "from(bucket: \"iot-demo\")\n",
    "  |> range(start: -%s, stop: now())\n",
    "  |> filter(fn: (r) => r[\"_measurement\"] == \"temperature\")\n",
    "  |> filter(fn: (r) => r[\"device\"] == \"RoomWeather\")\n",
    "  |> aggregateWindow(every: 5m, fn: median)\n",
    "  ''' % days\n",
    "\n",
    "queryHumidity = '''\n",
    "from(bucket: \"iot-demo\")\n",
    "  |> range(start: -%s, stop: now())\n",
    "  |> filter(fn: (r) => r[\"_measurement\"] == \"humidity\")\n",
    "  |> filter(fn: (r) => r[\"device\"] == \"RoomWeather\")\n",
    "  |> aggregateWindow(every: 5m, fn: median)\n",
    "  ''' % days\n",
    "\n",
    "queryPressure = '''\n",
    "from(bucket: \"iot-demo\")\n",
    "  |> range(start: -%s, stop: now())\n",
    "  |> filter(fn: (r) => r[\"_measurement\"] == \"pressure\")\n",
    "  |> filter(fn: (r) => r[\"device\"] == \"RoomWeather\")\n",
    "  |> aggregateWindow(every: 5m, fn: median)\n",
    "  ''' % days\n",
    "\n"
   ]
  },
  {
   "cell_type": "code",
   "execution_count": 4,
   "metadata": {},
   "outputs": [],
   "source": [
    "#Query InfluxDB and return a Dataframe\n",
    "dfTemp = client.query_api().query_data_frame(org=my_org, query=queryTemperature)\n",
    "dfHum = client.query_api().query_data_frame(org=my_org, query=queryHumidity)\n",
    "dfPress = client.query_api().query_data_frame(org=my_org, query=queryPressure)"
   ]
  },
  {
   "cell_type": "code",
   "execution_count": 5,
   "metadata": {},
   "outputs": [
    {
     "data": {
      "text/html": [
       "<div>\n",
       "<style scoped>\n",
       "    .dataframe tbody tr th:only-of-type {\n",
       "        vertical-align: middle;\n",
       "    }\n",
       "\n",
       "    .dataframe tbody tr th {\n",
       "        vertical-align: top;\n",
       "    }\n",
       "\n",
       "    .dataframe thead th {\n",
       "        text-align: right;\n",
       "    }\n",
       "</style>\n",
       "<table border=\"1\" class=\"dataframe\">\n",
       "  <thead>\n",
       "    <tr style=\"text-align: right;\">\n",
       "      <th></th>\n",
       "      <th>temperature</th>\n",
       "      <th>humidity</th>\n",
       "      <th>pressure</th>\n",
       "    </tr>\n",
       "    <tr>\n",
       "      <th>time</th>\n",
       "      <th></th>\n",
       "      <th></th>\n",
       "      <th></th>\n",
       "    </tr>\n",
       "  </thead>\n",
       "  <tbody>\n",
       "    <tr>\n",
       "      <th>2020-07-07 12:30:00+00:00</th>\n",
       "      <td>29.40</td>\n",
       "      <td>46.40</td>\n",
       "      <td>NaN</td>\n",
       "    </tr>\n",
       "    <tr>\n",
       "      <th>2020-07-07 12:35:00+00:00</th>\n",
       "      <td>NaN</td>\n",
       "      <td>46.15</td>\n",
       "      <td>NaN</td>\n",
       "    </tr>\n",
       "    <tr>\n",
       "      <th>2020-07-07 12:40:00+00:00</th>\n",
       "      <td>29.45</td>\n",
       "      <td>45.80</td>\n",
       "      <td>NaN</td>\n",
       "    </tr>\n",
       "    <tr>\n",
       "      <th>2020-07-07 12:45:00+00:00</th>\n",
       "      <td>29.45</td>\n",
       "      <td>45.40</td>\n",
       "      <td>NaN</td>\n",
       "    </tr>\n",
       "    <tr>\n",
       "      <th>2020-07-07 12:50:00+00:00</th>\n",
       "      <td>29.45</td>\n",
       "      <td>45.20</td>\n",
       "      <td>1019.5</td>\n",
       "    </tr>\n",
       "  </tbody>\n",
       "</table>\n",
       "</div>"
      ],
      "text/plain": [
       "                           temperature  humidity  pressure\n",
       "time                                                      \n",
       "2020-07-07 12:30:00+00:00        29.40     46.40       NaN\n",
       "2020-07-07 12:35:00+00:00          NaN     46.15       NaN\n",
       "2020-07-07 12:40:00+00:00        29.45     45.80       NaN\n",
       "2020-07-07 12:45:00+00:00        29.45     45.40       NaN\n",
       "2020-07-07 12:50:00+00:00        29.45     45.20    1019.5"
      ]
     },
     "execution_count": 5,
     "metadata": {},
     "output_type": "execute_result"
    }
   ],
   "source": [
    "df = pd.DataFrame(dfTemp['_time']).rename(columns={'_time':'time'})\n",
    "df['temperature'] = dfTemp['_value']\n",
    "df['humidity'] = dfHum['_value']\n",
    "df['pressure'] = dfPress['_value']\n",
    "df = df.set_index('time')\n",
    "df = df.asfreq(freq='300S')\n",
    "df.head()"
   ]
  },
  {
   "cell_type": "code",
   "execution_count": 6,
   "metadata": {},
   "outputs": [
    {
     "name": "stdout",
     "output_type": "stream",
     "text": [
      "286\n",
      "44\n",
      "1894\n"
     ]
    }
   ],
   "source": [
    "print(df['temperature'].isnull().sum())\n",
    "print(df['humidity'].isnull().sum())\n",
    "print(df['pressure'].isnull().sum())"
   ]
  },
  {
   "cell_type": "code",
   "execution_count": 7,
   "metadata": {},
   "outputs": [],
   "source": [
    "df['temperature'] = df['temperature'].fillna(method='backfill').fillna(method='ffill')\n",
    "df['humidity'] = df['humidity'].fillna(method='backfill').fillna(method='ffill')\n",
    "df['pressure'] = df['pressure'].fillna(method='backfill').fillna(method='ffill')"
   ]
  },
  {
   "cell_type": "code",
   "execution_count": 8,
   "metadata": {},
   "outputs": [
    {
     "data": {
      "text/plain": [
       "288"
      ]
     },
     "execution_count": 8,
     "metadata": {},
     "output_type": "execute_result"
    }
   ],
   "source": [
    "points_per_day = int(len(df)/n_days) \n",
    "points_per_day"
   ]
  },
  {
   "cell_type": "code",
   "execution_count": 9,
   "metadata": {},
   "outputs": [
    {
     "data": {
      "image/png": "[encoded data removed]",
      "text/plain": [
       "<Figure size 1440x360 with 1 Axes>"
      ]
     },
     "metadata": {
      "needs_background": "light"
     },
     "output_type": "display_data"
    }
   ],
   "source": [
    "df.temperature.plot(figsize = (20,5), color = \"red\")\n",
    "plt.title(\"Temperature\", size = 24)\n",
    "plt.show()                          "
   ]
  },
  {
   "cell_type": "code",
   "execution_count": 10,
   "metadata": {},
   "outputs": [],
   "source": [
    "size = len(df)-points_per_day\n",
    "df_train, df_test = df.iloc[:size], df.iloc[size:]\n",
    "\n",
    "end_pred = 12#int(points_per_day/12)\n",
    "\n",
    "start_date = df_test.index[0]\n",
    "end_date = df_test.index[end_pred]"
   ]
  },
  {
   "cell_type": "markdown",
   "metadata": {},
   "source": [
    "# Temperature"
   ]
  },
  {
   "cell_type": "code",
   "execution_count": 46,
   "metadata": {},
   "outputs": [
    {
     "name": "stdout",
     "output_type": "stream",
     "text": [
      "                       ExponentialSmoothing Model Results                       \n",
      "================================================================================\n",
      "Dep. Variable:                    endog   No. Observations:                 2304\n",
      "Model:             ExponentialSmoothing   SSE                             26.102\n",
      "Optimized:                         True   AIC                          -9742.798\n",
      "Trend:                             None   BIC                          -8077.502\n",
      "Seasonal:                      Additive   AICC                         -9657.710\n",
      "Seasonal Periods:                   288   Date:                 Thu, 16 Jul 2020\n",
      "Box-Cox:                          False   Time:                         14:40:45\n",
      "Box-Cox Coeff.:                    None                                         \n",
      "==================================================================================\n",
      "                           coeff                 code              optimized      \n",
      "----------------------------------------------------------------------------------\n",
      "smoothing_level                0.8947368                alpha                 True\n",
      "smoothing_seasonal             0.1052632                gamma                 True\n",
      "initial_level                  30.190176                  l.0                 True\n",
      "initial_seasons.0             -0.9977442                  s.0                 True\n",
      "initial_seasons.1             -0.7797865                  s.1                 True\n",
      "initial_seasons.2             -0.7497221                  s.2                 True\n",
      "initial_seasons.3             -0.7445947                  s.3                 True\n",
      "initial_seasons.4             -0.7322629                  s.4                 True\n",
      "initial_seasons.5             -0.6491127                  s.5                 True\n",
      "initial_seasons.6             -0.6347425                  s.6                 True\n",
      "initial_seasons.7             -0.6508970                  s.7                 True\n",
      "initial_seasons.8             -0.5654109                  s.8                 True\n",
      "initial_seasons.9             -0.5799110                  s.9                 True\n",
      "initial_seasons.10            -0.5655541                 s.10                 True\n",
      "initial_seasons.11            -0.5401111                 s.11                 True\n",
      "initial_seasons.12            -0.4687336                 s.12                 True\n",
      "initial_seasons.13            -0.4808801                 s.13                 True\n",
      "initial_seasons.14            -0.4614880                 s.14                 True\n",
      "initial_seasons.15            -0.3213062                 s.15                 True\n",
      "initial_seasons.16            -0.3096867                 s.16                 True\n",
      "initial_seasons.17            -0.3009930                 s.17                 True\n",
      "initial_seasons.18            -0.2454002                 s.18                 True\n",
      "initial_seasons.19            -0.2435534                 s.19                 True\n",
      "initial_seasons.20            -0.1799104                 s.20                 True\n",
      "initial_seasons.21             0.0025457                 s.21                 True\n",
      "initial_seasons.22             0.1375748                 s.22                 True\n",
      "initial_seasons.23             0.2780490                 s.23                 True\n",
      "initial_seasons.24             0.4004288                 s.24                 True\n",
      "initial_seasons.25             0.4044479                 s.25                 True\n",
      "initial_seasons.26             0.3534669                 s.26                 True\n",
      "initial_seasons.27             0.2858703                 s.27                 True\n",
      "initial_seasons.28             0.2189632                 s.28                 True\n",
      "initial_seasons.29             0.1937769                 s.29                 True\n",
      "initial_seasons.30             0.1863519                 s.30                 True\n",
      "initial_seasons.31             0.1916166                 s.31                 True\n",
      "initial_seasons.32             0.2299169                 s.32                 True\n",
      "initial_seasons.33             0.2294496                 s.33                 True\n",
      "initial_seasons.34             0.2275339                 s.34                 True\n",
      "initial_seasons.35             0.2305950                 s.35                 True\n",
      "initial_seasons.36             0.2540273                 s.36                 True\n",
      "initial_seasons.37             0.2779838                 s.37                 True\n",
      "initial_seasons.38             0.2726430                 s.38                 True\n",
      "initial_seasons.39             0.3821886                 s.39                 True\n",
      "initial_seasons.40             0.3450384                 s.40                 True\n",
      "initial_seasons.41             0.3291733                 s.41                 True\n",
      "initial_seasons.42             0.3572832                 s.42                 True\n",
      "initial_seasons.43             0.3753769                 s.43                 True\n",
      "initial_seasons.44             0.3853508                 s.44                 True\n",
      "initial_seasons.45             0.4821557                 s.45                 True\n",
      "initial_seasons.46             0.4483620                 s.46                 True\n",
      "initial_seasons.47             0.4222533                 s.47                 True\n",
      "initial_seasons.48             0.4322171                 s.48                 True\n",
      "initial_seasons.49             0.4362492                 s.49                 True\n",
      "initial_seasons.50             0.4377759                 s.50                 True\n",
      "initial_seasons.51             0.5170698                 s.51                 True\n",
      "initial_seasons.52             0.5360159                 s.52                 True\n",
      "initial_seasons.53             0.5400886                 s.53                 True\n",
      "initial_seasons.54             0.5104511                 s.54                 True\n",
      "initial_seasons.55             0.4958009                 s.55                 True\n",
      "initial_seasons.56             0.4633622                 s.56                 True\n",
      "initial_seasons.57             0.4972833                 s.57                 True\n",
      "initial_seasons.58             0.4481434                 s.58                 True\n",
      "initial_seasons.59             0.5226629                 s.59                 True\n",
      "initial_seasons.60             0.5136720                 s.60                 True\n",
      "initial_seasons.61             0.4817748                 s.61                 True\n",
      "initial_seasons.62             0.4764335                 s.62                 True\n",
      "initial_seasons.63             0.4713857                 s.63                 True\n",
      "initial_seasons.64             0.4438350                 s.64                 True\n",
      "initial_seasons.65             0.4508509                 s.65                 True\n",
      "initial_seasons.66             0.4769414                 s.66                 True\n",
      "initial_seasons.67             0.5233372                 s.67                 True\n",
      "initial_seasons.68             0.5397436                 s.68                 True\n",
      "initial_seasons.69             0.5105880                 s.69                 True\n",
      "initial_seasons.70             0.4922139                 s.70                 True\n",
      "initial_seasons.71             0.4417303                 s.71                 True\n",
      "initial_seasons.72             0.4844602                 s.72                 True\n",
      "initial_seasons.73             0.5092455                 s.73                 True\n",
      "initial_seasons.74             0.5337194                 s.74                 True\n",
      "initial_seasons.75             0.4953409                 s.75                 True\n",
      "initial_seasons.76             0.5083759                 s.76                 True\n",
      "initial_seasons.77             0.5059331                 s.77                 True\n",
      "initial_seasons.78             0.5023943                 s.78                 True\n",
      "initial_seasons.79             0.5812555                 s.79                 True\n",
      "initial_seasons.80             0.6909913                 s.80                 True\n",
      "initial_seasons.81             0.7121431                 s.81                 True\n",
      "initial_seasons.82             0.7814397                 s.82                 True\n",
      "initial_seasons.83             0.7333500                 s.83                 True\n",
      "initial_seasons.84             0.6758234                 s.84                 True\n",
      "initial_seasons.85             0.6675983                 s.85                 True\n",
      "initial_seasons.86             0.5677610                 s.86                 True\n",
      "initial_seasons.87             0.4990653                 s.87                 True\n",
      "initial_seasons.88             0.3604631                 s.88                 True\n",
      "initial_seasons.89             0.2868195                 s.89                 True\n",
      "initial_seasons.90             0.2969737                 s.90                 True\n",
      "initial_seasons.91             0.1537330                 s.91                 True\n",
      "initial_seasons.92             0.1039804                 s.92                 True\n",
      "initial_seasons.93            -0.0085257                 s.93                 True\n",
      "initial_seasons.94            -0.0706469                 s.94                 True\n",
      "initial_seasons.95            -0.0854052                 s.95                 True\n",
      "initial_seasons.96            -0.1806666                 s.96                 True\n",
      "initial_seasons.97            -0.2320667                 s.97                 True\n",
      "initial_seasons.98            -0.2653839                 s.98                 True\n",
      "initial_seasons.99            -0.3316299                 s.99                 True\n",
      "initial_seasons.100           -0.3293357                s.100                 True\n",
      "initial_seasons.101           -0.3015612                s.101                 True\n",
      "initial_seasons.102           -0.3150349                s.102                 True\n",
      "initial_seasons.103           -0.2467709                s.103                 True\n",
      "initial_seasons.104           -0.3578576                s.104                 True\n",
      "initial_seasons.105           -0.5009346                s.105                 True\n",
      "initial_seasons.106           -0.6113254                s.106                 True\n",
      "initial_seasons.107           -0.7394659                s.107                 True\n",
      "initial_seasons.108           -0.8272269                s.108                 True\n",
      "initial_seasons.109           -0.9070296                s.109                 True\n",
      "initial_seasons.110           -1.0004924                s.110                 True\n",
      "initial_seasons.111           -1.0325130                s.111                 True\n",
      "initial_seasons.112           -1.1438852                s.112                 True\n",
      "initial_seasons.113           -1.2091136                s.113                 True\n",
      "initial_seasons.114           -1.3119216                s.114                 True\n",
      "initial_seasons.115           -1.3996077                s.115                 True\n",
      "initial_seasons.116           -1.4233042                s.116                 True\n",
      "initial_seasons.117           -1.4651686                s.117                 True\n",
      "initial_seasons.118           -1.5643468                s.118                 True\n",
      "initial_seasons.119           -1.6226507                s.119                 True\n",
      "initial_seasons.120           -1.5888758                s.120                 True\n",
      "initial_seasons.121           -1.6407304                s.121                 True\n",
      "initial_seasons.122           -1.7304249                s.122                 True\n",
      "initial_seasons.123           -1.7559940                s.123                 True\n",
      "initial_seasons.124           -1.8324420                s.124                 True\n",
      "initial_seasons.125           -1.8476370                s.125                 True\n",
      "initial_seasons.126           -1.9064720                s.126                 True\n",
      "initial_seasons.127           -1.9906248                s.127                 True\n",
      "initial_seasons.128           -2.0813083                s.128                 True\n",
      "initial_seasons.129           -2.1412465                s.129                 True\n",
      "initial_seasons.130           -2.2019586                s.130                 True\n",
      "initial_seasons.131           -2.2844271                s.131                 True\n",
      "initial_seasons.132           -2.3180988                s.132                 True\n",
      "initial_seasons.133           -2.3758358                s.133                 True\n",
      "initial_seasons.134           -2.4600804                s.134                 True\n",
      "initial_seasons.135           -2.5344613                s.135                 True\n",
      "initial_seasons.136           -2.6284108                s.136                 True\n",
      "initial_seasons.137           -2.6656777                s.137                 True\n",
      "initial_seasons.138           -2.7246092                s.138                 True\n",
      "initial_seasons.139           -2.7675976                s.139                 True\n",
      "initial_seasons.140           -2.8655809                s.140                 True\n",
      "initial_seasons.141           -2.8269486                s.141                 True\n",
      "initial_seasons.142           -2.8435322                s.142                 True\n",
      "initial_seasons.143           -2.9807897                s.143                 True\n",
      "initial_seasons.144           -3.0438963                s.144                 True\n",
      "initial_seasons.145           -3.1207866                s.145                 True\n",
      "initial_seasons.146           -3.1859425                s.146                 True\n",
      "initial_seasons.147           -3.2213486                s.147                 True\n",
      "initial_seasons.148           -3.2597087                s.148                 True\n",
      "initial_seasons.149           -3.3151986                s.149                 True\n",
      "initial_seasons.150           -3.3677399                s.150                 True\n",
      "initial_seasons.151           -3.3966218                s.151                 True\n",
      "initial_seasons.152           -3.4800918                s.152                 True\n",
      "initial_seasons.153           -3.5199328                s.153                 True\n",
      "initial_seasons.154           -3.5218885                s.154                 True\n",
      "initial_seasons.155           -3.5526596                s.155                 True\n",
      "initial_seasons.156           -3.6183689                s.156                 True\n",
      "initial_seasons.157           -3.6600865                s.157                 True\n",
      "initial_seasons.158           -3.7092463                s.158                 True\n",
      "initial_seasons.159           -3.7047562                s.159                 True\n",
      "initial_seasons.160           -3.6661983                s.160                 True\n",
      "initial_seasons.161           -3.6211959                s.161                 True\n",
      "initial_seasons.162           -3.5413171                s.162                 True\n",
      "initial_seasons.163           -3.4489343                s.163                 True\n",
      "initial_seasons.164           -3.4028028                s.164                 True\n",
      "initial_seasons.165           -3.2831706                s.165                 True\n",
      "initial_seasons.166           -3.2480556                s.166                 True\n",
      "initial_seasons.167           -3.1563789                s.167                 True\n",
      "initial_seasons.168           -3.1159966                s.168                 True\n",
      "initial_seasons.169           -3.0448198                s.169                 True\n",
      "initial_seasons.170           -3.0203204                s.170                 True\n",
      "initial_seasons.171           -2.9646975                s.171                 True\n",
      "initial_seasons.172           -2.9507024                s.172                 True\n",
      "initial_seasons.173           -2.8732105                s.173                 True\n",
      "initial_seasons.174           -2.7617049                s.174                 True\n",
      "initial_seasons.175           -2.7693154                s.175                 True\n",
      "initial_seasons.176           -2.7999949                s.176                 True\n",
      "initial_seasons.177           -2.7219698                s.177                 True\n",
      "initial_seasons.178           -2.7216563                s.178                 True\n",
      "initial_seasons.179           -2.7277866                s.179                 True\n",
      "initial_seasons.180           -2.6740941                s.180                 True\n",
      "initial_seasons.181           -2.6970233                s.181                 True\n",
      "initial_seasons.182           -2.7201403                s.182                 True\n",
      "initial_seasons.183           -2.7416898                s.183                 True\n",
      "initial_seasons.184           -2.7251688                s.184                 True\n",
      "initial_seasons.185           -2.6802632                s.185                 True\n",
      "initial_seasons.186           -2.7120941                s.186                 True\n",
      "initial_seasons.187           -2.7019017                s.187                 True\n",
      "initial_seasons.188           -2.7354340                s.188                 True\n",
      "initial_seasons.189           -2.7071058                s.189                 True\n",
      "initial_seasons.190           -2.6995131                s.190                 True\n",
      "initial_seasons.191           -2.7262734                s.191                 True\n",
      "initial_seasons.192           -2.7387365                s.192                 True\n",
      "initial_seasons.193           -2.7164972                s.193                 True\n",
      "initial_seasons.194           -2.6710699                s.194                 True\n",
      "initial_seasons.195           -2.7486020                s.195                 True\n",
      "initial_seasons.196           -2.7013430                s.196                 True\n",
      "initial_seasons.197           -2.7590375                s.197                 True\n",
      "initial_seasons.198           -2.7268513                s.198                 True\n",
      "initial_seasons.199           -2.7421187                s.199                 True\n",
      "initial_seasons.200           -2.7729323                s.200                 True\n",
      "initial_seasons.201           -2.7259107                s.201                 True\n",
      "initial_seasons.202           -2.7551050                s.202                 True\n",
      "initial_seasons.203           -2.7823137                s.203                 True\n",
      "initial_seasons.204           -2.7934500                s.204                 True\n",
      "initial_seasons.205           -2.8101049                s.205                 True\n",
      "initial_seasons.206           -2.6923495                s.206                 True\n",
      "initial_seasons.207           -2.6027457                s.207                 True\n",
      "initial_seasons.208           -2.5004000                s.208                 True\n",
      "initial_seasons.209           -2.4146110                s.209                 True\n",
      "initial_seasons.210           -2.2558578                s.210                 True\n",
      "initial_seasons.211           -2.2142713                s.211                 True\n",
      "initial_seasons.212           -2.1283325                s.212                 True\n",
      "initial_seasons.213           -2.2070640                s.213                 True\n",
      "initial_seasons.214           -2.2245876                s.214                 True\n",
      "initial_seasons.215           -2.2844866                s.215                 True\n",
      "initial_seasons.216           -2.3836582                s.216                 True\n",
      "initial_seasons.217           -2.5106692                s.217                 True\n",
      "initial_seasons.218           -2.6510644                s.218                 True\n",
      "initial_seasons.219           -2.7470625                s.219                 True\n",
      "initial_seasons.220           -2.7961610                s.220                 True\n",
      "initial_seasons.221           -2.8381395                s.221                 True\n",
      "initial_seasons.222           -2.8957126                s.222                 True\n",
      "initial_seasons.223           -2.9582955                s.223                 True\n",
      "initial_seasons.224           -2.9541940                s.224                 True\n",
      "initial_seasons.225           -2.9508299                s.225                 True\n",
      "initial_seasons.226           -2.9936657                s.226                 True\n",
      "initial_seasons.227           -3.0134020                s.227                 True\n",
      "initial_seasons.228           -3.0194448                s.228                 True\n",
      "initial_seasons.229           -3.0044379                s.229                 True\n",
      "initial_seasons.230           -3.0124331                s.230                 True\n",
      "initial_seasons.231           -3.0076308                s.231                 True\n",
      "initial_seasons.232           -3.0143654                s.232                 True\n",
      "initial_seasons.233           -2.9451540                s.233                 True\n",
      "initial_seasons.234           -2.9544937                s.234                 True\n",
      "initial_seasons.235           -2.9540175                s.235                 True\n",
      "initial_seasons.236           -2.9042972                s.236                 True\n",
      "initial_seasons.237           -2.8814865                s.237                 True\n",
      "initial_seasons.238           -2.8637190                s.238                 True\n",
      "initial_seasons.239           -2.8336558                s.239                 True\n",
      "initial_seasons.240           -2.7869026                s.240                 True\n",
      "initial_seasons.241           -2.7644025                s.241                 True\n",
      "initial_seasons.242           -2.7693349                s.242                 True\n",
      "initial_seasons.243           -2.7489556                s.243                 True\n",
      "initial_seasons.244           -2.7503038                s.244                 True\n",
      "initial_seasons.245           -2.6523389                s.245                 True\n",
      "initial_seasons.246           -2.6603663                s.246                 True\n",
      "initial_seasons.247           -2.6126261                s.247                 True\n",
      "initial_seasons.248           -2.5981221                s.248                 True\n",
      "initial_seasons.249           -2.5952630                s.249                 True\n",
      "initial_seasons.250           -2.5685134                s.250                 True\n",
      "initial_seasons.251           -2.5749672                s.251                 True\n",
      "initial_seasons.252           -2.5280212                s.252                 True\n",
      "initial_seasons.253           -2.4532539                s.253                 True\n",
      "initial_seasons.254           -2.3914890                s.254                 True\n",
      "initial_seasons.255           -2.2862759                s.255                 True\n",
      "initial_seasons.256           -2.1901554                s.256                 True\n",
      "initial_seasons.257           -2.0931386                s.257                 True\n",
      "initial_seasons.258           -1.9941943                s.258                 True\n",
      "initial_seasons.259           -1.9153773                s.259                 True\n",
      "initial_seasons.260           -1.9764504                s.260                 True\n",
      "initial_seasons.261           -2.0620000                s.261                 True\n",
      "initial_seasons.262           -2.1348392                s.262                 True\n",
      "initial_seasons.263           -2.0905727                s.263                 True\n",
      "initial_seasons.264           -2.1194957                s.264                 True\n",
      "initial_seasons.265           -2.0587973                s.265                 True\n",
      "initial_seasons.266           -2.0699385                s.266                 True\n",
      "initial_seasons.267           -2.0385750                s.267                 True\n",
      "initial_seasons.268           -1.9924682                s.268                 True\n",
      "initial_seasons.269           -1.9793998                s.269                 True\n",
      "initial_seasons.270           -1.9769707                s.270                 True\n",
      "initial_seasons.271           -1.9709584                s.271                 True\n",
      "initial_seasons.272           -1.9342392                s.272                 True\n",
      "initial_seasons.273           -1.8533728                s.273                 True\n",
      "initial_seasons.274           -1.8246705                s.274                 True\n",
      "initial_seasons.275           -1.7762004                s.275                 True\n",
      "initial_seasons.276           -1.7210288                s.276                 True\n",
      "initial_seasons.277           -1.7482251                s.277                 True\n",
      "initial_seasons.278           -1.7031115                s.278                 True\n",
      "initial_seasons.279           -1.6748748                s.279                 True\n",
      "initial_seasons.280           -1.5401428                s.280                 True\n",
      "initial_seasons.281           -1.4995508                s.281                 True\n",
      "initial_seasons.282           -1.5045633                s.282                 True\n",
      "initial_seasons.283           -1.4629617                s.283                 True\n",
      "initial_seasons.284           -1.3856557                s.284                 True\n",
      "initial_seasons.285           -1.2692306                s.285                 True\n",
      "initial_seasons.286           -1.2134992                s.286                 True\n",
      "initial_seasons.287           -1.0440340                s.287                 True\n",
      "----------------------------------------------------------------------------------\n"
     ]
    },
    {
     "name": "stderr",
     "output_type": "stream",
     "text": [
      "/home/laura/anaconda3/envs/jupyterEnv/lib/python3.8/site-packages/statsmodels/tsa/holtwinters.py:743: ConvergenceWarning: Optimization failed to converge. Check mle_retvals.\n",
      "  warn(\"Optimization failed to converge. Check mle_retvals.\",\n"
     ]
    }
   ],
   "source": [
    "# fit model\n",
    "model = ExponentialSmoothing(df_train.temperature, seasonal=\"add\",seasonal_periods = 288)#trend = \"add\")#, seasonal = \"mul\", seasonal_periods=500)\n",
    "model_fit = model.fit()#optimized=True)#, use_boxcox=True, remove_bias=True)\n",
    "\n",
    "print(model_fit.summary())\n",
    "\n",
    "df_forecast = model_fit.forecast(end_pred)"
   ]
  },
  {
   "cell_type": "code",
   "execution_count": 48,
   "metadata": {},
   "outputs": [
    {
     "data": {
      "image/png": "[encoded data removed]",
      "text/plain": [
       "<Figure size 1440x360 with 1 Axes>"
      ]
     },
     "metadata": {
      "needs_background": "light"
     },
     "output_type": "display_data"
    },
    {
     "name": "stdout",
     "output_type": "stream",
     "text": [
      "ABSOLUTE ERROR 0.10270462450199513\n",
      "MSE 0.021233449034994138\n"
     ]
    }
   ],
   "source": [
    "#df_pred[start_date:end_date].plot(figsize = (20,5), color = \"red\")\n",
    "df_test.temperature[:end_pred].plot(figsize = (20,5),color = \"blue\")\n",
    "df_forecast.plot(color = \"green\")\n",
    "plt.title(\"Predictions vs Actual\", size = 24)\n",
    "plt.show()                          \n",
    "\n",
    "print(\"ABSOLUTE ERROR \"+str(mean_absolute_error(df_test.temperature[:end_pred], df_forecast)))\n",
    "print(\"MSE \"+str(mean_squared_error(df_test.temperature[:end_pred], df_forecast)))"
   ]
  },
  {
   "cell_type": "markdown",
   "metadata": {},
   "source": [
    "# Humidity"
   ]
  },
  {
   "cell_type": "code",
   "execution_count": 49,
   "metadata": {},
   "outputs": [
    {
     "name": "stdout",
     "output_type": "stream",
     "text": [
      "                       ExponentialSmoothing Model Results                       \n",
      "================================================================================\n",
      "Dep. Variable:                    endog   No. Observations:                 2304\n",
      "Model:             ExponentialSmoothing   SSE                             82.848\n",
      "Optimized:                         True   AIC                          -7653.703\n",
      "Trend:                   Multiplicative   BIC                          -7630.733\n",
      "Seasonal:                          None   AICC                         -7653.666\n",
      "Seasonal Periods:                  None   Date:                 Thu, 16 Jul 2020\n",
      "Box-Cox:                          False   Time:                         14:41:00\n",
      "Box-Cox Coeff.:                    None                                         \n",
      "==============================================================================\n",
      "                       coeff                 code              optimized      \n",
      "------------------------------------------------------------------------------\n",
      "smoothing_level            1.0000000                alpha                 True\n",
      "smoothing_slope            0.4613222                 beta                 True\n",
      "initial_level              46.683648                  l.0                 True\n",
      "initial_slope              0.9939239                  b.0                 True\n",
      "------------------------------------------------------------------------------\n"
     ]
    }
   ],
   "source": [
    "# fit model\n",
    "model = ExponentialSmoothing(df_train.humidity, trend=\"mul\")# seasonal=\"mul\",seasonal_periods = 288)\n",
    "model_fit = model.fit()\n",
    "\n",
    "print(model_fit.summary())\n",
    "\n",
    "df_forecast = model_fit.forecast(end_pred)"
   ]
  },
  {
   "cell_type": "code",
   "execution_count": 50,
   "metadata": {},
   "outputs": [
    {
     "data": {
      "image/png": "[encoded data removed]",
      "text/plain": [
       "<Figure size 1440x360 with 1 Axes>"
      ]
     },
     "metadata": {
      "needs_background": "light"
     },
     "output_type": "display_data"
    },
    {
     "name": "stdout",
     "output_type": "stream",
     "text": [
      "ABSOLUTE ERROR 0.19957435214552888\n",
      "MSE 0.05044598216958194\n"
     ]
    }
   ],
   "source": [
    "#df_pred[start_date:end_date].plot(figsize = (20,5), color = \"red\")\n",
    "df_test.humidity[:end_pred].plot(figsize = (20,5),color = \"blue\")\n",
    "df_forecast.plot(color = \"green\")\n",
    "plt.title(\"Predictions vs Actual\", size = 24)\n",
    "plt.show()                          \n",
    "\n",
    "print(\"ABSOLUTE ERROR \"+str(mean_absolute_error(df_test.humidity[:end_pred], df_forecast)))\n",
    "print(\"MSE \"+str(mean_squared_error(df_test.humidity[:end_pred], df_forecast)))"
   ]
  },
  {
   "cell_type": "markdown",
   "metadata": {},
   "source": [
    "# Pressure"
   ]
  },
  {
   "cell_type": "code",
   "execution_count": 51,
   "metadata": {},
   "outputs": [
    {
     "name": "stdout",
     "output_type": "stream",
     "text": [
      "                       ExponentialSmoothing Model Results                       \n",
      "================================================================================\n",
      "Dep. Variable:                    endog   No. Observations:                 2304\n",
      "Model:             ExponentialSmoothing   SSE                             81.037\n",
      "Optimized:                         True   AIC                          -7708.630\n",
      "Trend:                             None   BIC                          -7697.145\n",
      "Seasonal:                          None   AICC                         -7708.612\n",
      "Seasonal Periods:                  None   Date:                 Thu, 16 Jul 2020\n",
      "Box-Cox:                          False   Time:                         14:41:06\n",
      "Box-Cox Coeff.:                    None                                         \n",
      "==============================================================================\n",
      "                       coeff                 code              optimized      \n",
      "------------------------------------------------------------------------------\n",
      "smoothing_level            0.7841953                alpha                 True\n",
      "initial_level              1019.5000                  l.0                 True\n",
      "------------------------------------------------------------------------------\n"
     ]
    }
   ],
   "source": [
    "# fit model\n",
    "model = ExponentialSmoothing(df_train.pressure)#, seasonal=\"add\",seasonal_periods = 288) #seasonal = \"mul\", seasonal_periods=288)\n",
    "model_fit = model.fit()\n",
    "\n",
    "print(model_fit.summary())\n",
    "\n",
    "df_forecast = model_fit.forecast(end_pred)"
   ]
  },
  {
   "cell_type": "code",
   "execution_count": 52,
   "metadata": {},
   "outputs": [
    {
     "data": {
      "image/png": "[encoded data removed]",
      "text/plain": [
       "<Figure size 1440x360 with 1 Axes>"
      ]
     },
     "metadata": {
      "needs_background": "light"
     },
     "output_type": "display_data"
    },
    {
     "name": "stdout",
     "output_type": "stream",
     "text": [
      "ABSOLUTE ERROR 0.00925925937636407\n",
      "MSE 0.000514403288929182\n"
     ]
    }
   ],
   "source": [
    "#df_pred[start_date:end_date].plot(figsize = (20,5), color = \"red\")\n",
    "df_test.pressure[:end_pred].plot(figsize = (20,5),color = \"blue\")\n",
    "df_forecast.plot(color = \"green\")\n",
    "plt.title(\"Predictions vs Actual\", size = 24)\n",
    "plt.show()                          \n",
    "\n",
    "print(\"ABSOLUTE ERROR \"+str(mean_absolute_error(df_test.pressure[:end_pred], df_forecast)))\n",
    "print(\"MSE \"+str(mean_squared_error(df_test.pressure[:end_pred], df_forecast)))"
   ]
  },
  {
   "cell_type": "code",
   "execution_count": null,
   "metadata": {},
   "outputs": [],
   "source": []
  },
  {
   "cell_type": "code",
   "execution_count": null,
   "metadata": {},
   "outputs": [],
   "source": []
  },
  {
   "cell_type": "code",
   "execution_count": null,
   "metadata": {},
   "outputs": [],
   "source": []
  },
  {
   "cell_type": "code",
   "execution_count": null,
   "metadata": {},
   "outputs": [],
   "source": []
  },
  {
   "cell_type": "code",
   "execution_count": 33,
   "metadata": {},
   "outputs": [],
   "source": [
    "def exp_smoothing_configs(seasonal=[None]):\n",
    "    models = list()\n",
    "    # define config lists\n",
    "    t_params = ['add', 'mul', None]\n",
    "    d_params = [True, False]\n",
    "    s_params = ['add', 'mul', None]\n",
    "    p_params = seasonal\n",
    "    b_params = [True, False]\n",
    "    r_params = [True, False]\n",
    "    # create config instances\n",
    "    for t in t_params:\n",
    "        for d in d_params:\n",
    "            for s in s_params:\n",
    "                for p in p_params:\n",
    "                    for b in b_params:\n",
    "                        for r in r_params:\n",
    "                            cfg = [t,d,s,p,b,r]\n",
    "                            models.append(cfg)\n",
    "    return models\n",
    "\n",
    "cfg_list = exp_smoothing_configs(seasonal=[288]) #[0,6,12]"
   ]
  },
  {
   "cell_type": "code",
   "execution_count": 34,
   "metadata": {},
   "outputs": [
    {
     "name": "stdout",
     "output_type": "stream",
     "text": [
      "Holt's Winter Model\n",
      "0\n",
      "['add', True, 'add', 288, True, True]\n"
     ]
    },
    {
     "name": "stderr",
     "output_type": "stream",
     "text": [
      "/home/laura/anaconda3/envs/jupyterEnv/lib/python3.8/site-packages/statsmodels/tsa/holtwinters.py:743: ConvergenceWarning: Optimization failed to converge. Check mle_retvals.\n",
      "  warn(\"Optimization failed to converge. Check mle_retvals.\",\n"
     ]
    },
    {
     "name": "stdout",
     "output_type": "stream",
     "text": [
      "ok\n",
      "rmse  3.4594643880476306\n",
      "1\n",
      "['add', True, 'add', 288, True, False]\n"
     ]
    },
    {
     "name": "stderr",
     "output_type": "stream",
     "text": [
      "/home/laura/anaconda3/envs/jupyterEnv/lib/python3.8/site-packages/statsmodels/tsa/holtwinters.py:743: ConvergenceWarning: Optimization failed to converge. Check mle_retvals.\n",
      "  warn(\"Optimization failed to converge. Check mle_retvals.\",\n"
     ]
    },
    {
     "name": "stdout",
     "output_type": "stream",
     "text": [
      "ok\n",
      "rmse  3.465501001142249\n",
      "2\n",
      "['add', True, 'add', 288, False, True]\n"
     ]
    },
    {
     "name": "stderr",
     "output_type": "stream",
     "text": [
      "/home/laura/anaconda3/envs/jupyterEnv/lib/python3.8/site-packages/statsmodels/tsa/holtwinters.py:743: ConvergenceWarning: Optimization failed to converge. Check mle_retvals.\n",
      "  warn(\"Optimization failed to converge. Check mle_retvals.\",\n"
     ]
    },
    {
     "name": "stdout",
     "output_type": "stream",
     "text": [
      "ok\n",
      "rmse  4.635259101321859\n",
      "3\n",
      "['add', True, 'add', 288, False, False]\n"
     ]
    },
    {
     "name": "stderr",
     "output_type": "stream",
     "text": [
      "/home/laura/anaconda3/envs/jupyterEnv/lib/python3.8/site-packages/statsmodels/tsa/holtwinters.py:743: ConvergenceWarning: Optimization failed to converge. Check mle_retvals.\n",
      "  warn(\"Optimization failed to converge. Check mle_retvals.\",\n"
     ]
    },
    {
     "name": "stdout",
     "output_type": "stream",
     "text": [
      "ok\n",
      "rmse  4.640443786844335\n",
      "4\n",
      "['add', True, 'mul', 288, True, True]\n"
     ]
    },
    {
     "name": "stderr",
     "output_type": "stream",
     "text": [
      "/home/laura/anaconda3/envs/jupyterEnv/lib/python3.8/site-packages/statsmodels/tsa/holtwinters.py:743: ConvergenceWarning: Optimization failed to converge. Check mle_retvals.\n",
      "  warn(\"Optimization failed to converge. Check mle_retvals.\",\n"
     ]
    },
    {
     "name": "stdout",
     "output_type": "stream",
     "text": [
      "ok\n",
      "rmse  3.111345763928234\n",
      "5\n",
      "['add', True, 'mul', 288, True, False]\n"
     ]
    },
    {
     "name": "stderr",
     "output_type": "stream",
     "text": [
      "/home/laura/anaconda3/envs/jupyterEnv/lib/python3.8/site-packages/statsmodels/tsa/holtwinters.py:743: ConvergenceWarning: Optimization failed to converge. Check mle_retvals.\n",
      "  warn(\"Optimization failed to converge. Check mle_retvals.\",\n"
     ]
    },
    {
     "name": "stdout",
     "output_type": "stream",
     "text": [
      "ok\n",
      "rmse  3.1165183433087384\n",
      "6\n",
      "['add', True, 'mul', 288, False, True]\n"
     ]
    },
    {
     "name": "stderr",
     "output_type": "stream",
     "text": [
      "/home/laura/anaconda3/envs/jupyterEnv/lib/python3.8/site-packages/statsmodels/tsa/holtwinters.py:743: ConvergenceWarning: Optimization failed to converge. Check mle_retvals.\n",
      "  warn(\"Optimization failed to converge. Check mle_retvals.\",\n"
     ]
    },
    {
     "name": "stdout",
     "output_type": "stream",
     "text": [
      "ok\n",
      "rmse  2.2247057433393564\n",
      "7\n",
      "['add', True, 'mul', 288, False, False]\n"
     ]
    },
    {
     "name": "stderr",
     "output_type": "stream",
     "text": [
      "/home/laura/anaconda3/envs/jupyterEnv/lib/python3.8/site-packages/statsmodels/tsa/holtwinters.py:743: ConvergenceWarning: Optimization failed to converge. Check mle_retvals.\n",
      "  warn(\"Optimization failed to converge. Check mle_retvals.\",\n"
     ]
    },
    {
     "name": "stdout",
     "output_type": "stream",
     "text": [
      "ok\n",
      "rmse  2.227168777206668\n",
      "8\n",
      "['add', True, None, 288, True, True]\n",
      "ok\n",
      "rmse  1.111701939460289\n",
      "9\n",
      "['add', True, None, 288, True, False]\n",
      "ok\n",
      "rmse  1.1079708238016408\n",
      "10\n",
      "['add', True, None, 288, False, True]\n",
      "ok\n",
      "rmse  1.1382051399375024\n",
      "11\n",
      "['add', True, None, 288, False, False]\n",
      "ok\n",
      "rmse  1.135456582374397\n",
      "12\n",
      "['add', False, 'add', 288, True, True]\n"
     ]
    },
    {
     "name": "stderr",
     "output_type": "stream",
     "text": [
      "/home/laura/anaconda3/envs/jupyterEnv/lib/python3.8/site-packages/statsmodels/tsa/holtwinters.py:743: ConvergenceWarning: Optimization failed to converge. Check mle_retvals.\n",
      "  warn(\"Optimization failed to converge. Check mle_retvals.\",\n"
     ]
    },
    {
     "name": "stdout",
     "output_type": "stream",
     "text": [
      "ok\n",
      "rmse  2.099572389460861\n",
      "13\n",
      "['add', False, 'add', 288, True, False]\n"
     ]
    },
    {
     "name": "stderr",
     "output_type": "stream",
     "text": [
      "/home/laura/anaconda3/envs/jupyterEnv/lib/python3.8/site-packages/statsmodels/tsa/holtwinters.py:743: ConvergenceWarning: Optimization failed to converge. Check mle_retvals.\n",
      "  warn(\"Optimization failed to converge. Check mle_retvals.\",\n"
     ]
    },
    {
     "name": "stdout",
     "output_type": "stream",
     "text": [
      "ok\n",
      "rmse  2.1118232495195857\n",
      "14\n",
      "['add', False, 'add', 288, False, True]\n"
     ]
    },
    {
     "name": "stderr",
     "output_type": "stream",
     "text": [
      "/home/laura/anaconda3/envs/jupyterEnv/lib/python3.8/site-packages/statsmodels/tsa/holtwinters.py:743: ConvergenceWarning: Optimization failed to converge. Check mle_retvals.\n",
      "  warn(\"Optimization failed to converge. Check mle_retvals.\",\n"
     ]
    },
    {
     "name": "stdout",
     "output_type": "stream",
     "text": [
      "ok\n",
      "rmse  2.501605239834806\n",
      "15\n",
      "['add', False, 'add', 288, False, False]\n"
     ]
    },
    {
     "name": "stderr",
     "output_type": "stream",
     "text": [
      "/home/laura/anaconda3/envs/jupyterEnv/lib/python3.8/site-packages/statsmodels/tsa/holtwinters.py:743: ConvergenceWarning: Optimization failed to converge. Check mle_retvals.\n",
      "  warn(\"Optimization failed to converge. Check mle_retvals.\",\n"
     ]
    },
    {
     "name": "stdout",
     "output_type": "stream",
     "text": [
      "ok\n",
      "rmse  2.5078852118305686\n",
      "16\n",
      "['add', False, 'mul', 288, True, True]\n"
     ]
    },
    {
     "name": "stderr",
     "output_type": "stream",
     "text": [
      "/home/laura/anaconda3/envs/jupyterEnv/lib/python3.8/site-packages/statsmodels/tsa/holtwinters.py:743: ConvergenceWarning: Optimization failed to converge. Check mle_retvals.\n",
      "  warn(\"Optimization failed to converge. Check mle_retvals.\",\n"
     ]
    },
    {
     "name": "stdout",
     "output_type": "stream",
     "text": [
      "ok\n",
      "rmse  1.6246393638521415\n",
      "17\n",
      "['add', False, 'mul', 288, True, False]\n"
     ]
    },
    {
     "name": "stderr",
     "output_type": "stream",
     "text": [
      "/home/laura/anaconda3/envs/jupyterEnv/lib/python3.8/site-packages/statsmodels/tsa/holtwinters.py:743: ConvergenceWarning: Optimization failed to converge. Check mle_retvals.\n",
      "  warn(\"Optimization failed to converge. Check mle_retvals.\",\n"
     ]
    },
    {
     "name": "stdout",
     "output_type": "stream",
     "text": [
      "ok\n",
      "rmse  1.630517685142969\n",
      "18\n",
      "['add', False, 'mul', 288, False, True]\n"
     ]
    },
    {
     "name": "stderr",
     "output_type": "stream",
     "text": [
      "/home/laura/anaconda3/envs/jupyterEnv/lib/python3.8/site-packages/statsmodels/tsa/holtwinters.py:743: ConvergenceWarning: Optimization failed to converge. Check mle_retvals.\n",
      "  warn(\"Optimization failed to converge. Check mle_retvals.\",\n"
     ]
    },
    {
     "name": "stdout",
     "output_type": "stream",
     "text": [
      "ok\n",
      "rmse  1.1041058442523273\n",
      "19\n",
      "['add', False, 'mul', 288, False, False]\n"
     ]
    },
    {
     "name": "stderr",
     "output_type": "stream",
     "text": [
      "/home/laura/anaconda3/envs/jupyterEnv/lib/python3.8/site-packages/statsmodels/tsa/holtwinters.py:743: ConvergenceWarning: Optimization failed to converge. Check mle_retvals.\n",
      "  warn(\"Optimization failed to converge. Check mle_retvals.\",\n"
     ]
    },
    {
     "name": "stdout",
     "output_type": "stream",
     "text": [
      "ok\n",
      "rmse  1.103569714632413\n",
      "20\n",
      "['add', False, None, 288, True, True]\n",
      "ok\n",
      "rmse  0.05503201207796979\n",
      "21\n",
      "['add', False, None, 288, True, False]\n",
      "ok\n",
      "rmse  0.054573033044844656\n",
      "22\n",
      "['add', False, None, 288, False, True]\n",
      "ok\n",
      "rmse  0.06134192789399925\n",
      "23\n",
      "['add', False, None, 288, False, False]\n",
      "ok\n",
      "rmse  0.06138296694045178\n",
      "24\n",
      "['mul', True, 'add', 288, True, True]\n",
      "ok\n",
      "rmse  15.982037967078123\n",
      "25\n",
      "['mul', True, 'add', 288, True, False]\n",
      "ok\n",
      "rmse  16.009402481602347\n",
      "26\n",
      "['mul', True, 'add', 288, False, True]\n"
     ]
    },
    {
     "name": "stderr",
     "output_type": "stream",
     "text": [
      "/home/laura/anaconda3/envs/jupyterEnv/lib/python3.8/site-packages/statsmodels/tsa/holtwinters.py:743: ConvergenceWarning: Optimization failed to converge. Check mle_retvals.\n",
      "  warn(\"Optimization failed to converge. Check mle_retvals.\",\n"
     ]
    },
    {
     "name": "stdout",
     "output_type": "stream",
     "text": [
      "ok\n",
      "rmse  18.377436992528647\n",
      "27\n",
      "['mul', True, 'add', 288, False, False]\n"
     ]
    },
    {
     "name": "stderr",
     "output_type": "stream",
     "text": [
      "/home/laura/anaconda3/envs/jupyterEnv/lib/python3.8/site-packages/statsmodels/tsa/holtwinters.py:743: ConvergenceWarning: Optimization failed to converge. Check mle_retvals.\n",
      "  warn(\"Optimization failed to converge. Check mle_retvals.\",\n"
     ]
    },
    {
     "name": "stdout",
     "output_type": "stream",
     "text": [
      "ok\n",
      "rmse  18.433898624709958\n",
      "28\n",
      "['mul', True, 'mul', 288, True, True]\n"
     ]
    },
    {
     "name": "stderr",
     "output_type": "stream",
     "text": [
      "/home/laura/anaconda3/envs/jupyterEnv/lib/python3.8/site-packages/statsmodels/tsa/holtwinters.py:743: ConvergenceWarning: Optimization failed to converge. Check mle_retvals.\n",
      "  warn(\"Optimization failed to converge. Check mle_retvals.\",\n"
     ]
    },
    {
     "name": "stdout",
     "output_type": "stream",
     "text": [
      "ok\n",
      "29\n",
      "['mul', True, 'mul', 288, True, False]\n"
     ]
    },
    {
     "name": "stderr",
     "output_type": "stream",
     "text": [
      "/home/laura/anaconda3/envs/jupyterEnv/lib/python3.8/site-packages/statsmodels/tsa/holtwinters.py:743: ConvergenceWarning: Optimization failed to converge. Check mle_retvals.\n",
      "  warn(\"Optimization failed to converge. Check mle_retvals.\",\n"
     ]
    },
    {
     "name": "stdout",
     "output_type": "stream",
     "text": [
      "ok\n",
      "rmse  15.919917849080356\n",
      "30\n",
      "['mul', True, 'mul', 288, False, True]\n"
     ]
    },
    {
     "name": "stderr",
     "output_type": "stream",
     "text": [
      "/home/laura/anaconda3/envs/jupyterEnv/lib/python3.8/site-packages/statsmodels/tsa/holtwinters.py:743: ConvergenceWarning: Optimization failed to converge. Check mle_retvals.\n",
      "  warn(\"Optimization failed to converge. Check mle_retvals.\",\n",
      "/home/laura/anaconda3/envs/jupyterEnv/lib/python3.8/site-packages/statsmodels/tsa/holtwinters.py:895: RuntimeWarning: invalid value encountered in power\n",
      "  (alphac * trended(lvls[i - 1], dampen(b[i - 1], phi)))\n",
      "/home/laura/anaconda3/envs/jupyterEnv/lib/python3.8/site-packages/statsmodels/tsa/holtwinters.py:898: RuntimeWarning: invalid value encountered in power\n",
      "  (betac * dampen(b[i - 1], phi))\n",
      "/home/laura/anaconda3/envs/jupyterEnv/lib/python3.8/site-packages/statsmodels/tsa/holtwinters.py:899: RuntimeWarning: invalid value encountered in power\n",
      "  s[i + m - 1] = y_gamma[i - 1] / trended(lvls[i - 1], dampen(b[i - 1], phi)) + \\\n",
      "/home/laura/anaconda3/envs/jupyterEnv/lib/python3.8/site-packages/statsmodels/tsa/holtwinters.py:905: RuntimeWarning: invalid value encountered in power\n",
      "  b[:nobs] = dampen(b[:nobs], phi)\n"
     ]
    },
    {
     "name": "stdout",
     "output_type": "stream",
     "text": [
      "ok\n",
      "31\n",
      "['mul', True, 'mul', 288, False, False]\n"
     ]
    },
    {
     "name": "stderr",
     "output_type": "stream",
     "text": [
      "/home/laura/anaconda3/envs/jupyterEnv/lib/python3.8/site-packages/statsmodels/tsa/holtwinters.py:743: ConvergenceWarning: Optimization failed to converge. Check mle_retvals.\n",
      "  warn(\"Optimization failed to converge. Check mle_retvals.\",\n",
      "/home/laura/anaconda3/envs/jupyterEnv/lib/python3.8/site-packages/statsmodels/tsa/holtwinters.py:895: RuntimeWarning: invalid value encountered in power\n",
      "  (alphac * trended(lvls[i - 1], dampen(b[i - 1], phi)))\n",
      "/home/laura/anaconda3/envs/jupyterEnv/lib/python3.8/site-packages/statsmodels/tsa/holtwinters.py:898: RuntimeWarning: invalid value encountered in power\n",
      "  (betac * dampen(b[i - 1], phi))\n",
      "/home/laura/anaconda3/envs/jupyterEnv/lib/python3.8/site-packages/statsmodels/tsa/holtwinters.py:899: RuntimeWarning: invalid value encountered in power\n",
      "  s[i + m - 1] = y_gamma[i - 1] / trended(lvls[i - 1], dampen(b[i - 1], phi)) + \\\n",
      "/home/laura/anaconda3/envs/jupyterEnv/lib/python3.8/site-packages/statsmodels/tsa/holtwinters.py:905: RuntimeWarning: invalid value encountered in power\n",
      "  b[:nobs] = dampen(b[:nobs], phi)\n"
     ]
    },
    {
     "name": "stdout",
     "output_type": "stream",
     "text": [
      "ok\n",
      "32\n",
      "['mul', True, None, 288, True, True]\n",
      "ok\n",
      "33\n",
      "['mul', True, None, 288, True, False]\n",
      "ok\n",
      "rmse  1.1046829489796843\n",
      "34\n",
      "['mul', True, None, 288, False, True]\n",
      "ok\n",
      "rmse  1.1432422216052502\n",
      "35\n",
      "['mul', True, None, 288, False, False]\n",
      "ok\n",
      "rmse  1.125385321568007\n",
      "36\n",
      "['mul', False, 'add', 288, True, True]\n"
     ]
    },
    {
     "name": "stderr",
     "output_type": "stream",
     "text": [
      "/home/laura/anaconda3/envs/jupyterEnv/lib/python3.8/site-packages/statsmodels/tsa/holtwinters.py:743: ConvergenceWarning: Optimization failed to converge. Check mle_retvals.\n",
      "  warn(\"Optimization failed to converge. Check mle_retvals.\",\n"
     ]
    },
    {
     "name": "stdout",
     "output_type": "stream",
     "text": [
      "ok\n",
      "rmse  3.289852626148882\n",
      "37\n",
      "['mul', False, 'add', 288, True, False]\n"
     ]
    },
    {
     "name": "stderr",
     "output_type": "stream",
     "text": [
      "/home/laura/anaconda3/envs/jupyterEnv/lib/python3.8/site-packages/statsmodels/tsa/holtwinters.py:743: ConvergenceWarning: Optimization failed to converge. Check mle_retvals.\n",
      "  warn(\"Optimization failed to converge. Check mle_retvals.\",\n"
     ]
    },
    {
     "name": "stdout",
     "output_type": "stream",
     "text": [
      "ok\n",
      "rmse  3.3247463496020875\n",
      "38\n",
      "['mul', False, 'add', 288, False, True]\n"
     ]
    },
    {
     "name": "stderr",
     "output_type": "stream",
     "text": [
      "/home/laura/anaconda3/envs/jupyterEnv/lib/python3.8/site-packages/statsmodels/tsa/holtwinters.py:743: ConvergenceWarning: Optimization failed to converge. Check mle_retvals.\n",
      "  warn(\"Optimization failed to converge. Check mle_retvals.\",\n"
     ]
    },
    {
     "name": "stdout",
     "output_type": "stream",
     "text": [
      "ok\n",
      "rmse  18.389511615144556\n",
      "39\n",
      "['mul', False, 'add', 288, False, False]\n"
     ]
    },
    {
     "name": "stderr",
     "output_type": "stream",
     "text": [
      "/home/laura/anaconda3/envs/jupyterEnv/lib/python3.8/site-packages/statsmodels/tsa/holtwinters.py:743: ConvergenceWarning: Optimization failed to converge. Check mle_retvals.\n",
      "  warn(\"Optimization failed to converge. Check mle_retvals.\",\n"
     ]
    },
    {
     "name": "stdout",
     "output_type": "stream",
     "text": [
      "ok\n",
      "rmse  18.44611053535385\n",
      "40\n",
      "['mul', False, 'mul', 288, True, True]\n"
     ]
    },
    {
     "name": "stderr",
     "output_type": "stream",
     "text": [
      "/home/laura/anaconda3/envs/jupyterEnv/lib/python3.8/site-packages/statsmodels/tsa/holtwinters.py:743: ConvergenceWarning: Optimization failed to converge. Check mle_retvals.\n",
      "  warn(\"Optimization failed to converge. Check mle_retvals.\",\n"
     ]
    },
    {
     "name": "stdout",
     "output_type": "stream",
     "text": [
      "ok\n",
      "rmse  1.5308692022774404\n",
      "41\n",
      "['mul', False, 'mul', 288, True, False]\n"
     ]
    },
    {
     "name": "stderr",
     "output_type": "stream",
     "text": [
      "/home/laura/anaconda3/envs/jupyterEnv/lib/python3.8/site-packages/statsmodels/tsa/holtwinters.py:743: ConvergenceWarning: Optimization failed to converge. Check mle_retvals.\n",
      "  warn(\"Optimization failed to converge. Check mle_retvals.\",\n"
     ]
    },
    {
     "name": "stdout",
     "output_type": "stream",
     "text": [
      "ok\n",
      "rmse  1.541419024208305\n",
      "42\n",
      "['mul', False, 'mul', 288, False, True]\n",
      "ok\n",
      "rmse  1.8719273002878387\n",
      "43\n",
      "['mul', False, 'mul', 288, False, False]\n",
      "ok\n",
      "rmse  1.867288592280311\n",
      "44\n",
      "['mul', False, None, 288, True, True]\n",
      "ok\n",
      "rmse  0.054237346908928834\n",
      "45\n",
      "['mul', False, None, 288, True, False]\n",
      "ok\n",
      "rmse  0.05381382051135853\n",
      "46\n",
      "['mul', False, None, 288, False, True]\n",
      "ok\n",
      "rmse  0.05072489782188944\n",
      "47\n",
      "['mul', False, None, 288, False, False]\n",
      "ok\n",
      "rmse  0.05044598216958194\n",
      "48\n",
      "[None, True, 'add', 288, True, True]\n"
     ]
    },
    {
     "name": "stderr",
     "output_type": "stream",
     "text": [
      "/home/laura/anaconda3/envs/jupyterEnv/lib/python3.8/site-packages/statsmodels/tsa/holtwinters.py:743: ConvergenceWarning: Optimization failed to converge. Check mle_retvals.\n",
      "  warn(\"Optimization failed to converge. Check mle_retvals.\",\n"
     ]
    },
    {
     "name": "stdout",
     "output_type": "stream",
     "text": [
      "ok\n",
      "rmse  2.2979572244375004\n",
      "49\n",
      "[None, True, 'add', 288, True, False]\n"
     ]
    },
    {
     "name": "stderr",
     "output_type": "stream",
     "text": [
      "/home/laura/anaconda3/envs/jupyterEnv/lib/python3.8/site-packages/statsmodels/tsa/holtwinters.py:743: ConvergenceWarning: Optimization failed to converge. Check mle_retvals.\n",
      "  warn(\"Optimization failed to converge. Check mle_retvals.\",\n"
     ]
    },
    {
     "name": "stdout",
     "output_type": "stream",
     "text": [
      "ok\n",
      "rmse  2.3040225914231396\n",
      "50\n",
      "[None, True, 'add', 288, False, True]\n"
     ]
    },
    {
     "name": "stderr",
     "output_type": "stream",
     "text": [
      "/home/laura/anaconda3/envs/jupyterEnv/lib/python3.8/site-packages/statsmodels/tsa/holtwinters.py:743: ConvergenceWarning: Optimization failed to converge. Check mle_retvals.\n",
      "  warn(\"Optimization failed to converge. Check mle_retvals.\",\n"
     ]
    },
    {
     "name": "stdout",
     "output_type": "stream",
     "text": [
      "ok\n",
      "rmse  3.1806646692666196\n",
      "51\n",
      "[None, True, 'add', 288, False, False]\n"
     ]
    },
    {
     "name": "stderr",
     "output_type": "stream",
     "text": [
      "/home/laura/anaconda3/envs/jupyterEnv/lib/python3.8/site-packages/statsmodels/tsa/holtwinters.py:743: ConvergenceWarning: Optimization failed to converge. Check mle_retvals.\n",
      "  warn(\"Optimization failed to converge. Check mle_retvals.\",\n"
     ]
    },
    {
     "name": "stdout",
     "output_type": "stream",
     "text": [
      "ok\n",
      "rmse  3.1874069027839393\n",
      "52\n",
      "[None, True, 'mul', 288, True, True]\n"
     ]
    },
    {
     "name": "stderr",
     "output_type": "stream",
     "text": [
      "/home/laura/anaconda3/envs/jupyterEnv/lib/python3.8/site-packages/statsmodels/tsa/holtwinters.py:743: ConvergenceWarning: Optimization failed to converge. Check mle_retvals.\n",
      "  warn(\"Optimization failed to converge. Check mle_retvals.\",\n"
     ]
    },
    {
     "name": "stdout",
     "output_type": "stream",
     "text": [
      "ok\n",
      "rmse  2.075796824696662\n",
      "53\n",
      "[None, True, 'mul', 288, True, False]\n"
     ]
    },
    {
     "name": "stderr",
     "output_type": "stream",
     "text": [
      "/home/laura/anaconda3/envs/jupyterEnv/lib/python3.8/site-packages/statsmodels/tsa/holtwinters.py:743: ConvergenceWarning: Optimization failed to converge. Check mle_retvals.\n",
      "  warn(\"Optimization failed to converge. Check mle_retvals.\",\n"
     ]
    },
    {
     "name": "stdout",
     "output_type": "stream",
     "text": [
      "ok\n",
      "rmse  2.081203686136402\n",
      "54\n",
      "[None, True, 'mul', 288, False, True]\n"
     ]
    },
    {
     "name": "stderr",
     "output_type": "stream",
     "text": [
      "/home/laura/anaconda3/envs/jupyterEnv/lib/python3.8/site-packages/statsmodels/tsa/holtwinters.py:743: ConvergenceWarning: Optimization failed to converge. Check mle_retvals.\n",
      "  warn(\"Optimization failed to converge. Check mle_retvals.\",\n"
     ]
    },
    {
     "name": "stdout",
     "output_type": "stream",
     "text": [
      "ok\n",
      "rmse  1.3338151663711795\n",
      "55\n",
      "[None, True, 'mul', 288, False, False]\n"
     ]
    },
    {
     "name": "stderr",
     "output_type": "stream",
     "text": [
      "/home/laura/anaconda3/envs/jupyterEnv/lib/python3.8/site-packages/statsmodels/tsa/holtwinters.py:743: ConvergenceWarning: Optimization failed to converge. Check mle_retvals.\n",
      "  warn(\"Optimization failed to converge. Check mle_retvals.\",\n"
     ]
    },
    {
     "name": "stdout",
     "output_type": "stream",
     "text": [
      "ok\n",
      "rmse  1.3384309884229537\n",
      "56\n",
      "[None, True, None, 288, True, True]\n",
      "ok\n",
      "rmse  1.534815460182622\n",
      "57\n",
      "[None, True, None, 288, True, False]\n",
      "ok\n",
      "rmse  1.5275000000000245\n",
      "58\n",
      "[None, True, None, 288, False, True]\n",
      "ok\n",
      "rmse  1.534812289101448\n",
      "59\n",
      "[None, True, None, 288, False, False]\n",
      "ok\n",
      "rmse  1.5274999999999945\n",
      "60\n",
      "[None, False, 'add', 288, True, True]\n"
     ]
    },
    {
     "name": "stderr",
     "output_type": "stream",
     "text": [
      "/home/laura/anaconda3/envs/jupyterEnv/lib/python3.8/site-packages/statsmodels/tsa/holtwinters.py:743: ConvergenceWarning: Optimization failed to converge. Check mle_retvals.\n",
      "  warn(\"Optimization failed to converge. Check mle_retvals.\",\n"
     ]
    },
    {
     "name": "stdout",
     "output_type": "stream",
     "text": [
      "ok\n",
      "rmse  2.2979572244375004\n",
      "61\n",
      "[None, False, 'add', 288, True, False]\n"
     ]
    },
    {
     "name": "stderr",
     "output_type": "stream",
     "text": [
      "/home/laura/anaconda3/envs/jupyterEnv/lib/python3.8/site-packages/statsmodels/tsa/holtwinters.py:743: ConvergenceWarning: Optimization failed to converge. Check mle_retvals.\n",
      "  warn(\"Optimization failed to converge. Check mle_retvals.\",\n"
     ]
    },
    {
     "name": "stdout",
     "output_type": "stream",
     "text": [
      "ok\n",
      "rmse  2.3040225914231396\n",
      "62\n",
      "[None, False, 'add', 288, False, True]\n"
     ]
    },
    {
     "name": "stderr",
     "output_type": "stream",
     "text": [
      "/home/laura/anaconda3/envs/jupyterEnv/lib/python3.8/site-packages/statsmodels/tsa/holtwinters.py:743: ConvergenceWarning: Optimization failed to converge. Check mle_retvals.\n",
      "  warn(\"Optimization failed to converge. Check mle_retvals.\",\n"
     ]
    },
    {
     "name": "stdout",
     "output_type": "stream",
     "text": [
      "ok\n",
      "rmse  3.1806646692666196\n",
      "63\n",
      "[None, False, 'add', 288, False, False]\n"
     ]
    },
    {
     "name": "stderr",
     "output_type": "stream",
     "text": [
      "/home/laura/anaconda3/envs/jupyterEnv/lib/python3.8/site-packages/statsmodels/tsa/holtwinters.py:743: ConvergenceWarning: Optimization failed to converge. Check mle_retvals.\n",
      "  warn(\"Optimization failed to converge. Check mle_retvals.\",\n"
     ]
    },
    {
     "name": "stdout",
     "output_type": "stream",
     "text": [
      "ok\n",
      "rmse  3.1874069027839393\n",
      "64\n",
      "[None, False, 'mul', 288, True, True]\n"
     ]
    },
    {
     "name": "stderr",
     "output_type": "stream",
     "text": [
      "/home/laura/anaconda3/envs/jupyterEnv/lib/python3.8/site-packages/statsmodels/tsa/holtwinters.py:743: ConvergenceWarning: Optimization failed to converge. Check mle_retvals.\n",
      "  warn(\"Optimization failed to converge. Check mle_retvals.\",\n"
     ]
    },
    {
     "name": "stdout",
     "output_type": "stream",
     "text": [
      "ok\n",
      "rmse  2.075796824696662\n",
      "65\n",
      "[None, False, 'mul', 288, True, False]\n"
     ]
    },
    {
     "name": "stderr",
     "output_type": "stream",
     "text": [
      "/home/laura/anaconda3/envs/jupyterEnv/lib/python3.8/site-packages/statsmodels/tsa/holtwinters.py:743: ConvergenceWarning: Optimization failed to converge. Check mle_retvals.\n",
      "  warn(\"Optimization failed to converge. Check mle_retvals.\",\n"
     ]
    },
    {
     "name": "stdout",
     "output_type": "stream",
     "text": [
      "ok\n",
      "rmse  2.081203686136402\n",
      "66\n",
      "[None, False, 'mul', 288, False, True]\n"
     ]
    },
    {
     "name": "stderr",
     "output_type": "stream",
     "text": [
      "/home/laura/anaconda3/envs/jupyterEnv/lib/python3.8/site-packages/statsmodels/tsa/holtwinters.py:743: ConvergenceWarning: Optimization failed to converge. Check mle_retvals.\n",
      "  warn(\"Optimization failed to converge. Check mle_retvals.\",\n"
     ]
    },
    {
     "name": "stdout",
     "output_type": "stream",
     "text": [
      "ok\n",
      "rmse  1.3338151663711795\n",
      "67\n",
      "[None, False, 'mul', 288, False, False]\n",
      "ok\n",
      "rmse  1.3384309884229537\n",
      "68\n",
      "[None, False, None, 288, True, True]\n",
      "ok\n",
      "rmse  1.534815460182622\n",
      "69\n",
      "[None, False, None, 288, True, False]\n",
      "ok\n",
      "rmse  1.5275000000000245\n",
      "70\n",
      "[None, False, None, 288, False, True]\n",
      "ok\n",
      "rmse  1.534812289101448\n",
      "71\n",
      "[None, False, None, 288, False, False]\n",
      "ok\n",
      "rmse  1.5274999999999945\n"
     ]
    },
    {
     "name": "stderr",
     "output_type": "stream",
     "text": [
      "/home/laura/anaconda3/envs/jupyterEnv/lib/python3.8/site-packages/statsmodels/tsa/holtwinters.py:743: ConvergenceWarning: Optimization failed to converge. Check mle_retvals.\n",
      "  warn(\"Optimization failed to converge. Check mle_retvals.\",\n"
     ]
    }
   ],
   "source": [
    "import numpy as np\n",
    "\n",
    "ts = df.copy()\n",
    "\n",
    "print(\"Holt's Winter Model\")\n",
    "best_RMSE = np.inf\n",
    "best_config = []\n",
    "t1 = d1 = s1 = p1 = b1 = r1 = ''\n",
    "for j in range(len(cfg_list)):\n",
    "    print(j)\n",
    "    try:\n",
    "        cg = cfg_list[j]\n",
    "        print(cg)\n",
    "        t,d,s,p,b,r = cg\n",
    "        train = df_train.humidity.copy()\n",
    "        test = df_test.humidity.copy()\n",
    "        # define model\n",
    "        if (t == None):\n",
    "            model = ExponentialSmoothing(train, trend=t, seasonal=s, seasonal_periods=p)\n",
    "        else:\n",
    "            model = ExponentialSmoothing(train, trend=t, damped=d, seasonal=s, seasonal_periods=p)\n",
    "        # fit model\n",
    "        model_fit = model.fit(optimized=True, use_boxcox=b, remove_bias=r)\n",
    "        # make one step forecast\n",
    "        y_forecast = model_fit.forecast(end_pred)\n",
    "        print('ok')\n",
    "        rmse = mean_squared_error(test[:end_pred],y_forecast)\n",
    "        print('rmse ',rmse)\n",
    "        if rmse < best_RMSE:\n",
    "            best_RMSE = rmse\n",
    "            best_config = cfg_list[j]\n",
    "    except:\n",
    "       continue\n",
    "\n"
   ]
  },
  {
   "cell_type": "code",
   "execution_count": 35,
   "metadata": {},
   "outputs": [
    {
     "name": "stdout",
     "output_type": "stream",
     "text": [
      "0.05044598216958194 ['mul', False, None, 288, False, False]\n"
     ]
    }
   ],
   "source": [
    "print(best_RMSE, best_config)"
   ]
  },
  {
   "cell_type": "code",
   "execution_count": 37,
   "metadata": {},
   "outputs": [
    {
     "name": "stdout",
     "output_type": "stream",
     "text": [
      "                       ExponentialSmoothing Model Results                       \n",
      "================================================================================\n",
      "Dep. Variable:                    endog   No. Observations:                 2304\n",
      "Model:             ExponentialSmoothing   SSE                             83.248\n",
      "Optimized:                         True   AIC                          -7642.620\n",
      "Trend:                         Additive   BIC                          -7619.650\n",
      "Seasonal:                          None   AICC                         -7642.583\n",
      "Seasonal Periods:                  None   Date:                 Thu, 16 Jul 2020\n",
      "Box-Cox:                          False   Time:                         14:38:54\n",
      "Box-Cox Coeff.:                    None                                         \n",
      "==============================================================================\n",
      "                       coeff                 code              optimized      \n",
      "------------------------------------------------------------------------------\n",
      "smoothing_level            1.0000000                alpha                 True\n",
      "smoothing_slope            0.4597736                 beta                 True\n",
      "initial_level              46.539732                  l.0                 True\n",
      "initial_slope               0.000000                  b.0                 True\n",
      "------------------------------------------------------------------------------\n",
      "mse  86.46229166666673\n"
     ]
    }
   ],
   "source": [
    "model = ExponentialSmoothing(df_train.humidity,  trend='add', damped=False, seasonal=None, seasonal_periods=288)\n",
    "model_fit = model.fit(optimized=True, use_boxcox=False, remove_bias=False)\n",
    "print(model_fit.summary())\n",
    "df_forecast = model_fit.forecast(end_pred)\n",
    "mse = mean_squared_error(df_test.temperature[:end_pred],y_forecast)\n",
    "print('mse ',mse)\n",
    "\n",
    "\n",
    "#    t_params = ['add', 'mul', None]\n",
    "#    d_params = [True, False]\n",
    "#    s_params = ['add', 'mul', None]\n",
    "#    p_params = seasonal\n",
    "#    b_params = [True, False]\n",
    "#    r_params = [True, False]"
   ]
  },
  {
   "cell_type": "code",
   "execution_count": null,
   "metadata": {},
   "outputs": [],
   "source": []
  }
 ],
 "metadata": {
  "kernelspec": {
   "display_name": "Python 3",
   "language": "python",
   "name": "python3"
  },
  "language_info": {
   "codemirror_mode": {
    "name": "ipython",
    "version": 3
   },
   "file_extension": ".py",
   "mimetype": "text/x-python",
   "name": "python",
   "nbconvert_exporter": "python",
   "pygments_lexer": "ipython3",
   "version": "3.8.3"
  }
 },
 "nbformat": 4,
 "nbformat_minor": 4
}
