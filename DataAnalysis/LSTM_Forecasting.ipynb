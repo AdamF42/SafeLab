{
 "cells": [
  {
   "cell_type": "code",
   "execution_count": 3,
   "metadata": {},
   "outputs": [],
   "source": [
    "import numpy as np\n",
    "import pandas as pd\n",
    "import os\n",
    "import random\n",
    "from pandas.plotting import register_matplotlib_converters\n",
    "import matplotlib.pyplot as plt\n",
    "from scipy.stats import pearsonr\n",
    "from sklearn.metrics import mean_absolute_error\n",
    "from sklearn.preprocessing import StandardScaler\n",
    "register_matplotlib_converters()\n",
    "\n",
    "from influxdb_client import InfluxDBClient\n",
    "\n",
    "import pandas as pd\n",
    "\n",
    "from statsmodels.tsa.statespace.sarimax import SARIMAX\n",
    "\n",
    "import matplotlib.pyplot as plt\n",
    "from sklearn.metrics import mean_squared_error, mean_absolute_error\n",
    "\n",
    "from tensorflow import keras\n",
    "import seaborn as sns\n",
    "from pylab import rcParams\n",
    "import matplotlib.pyplot as plt\n",
    "from matplotlib import rc\n",
    "from numpy import array\n",
    "\n",
    "from sklearn.preprocessing import MinMaxScaler\n",
    "from sklearn.metrics import mean_squared_error\n",
    "from sklearn.metrics import r2_score\n",
    "from statsmodels.tsa.vector_ar.var_model import VAR\n",
    "\n",
    "import tensorflow as tf\n",
    "from tensorflow.keras import backend as K\n",
    "from tensorflow.keras.layers import *\n",
    "from tensorflow.keras.models import *\n",
    "from tensorflow.keras.callbacks import *\n",
    "from tensorflow.keras.optimizers import *\n",
    "from tensorflow.keras.preprocessing.sequence import TimeseriesGenerator"
   ]
  },
  {
   "cell_type": "code",
   "execution_count": 6,
   "metadata": {},
   "outputs": [],
   "source": [
    "#Auth parameters\n",
    "my_token = \"yaKfFeAsha8tNAZxvYeZBMmq-khO8tz-6Ut_PARgohiWzeW2j8BB86ND33Qbq7hR8bylmOROPQAUr-7M103_Yw==\"\n",
    "my_org = \"iot-org\"\n",
    "bucket = \"iot-demo\"\n",
    "client = InfluxDBClient(url=\"http://192.168.1.100:9999\", token=my_token, org=my_org, debug=False)"
   ]
  },
  {
   "cell_type": "code",
   "execution_count": 9,
   "metadata": {},
   "outputs": [],
   "source": [
    "days = '1d'\n",
    "n_days = 1\n",
    "window = '5m'\n",
    "\n",
    "queryTemperature = '''\n",
    "from(bucket: \"iot-demo\")\n",
    "  |> range(start: -%s, stop: now())\n",
    "  |> filter(fn: (r) => r[\"_measurement\"] == \"temperature\")\n",
    "  |> filter(fn: (r) => r[\"device\"] == \"RoomWeather\")\n",
    "  |> aggregateWindow(every: %s, fn: median)\n",
    "  ''' % (days, window)\n",
    "\n",
    "queryHumidity = '''\n",
    "from(bucket: \"iot-demo\")\n",
    "  |> range(start: -%s, stop: now())\n",
    "  |> filter(fn: (r) => r[\"_measurement\"] == \"humidity\")\n",
    "  |> filter(fn: (r) => r[\"device\"] == \"RoomWeather\")\n",
    "  |> aggregateWindow(every: %s, fn: median)\n",
    "  ''' % (days, window)\n",
    "\n",
    "queryPressure = '''\n",
    "from(bucket: \"iot-demo\")\n",
    "  |> range(start: -%s, stop: now())\n",
    "  |> filter(fn: (r) => r[\"_measurement\"] == \"pressure\")\n",
    "  |> filter(fn: (r) => r[\"device\"] == \"RoomWeather\")\n",
    "  |> aggregateWindow(every: %s, fn: median)\n",
    "  ''' % (days, window)\n",
    "\n",
    "queryPeople = '''\n",
    "from(bucket: \"iot-demo\")\n",
    "  |> range(start: -%s, stop: now())\n",
    "  |> filter(fn: (r) => r[\"_measurement\"] == \"people\")\n",
    "  |> filter(fn: (r) => r[\"device\"] == \"peopleCounter\")\n",
    "  |> toFloat()\n",
    "  |> aggregateWindow(every: %s, fn: median)\n",
    "  ''' % (days, window)"
   ]
  },
  {
   "cell_type": "code",
   "execution_count": 13,
   "metadata": {},
   "outputs": [
    {
     "name": "stdout",
     "output_type": "stream",
     "text": [
      "0\n",
      "0\n",
      "0\n"
     ]
    }
   ],
   "source": [
    "dfTemp = client.query_api().query_data_frame(org=my_org, query=queryTemperature)\n",
    "\n",
    "dfHum = client.query_api().query_data_frame(org=my_org, query=queryHumidity)\n",
    "\n",
    "dfPress = client.query_api().query_data_frame(org=my_org, query=queryPressure)\n",
    "\n",
    "#dfPeople = client.query_api().query_data_frame(org=my_org, query=queryPeople)\n",
    "\n",
    "df = pd.DataFrame(dfTemp['_time']).rename(columns={'_time':'time'})\n",
    "df['temperature'] = dfTemp['_value']\n",
    "df['humidity'] = dfHum['_value']\n",
    "df['pressure'] = dfPress['_value']\n",
    "#df['people'] = dfPeople['_value']\n",
    "df = df.set_index('time')\n",
    "df = df.asfreq(freq='300S')\n",
    "\n",
    "points_per_day = int(len(df)/n_days) \n",
    "\n",
    "df['temperature'] = df['temperature'].fillna(method='backfill').fillna(method='ffill')\n",
    "df['humidity'] = df['humidity'].fillna(method='backfill').fillna(method='ffill')\n",
    "df['pressure'] = df['pressure'].fillna(method='backfill').fillna(method='ffill')\n",
    "#df['people'] = df['people'].fillna(method='backfill').fillna(method='ffill')\n",
    "\n",
    "print(df['temperature'].isnull().sum())\n",
    "print(df['humidity'].isnull().sum())\n",
    "print(df['pressure'].isnull().sum())\n",
    "#print(df['people'].isnull().sum())"
   ]
  },
  {
   "cell_type": "code",
   "execution_count": 11,
   "metadata": {},
   "outputs": [
    {
     "name": "stdout",
     "output_type": "stream",
     "text": [
      "Model: \"sequential_1\"\n",
      "_________________________________________________________________\n",
      "Layer (type)                 Output Shape              Param #   \n",
      "=================================================================\n",
      "lstm_2 (LSTM)                (None, 96, 32)            4608      \n",
      "_________________________________________________________________\n",
      "lstm_3 (LSTM)                (None, 16)                3136      \n",
      "_________________________________________________________________\n",
      "dense_1 (Dense)              (None, 24)                408       \n",
      "=================================================================\n",
      "Total params: 8,152\n",
      "Trainable params: 8,152\n",
      "Non-trainable params: 0\n",
      "_________________________________________________________________\n"
     ]
    }
   ],
   "source": [
    "multi_step_model = tf.keras.models.load_model('./24_step_model')\n",
    "multi_step_model.summary()"
   ]
  },
  {
   "cell_type": "code",
   "execution_count": 33,
   "metadata": {},
   "outputs": [
    {
     "data": {
      "text/html": [
       "<div>\n",
       "<style scoped>\n",
       "    .dataframe tbody tr th:only-of-type {\n",
       "        vertical-align: middle;\n",
       "    }\n",
       "\n",
       "    .dataframe tbody tr th {\n",
       "        vertical-align: top;\n",
       "    }\n",
       "\n",
       "    .dataframe thead th {\n",
       "        text-align: right;\n",
       "    }\n",
       "</style>\n",
       "<table border=\"1\" class=\"dataframe\">\n",
       "  <thead>\n",
       "    <tr style=\"text-align: right;\">\n",
       "      <th></th>\n",
       "      <th>pressure</th>\n",
       "      <th>temperature</th>\n",
       "      <th>humidity</th>\n",
       "    </tr>\n",
       "    <tr>\n",
       "      <th>time</th>\n",
       "      <th></th>\n",
       "      <th></th>\n",
       "      <th></th>\n",
       "    </tr>\n",
       "  </thead>\n",
       "  <tbody>\n",
       "    <tr>\n",
       "      <th>2020-07-17 15:35:00+00:00</th>\n",
       "      <td>1016.5</td>\n",
       "      <td>29.65</td>\n",
       "      <td>52.70</td>\n",
       "    </tr>\n",
       "    <tr>\n",
       "      <th>2020-07-17 15:40:00+00:00</th>\n",
       "      <td>1016.5</td>\n",
       "      <td>29.60</td>\n",
       "      <td>52.50</td>\n",
       "    </tr>\n",
       "    <tr>\n",
       "      <th>2020-07-17 15:45:00+00:00</th>\n",
       "      <td>1016.5</td>\n",
       "      <td>29.65</td>\n",
       "      <td>52.45</td>\n",
       "    </tr>\n",
       "    <tr>\n",
       "      <th>2020-07-17 15:50:00+00:00</th>\n",
       "      <td>1016.5</td>\n",
       "      <td>29.70</td>\n",
       "      <td>52.50</td>\n",
       "    </tr>\n",
       "    <tr>\n",
       "      <th>2020-07-17 15:55:00+00:00</th>\n",
       "      <td>1016.5</td>\n",
       "      <td>29.65</td>\n",
       "      <td>52.40</td>\n",
       "    </tr>\n",
       "  </tbody>\n",
       "</table>\n",
       "</div>"
      ],
      "text/plain": [
       "                           pressure  temperature  humidity\n",
       "time                                                      \n",
       "2020-07-17 15:35:00+00:00    1016.5        29.65     52.70\n",
       "2020-07-17 15:40:00+00:00    1016.5        29.60     52.50\n",
       "2020-07-17 15:45:00+00:00    1016.5        29.65     52.45\n",
       "2020-07-17 15:50:00+00:00    1016.5        29.70     52.50\n",
       "2020-07-17 15:55:00+00:00    1016.5        29.65     52.40"
      ]
     },
     "execution_count": 33,
     "metadata": {},
     "output_type": "execute_result"
    }
   ],
   "source": [
    "features_considered = ['pressure', 'temperature', 'humidity']\n",
    "features = df[features_considered]\n",
    "features.index = df.index\n",
    "features.tail()"
   ]
  },
  {
   "cell_type": "code",
   "execution_count": 19,
   "metadata": {},
   "outputs": [],
   "source": [
    "def multivariate_data(dataset, step):\n",
    "    data = []\n",
    "\n",
    "    start_index = 0\n",
    "    end_index = len(dataset)\n",
    "    \n",
    "    indices = range(start_index, end_index, step)\n",
    "    data.append(dataset[indices])\n",
    "    \n",
    "    return np.array(data)"
   ]
  },
  {
   "cell_type": "code",
   "execution_count": 55,
   "metadata": {},
   "outputs": [
    {
     "name": "stdout",
     "output_type": "stream",
     "text": [
      "[0.66733476 1.1757328  5.39177681]\n",
      "[1016.19046586   29.33055556   50.75434028]\n"
     ]
    }
   ],
   "source": [
    "dataset = features.values\n",
    "#data_std = [2.76686183, 1.79688863, 4.73249127]\n",
    "#data_mean = [1019.7463781 ,   29.91076259,   42.72058701]\n",
    "\n",
    "data_mean = dataset.mean(axis=0)\n",
    "data_std = dataset.std(axis=0)\n",
    "\n",
    "dataset = (dataset-data_mean)/data_std\n",
    "\n",
    "print(data_std)\n",
    "print(data_mean)\n"
   ]
  },
  {
   "cell_type": "code",
   "execution_count": 49,
   "metadata": {},
   "outputs": [],
   "source": [
    "prediction_input = multivariate_data(dataset, 3)"
   ]
  },
  {
   "cell_type": "code",
   "execution_count": 50,
   "metadata": {},
   "outputs": [],
   "source": [
    "to_be_predicted = tf.data.Dataset.from_tensor_slices(prediction_input).batch(1)"
   ]
  },
  {
   "cell_type": "code",
   "execution_count": 51,
   "metadata": {},
   "outputs": [
    {
     "data": {
      "text/plain": [
       "array([[0.6262533 , 0.60630983, 0.65382725, 0.5979245 , 0.6408693 ,\n",
       "        0.6085563 , 0.6750148 , 0.65362245, 0.6749866 , 0.7714676 ,\n",
       "        0.71237904, 0.82908756, 0.7444074 , 0.74011254, 0.7548993 ,\n",
       "        0.8071147 , 0.83650947, 0.8437196 , 0.8885894 , 0.8492024 ,\n",
       "        0.7880054 , 0.9027425 , 0.8763484 , 0.8394311 ]], dtype=float32)"
      ]
     },
     "execution_count": 51,
     "metadata": {},
     "output_type": "execute_result"
    }
   ],
   "source": [
    "prediction = multi_step_model.predict(to_be_predicted)\n",
    "prediction"
   ]
  },
  {
   "cell_type": "code",
   "execution_count": 52,
   "metadata": {},
   "outputs": [
    {
     "data": {
      "text/plain": [
       "array([[30.066862, 30.043413, 30.099281, 30.033554, 30.084045, 30.046055,\n",
       "        30.124191, 30.099041, 30.124159, 30.237595, 30.168123, 30.30534 ,\n",
       "        30.20578 , 30.20073 , 30.218115, 30.279507, 30.314066, 30.322544,\n",
       "        30.3753  , 30.32899 , 30.257038, 30.39194 , 30.360907, 30.317501]],\n",
       "      dtype=float32)"
      ]
     },
     "execution_count": 52,
     "metadata": {},
     "output_type": "execute_result"
    }
   ],
   "source": [
    "prediction_t = (data_std[1]*prediction) + data_mean[1]\n",
    "prediction_t"
   ]
  },
  {
   "cell_type": "code",
   "execution_count": 53,
   "metadata": {},
   "outputs": [
    {
     "data": {
      "text/plain": [
       "DatetimeIndex(['2020-07-17 15:55:00+00:00', '2020-07-17 16:00:00+00:00',\n",
       "               '2020-07-17 16:05:00+00:00', '2020-07-17 16:10:00+00:00',\n",
       "               '2020-07-17 16:15:00+00:00', '2020-07-17 16:20:00+00:00',\n",
       "               '2020-07-17 16:25:00+00:00', '2020-07-17 16:30:00+00:00',\n",
       "               '2020-07-17 16:35:00+00:00', '2020-07-17 16:40:00+00:00',\n",
       "               '2020-07-17 16:45:00+00:00', '2020-07-17 16:50:00+00:00',\n",
       "               '2020-07-17 16:55:00+00:00', '2020-07-17 17:00:00+00:00',\n",
       "               '2020-07-17 17:05:00+00:00', '2020-07-17 17:10:00+00:00',\n",
       "               '2020-07-17 17:15:00+00:00', '2020-07-17 17:20:00+00:00',\n",
       "               '2020-07-17 17:25:00+00:00', '2020-07-17 17:30:00+00:00',\n",
       "               '2020-07-17 17:35:00+00:00', '2020-07-17 17:40:00+00:00',\n",
       "               '2020-07-17 17:45:00+00:00', '2020-07-17 17:50:00+00:00'],\n",
       "              dtype='datetime64[ns, UTC]', freq='300S')"
      ]
     },
     "execution_count": 53,
     "metadata": {},
     "output_type": "execute_result"
    }
   ],
   "source": [
    "dti = pd.date_range('2020-07-17 15:55:00+00:00', periods=24, freq='300S')\n",
    "dti"
   ]
  },
  {
   "cell_type": "code",
   "execution_count": 54,
   "metadata": {},
   "outputs": [
    {
     "data": {
      "text/html": [
       "<div>\n",
       "<style scoped>\n",
       "    .dataframe tbody tr th:only-of-type {\n",
       "        vertical-align: middle;\n",
       "    }\n",
       "\n",
       "    .dataframe tbody tr th {\n",
       "        vertical-align: top;\n",
       "    }\n",
       "\n",
       "    .dataframe thead th {\n",
       "        text-align: right;\n",
       "    }\n",
       "</style>\n",
       "<table border=\"1\" class=\"dataframe\">\n",
       "  <thead>\n",
       "    <tr style=\"text-align: right;\">\n",
       "      <th></th>\n",
       "      <th>temperature</th>\n",
       "    </tr>\n",
       "    <tr>\n",
       "      <th>time</th>\n",
       "      <th></th>\n",
       "    </tr>\n",
       "  </thead>\n",
       "  <tbody>\n",
       "    <tr>\n",
       "      <th>2020-07-17 15:55:00</th>\n",
       "      <td>30.066862</td>\n",
       "    </tr>\n",
       "    <tr>\n",
       "      <th>2020-07-17 16:00:00</th>\n",
       "      <td>30.043413</td>\n",
       "    </tr>\n",
       "    <tr>\n",
       "      <th>2020-07-17 16:05:00</th>\n",
       "      <td>30.099281</td>\n",
       "    </tr>\n",
       "    <tr>\n",
       "      <th>2020-07-17 16:10:00</th>\n",
       "      <td>30.033554</td>\n",
       "    </tr>\n",
       "    <tr>\n",
       "      <th>2020-07-17 16:15:00</th>\n",
       "      <td>30.084045</td>\n",
       "    </tr>\n",
       "    <tr>\n",
       "      <th>2020-07-17 16:20:00</th>\n",
       "      <td>30.046055</td>\n",
       "    </tr>\n",
       "    <tr>\n",
       "      <th>2020-07-17 16:25:00</th>\n",
       "      <td>30.124191</td>\n",
       "    </tr>\n",
       "    <tr>\n",
       "      <th>2020-07-17 16:30:00</th>\n",
       "      <td>30.099041</td>\n",
       "    </tr>\n",
       "    <tr>\n",
       "      <th>2020-07-17 16:35:00</th>\n",
       "      <td>30.124159</td>\n",
       "    </tr>\n",
       "    <tr>\n",
       "      <th>2020-07-17 16:40:00</th>\n",
       "      <td>30.237595</td>\n",
       "    </tr>\n",
       "    <tr>\n",
       "      <th>2020-07-17 16:45:00</th>\n",
       "      <td>30.168123</td>\n",
       "    </tr>\n",
       "    <tr>\n",
       "      <th>2020-07-17 16:50:00</th>\n",
       "      <td>30.305340</td>\n",
       "    </tr>\n",
       "    <tr>\n",
       "      <th>2020-07-17 16:55:00</th>\n",
       "      <td>30.205780</td>\n",
       "    </tr>\n",
       "    <tr>\n",
       "      <th>2020-07-17 17:00:00</th>\n",
       "      <td>30.200729</td>\n",
       "    </tr>\n",
       "    <tr>\n",
       "      <th>2020-07-17 17:05:00</th>\n",
       "      <td>30.218115</td>\n",
       "    </tr>\n",
       "    <tr>\n",
       "      <th>2020-07-17 17:10:00</th>\n",
       "      <td>30.279507</td>\n",
       "    </tr>\n",
       "    <tr>\n",
       "      <th>2020-07-17 17:15:00</th>\n",
       "      <td>30.314066</td>\n",
       "    </tr>\n",
       "    <tr>\n",
       "      <th>2020-07-17 17:20:00</th>\n",
       "      <td>30.322544</td>\n",
       "    </tr>\n",
       "    <tr>\n",
       "      <th>2020-07-17 17:25:00</th>\n",
       "      <td>30.375299</td>\n",
       "    </tr>\n",
       "    <tr>\n",
       "      <th>2020-07-17 17:30:00</th>\n",
       "      <td>30.328991</td>\n",
       "    </tr>\n",
       "    <tr>\n",
       "      <th>2020-07-17 17:35:00</th>\n",
       "      <td>30.257038</td>\n",
       "    </tr>\n",
       "    <tr>\n",
       "      <th>2020-07-17 17:40:00</th>\n",
       "      <td>30.391939</td>\n",
       "    </tr>\n",
       "    <tr>\n",
       "      <th>2020-07-17 17:45:00</th>\n",
       "      <td>30.360907</td>\n",
       "    </tr>\n",
       "    <tr>\n",
       "      <th>2020-07-17 17:50:00</th>\n",
       "      <td>30.317501</td>\n",
       "    </tr>\n",
       "  </tbody>\n",
       "</table>\n",
       "</div>"
      ],
      "text/plain": [
       "                     temperature\n",
       "time                            \n",
       "2020-07-17 15:55:00    30.066862\n",
       "2020-07-17 16:00:00    30.043413\n",
       "2020-07-17 16:05:00    30.099281\n",
       "2020-07-17 16:10:00    30.033554\n",
       "2020-07-17 16:15:00    30.084045\n",
       "2020-07-17 16:20:00    30.046055\n",
       "2020-07-17 16:25:00    30.124191\n",
       "2020-07-17 16:30:00    30.099041\n",
       "2020-07-17 16:35:00    30.124159\n",
       "2020-07-17 16:40:00    30.237595\n",
       "2020-07-17 16:45:00    30.168123\n",
       "2020-07-17 16:50:00    30.305340\n",
       "2020-07-17 16:55:00    30.205780\n",
       "2020-07-17 17:00:00    30.200729\n",
       "2020-07-17 17:05:00    30.218115\n",
       "2020-07-17 17:10:00    30.279507\n",
       "2020-07-17 17:15:00    30.314066\n",
       "2020-07-17 17:20:00    30.322544\n",
       "2020-07-17 17:25:00    30.375299\n",
       "2020-07-17 17:30:00    30.328991\n",
       "2020-07-17 17:35:00    30.257038\n",
       "2020-07-17 17:40:00    30.391939\n",
       "2020-07-17 17:45:00    30.360907\n",
       "2020-07-17 17:50:00    30.317501"
      ]
     },
     "execution_count": 54,
     "metadata": {},
     "output_type": "execute_result"
    }
   ],
   "source": [
    "rdf = pd.DataFrame(dti.values, columns = ['time'])\n",
    "rdf['temperature'] = prediction_t[0]\n",
    "rdf = rdf.set_index('time')\n",
    "rdf\n"
   ]
  },
  {
   "cell_type": "code",
   "execution_count": null,
   "metadata": {},
   "outputs": [],
   "source": []
  }
 ],
 "metadata": {
  "kernelspec": {
   "display_name": "Python 3",
   "language": "python",
   "name": "python3"
  },
  "language_info": {
   "codemirror_mode": {
    "name": "ipython",
    "version": 3
   },
   "file_extension": ".py",
   "mimetype": "text/x-python",
   "name": "python",
   "nbconvert_exporter": "python",
   "pygments_lexer": "ipython3",
   "version": "3.8.3"
  }
 },
 "nbformat": 4,
 "nbformat_minor": 4
}
